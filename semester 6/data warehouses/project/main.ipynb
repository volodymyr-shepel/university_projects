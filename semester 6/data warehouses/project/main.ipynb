{
 "cells": [
  {
   "cell_type": "code",
   "execution_count": 1,
   "id": "initial_id",
   "metadata": {
    "collapsed": true,
    "ExecuteTime": {
     "end_time": "2024-06-13T15:17:29.480916Z",
     "start_time": "2024-06-13T15:17:26.959823Z"
    }
   },
   "outputs": [],
   "source": [
    "import pandas as pd"
   ]
  },
  {
   "cell_type": "code",
   "outputs": [],
   "source": [
    "df = pd.read_csv(\"./data/crimes_weather.csv\")"
   ],
   "metadata": {
    "collapsed": false,
    "ExecuteTime": {
     "end_time": "2024-06-13T15:21:59.228561Z",
     "start_time": "2024-06-13T15:21:54.221438Z"
    }
   },
   "id": "eaa924d616b88ab3",
   "execution_count": 3
  },
  {
   "cell_type": "code",
   "outputs": [
    {
     "data": {
      "text/plain": "              DATE OCC  AREA  AREA NAME  Crm Cd  \\\n0  2020-03-01 21:30:00     7   Wilshire     510   \n1  2020-02-08 18:00:00     1    Central     330   \n2  2020-11-04 17:00:00     3  Southwest     480   \n3  2020-03-10 20:37:00     9   Van Nuys     343   \n4  2020-08-17 12:00:00     6  Hollywood     354   \n\n                                Crm Cd Desc  Vict Age Vict Sex Vict Descent  \\\n0                          VEHICLE - STOLEN         0        M            O   \n1                     BURGLARY FROM VEHICLE        47        M            O   \n2                             BIKE - STOLEN        19        X            X   \n3  SHOPLIFTING-GRAND THEFT ($950.01 & OVER)        19        M            O   \n4                         THEFT OF IDENTITY        28        M            H   \n\n   Premis Cd                                   Premis Desc  ...  Pressure(in)  \\\n0      101.0                                        STREET  ...         29.73   \n1      128.0             BUS STOP/LAYOVER (ALSO QUERY 124)  ...         29.09   \n2      502.0  MULTI-UNIT DWELLING (APARTMENT, DUPLEX, ETC)  ...         29.81   \n3      405.0                                CLOTHING STORE  ...         29.95   \n4      102.0                                      SIDEWALK  ...         29.72   \n\n  Visibility(mi) Wind_Direction  Wind_Speed(mph)  Precipitation(in)  \\\n0           10.0              E              5.0                0.0   \n1           10.0              S              9.0                0.0   \n2           10.0              W              5.0                0.0   \n3           10.0            ESE              5.0                0.0   \n4           10.0              W              3.0                0.0   \n\n  Weather_Condition  Sunrise_Sunset  Civil_Twilight  Nautical_Twilight  \\\n0            Cloudy           Night           Night              Night   \n1              Fair           Night           Night                Day   \n2              Fair             Day             Day                Day   \n3            Cloudy           Night           Night              Night   \n4              Fair             Day             Day                Day   \n\n   Astronomical_Twilight  \n0                  Night  \n1                    Day  \n2                    Day  \n3                  Night  \n4                    Day  \n\n[5 rows x 29 columns]",
      "text/html": "<div>\n<style scoped>\n    .dataframe tbody tr th:only-of-type {\n        vertical-align: middle;\n    }\n\n    .dataframe tbody tr th {\n        vertical-align: top;\n    }\n\n    .dataframe thead th {\n        text-align: right;\n    }\n</style>\n<table border=\"1\" class=\"dataframe\">\n  <thead>\n    <tr style=\"text-align: right;\">\n      <th></th>\n      <th>DATE OCC</th>\n      <th>AREA</th>\n      <th>AREA NAME</th>\n      <th>Crm Cd</th>\n      <th>Crm Cd Desc</th>\n      <th>Vict Age</th>\n      <th>Vict Sex</th>\n      <th>Vict Descent</th>\n      <th>Premis Cd</th>\n      <th>Premis Desc</th>\n      <th>...</th>\n      <th>Pressure(in)</th>\n      <th>Visibility(mi)</th>\n      <th>Wind_Direction</th>\n      <th>Wind_Speed(mph)</th>\n      <th>Precipitation(in)</th>\n      <th>Weather_Condition</th>\n      <th>Sunrise_Sunset</th>\n      <th>Civil_Twilight</th>\n      <th>Nautical_Twilight</th>\n      <th>Astronomical_Twilight</th>\n    </tr>\n  </thead>\n  <tbody>\n    <tr>\n      <th>0</th>\n      <td>2020-03-01 21:30:00</td>\n      <td>7</td>\n      <td>Wilshire</td>\n      <td>510</td>\n      <td>VEHICLE - STOLEN</td>\n      <td>0</td>\n      <td>M</td>\n      <td>O</td>\n      <td>101.0</td>\n      <td>STREET</td>\n      <td>...</td>\n      <td>29.73</td>\n      <td>10.0</td>\n      <td>E</td>\n      <td>5.0</td>\n      <td>0.0</td>\n      <td>Cloudy</td>\n      <td>Night</td>\n      <td>Night</td>\n      <td>Night</td>\n      <td>Night</td>\n    </tr>\n    <tr>\n      <th>1</th>\n      <td>2020-02-08 18:00:00</td>\n      <td>1</td>\n      <td>Central</td>\n      <td>330</td>\n      <td>BURGLARY FROM VEHICLE</td>\n      <td>47</td>\n      <td>M</td>\n      <td>O</td>\n      <td>128.0</td>\n      <td>BUS STOP/LAYOVER (ALSO QUERY 124)</td>\n      <td>...</td>\n      <td>29.09</td>\n      <td>10.0</td>\n      <td>S</td>\n      <td>9.0</td>\n      <td>0.0</td>\n      <td>Fair</td>\n      <td>Night</td>\n      <td>Night</td>\n      <td>Day</td>\n      <td>Day</td>\n    </tr>\n    <tr>\n      <th>2</th>\n      <td>2020-11-04 17:00:00</td>\n      <td>3</td>\n      <td>Southwest</td>\n      <td>480</td>\n      <td>BIKE - STOLEN</td>\n      <td>19</td>\n      <td>X</td>\n      <td>X</td>\n      <td>502.0</td>\n      <td>MULTI-UNIT DWELLING (APARTMENT, DUPLEX, ETC)</td>\n      <td>...</td>\n      <td>29.81</td>\n      <td>10.0</td>\n      <td>W</td>\n      <td>5.0</td>\n      <td>0.0</td>\n      <td>Fair</td>\n      <td>Day</td>\n      <td>Day</td>\n      <td>Day</td>\n      <td>Day</td>\n    </tr>\n    <tr>\n      <th>3</th>\n      <td>2020-03-10 20:37:00</td>\n      <td>9</td>\n      <td>Van Nuys</td>\n      <td>343</td>\n      <td>SHOPLIFTING-GRAND THEFT ($950.01 &amp; OVER)</td>\n      <td>19</td>\n      <td>M</td>\n      <td>O</td>\n      <td>405.0</td>\n      <td>CLOTHING STORE</td>\n      <td>...</td>\n      <td>29.95</td>\n      <td>10.0</td>\n      <td>ESE</td>\n      <td>5.0</td>\n      <td>0.0</td>\n      <td>Cloudy</td>\n      <td>Night</td>\n      <td>Night</td>\n      <td>Night</td>\n      <td>Night</td>\n    </tr>\n    <tr>\n      <th>4</th>\n      <td>2020-08-17 12:00:00</td>\n      <td>6</td>\n      <td>Hollywood</td>\n      <td>354</td>\n      <td>THEFT OF IDENTITY</td>\n      <td>28</td>\n      <td>M</td>\n      <td>H</td>\n      <td>102.0</td>\n      <td>SIDEWALK</td>\n      <td>...</td>\n      <td>29.72</td>\n      <td>10.0</td>\n      <td>W</td>\n      <td>3.0</td>\n      <td>0.0</td>\n      <td>Fair</td>\n      <td>Day</td>\n      <td>Day</td>\n      <td>Day</td>\n      <td>Day</td>\n    </tr>\n  </tbody>\n</table>\n<p>5 rows × 29 columns</p>\n</div>"
     },
     "execution_count": 7,
     "metadata": {},
     "output_type": "execute_result"
    }
   ],
   "source": [
    "df.head(5)"
   ],
   "metadata": {
    "collapsed": false,
    "ExecuteTime": {
     "end_time": "2024-06-13T15:26:00.767206Z",
     "start_time": "2024-06-13T15:26:00.733361Z"
    }
   },
   "id": "aec95e0b8a386dcd",
   "execution_count": 7
  },
  {
   "cell_type": "code",
   "outputs": [],
   "source": [
    "# Filter rows where year is 2024\n",
    "# Convert 'DATE OCC' column to datetime format\n",
    "df['DATE OCC'] = pd.to_datetime(df['DATE OCC'], format='%Y-%m-%d %H:%M:%S')\n",
    "\n",
    "\n",
    "df_2024 = df[df['DATE OCC'].dt.year == 2024]\n",
    "\n",
    "# Filter rows where year is not 2024\n",
    "df_non_2024 = df[df['DATE OCC'].dt.year != 2024]\n",
    "\n",
    "# Save the filtered data into separate CSV files\n",
    "df_2024.to_csv('data_2024.csv', index=False)\n",
    "df_non_2024.to_csv('data_non_2024.csv', index=False)"
   ],
   "metadata": {
    "collapsed": false,
    "ExecuteTime": {
     "end_time": "2024-06-13T15:26:49.785163Z",
     "start_time": "2024-06-13T15:26:34.644451Z"
    }
   },
   "id": "b9c2fe4006838803",
   "execution_count": 8
  }
 ],
 "metadata": {
  "kernelspec": {
   "display_name": "Python 3",
   "language": "python",
   "name": "python3"
  },
  "language_info": {
   "codemirror_mode": {
    "name": "ipython",
    "version": 2
   },
   "file_extension": ".py",
   "mimetype": "text/x-python",
   "name": "python",
   "nbconvert_exporter": "python",
   "pygments_lexer": "ipython2",
   "version": "2.7.6"
  }
 },
 "nbformat": 4,
 "nbformat_minor": 5
}

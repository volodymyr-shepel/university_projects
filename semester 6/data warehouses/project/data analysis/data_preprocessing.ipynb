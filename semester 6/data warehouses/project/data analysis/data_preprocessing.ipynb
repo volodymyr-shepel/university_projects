{
 "cells": [
  {
   "cell_type": "code",
   "outputs": [],
   "source": [
    "import pandas as pd"
   ],
   "metadata": {
    "collapsed": false,
    "ExecuteTime": {
     "end_time": "2024-06-01T14:28:35.633689Z",
     "start_time": "2024-06-01T14:28:35.629735Z"
    }
   },
   "id": "4d8b9950ade69773",
   "execution_count": 89
  },
  {
   "cell_type": "code",
   "execution_count": 1,
   "id": "initial_id",
   "metadata": {
    "collapsed": true,
    "ExecuteTime": {
     "end_time": "2024-06-01T12:22:05.938561Z",
     "start_time": "2024-06-01T12:19:23.101598Z"
    }
   },
   "outputs": [],
   "source": [
    "# los angeles accidents 2020 - present\n",
    "# us accidents 2016 - 2023\n",
    "los_angeles_crimes_df = pd.read_csv(\"./data/los_angeles_crimes.csv\")\n",
    "us_accidents_df = pd.read_csv(\"./data/us_accidents.csv\")\n"
   ]
  },
  {
   "cell_type": "markdown",
   "source": [
    "# Prepare us_accidents before merge"
   ],
   "metadata": {
    "collapsed": false
   },
   "id": "49b2dc7380fcce44"
  },
  {
   "cell_type": "code",
   "outputs": [],
   "source": [
    "# change weather timestamp to datetime\n",
    "us_accidents_df['Weather_Timestamp'] = pd.to_datetime(us_accidents_df['Weather_Timestamp'], format='%Y-%m-%d %H:%M:%S',)"
   ],
   "metadata": {
    "collapsed": false,
    "ExecuteTime": {
     "end_time": "2024-06-01T12:50:51.944475Z",
     "start_time": "2024-06-01T12:50:51.866321Z"
    }
   },
   "id": "92a842b6a1d005fb",
   "execution_count": 42
  },
  {
   "cell_type": "code",
   "outputs": [],
   "source": [
    "los_angeles_accidents_df = us_accidents_df[us_accidents_df['City'] == 'Los Angeles']"
   ],
   "metadata": {
    "collapsed": false,
    "ExecuteTime": {
     "end_time": "2024-06-01T12:50:55.635810Z",
     "start_time": "2024-06-01T12:50:54.822198Z"
    }
   },
   "id": "bc8a8ed11fae21fe",
   "execution_count": 43
  },
  {
   "cell_type": "code",
   "outputs": [],
   "source": [
    "los_angeles_accidents_df = los_angeles_accidents_df[los_angeles_accidents_df['Weather_Timestamp'].dt.year >= 2020]"
   ],
   "metadata": {
    "collapsed": false,
    "ExecuteTime": {
     "end_time": "2024-06-01T12:50:58.426403Z",
     "start_time": "2024-06-01T12:50:58.298453Z"
    }
   },
   "id": "cf832618b57f3404",
   "execution_count": 44
  },
  {
   "cell_type": "code",
   "outputs": [],
   "source": [
    "los_angeles_weather_df = los_angeles_accidents_df[['ID',\"Weather_Timestamp\",\"Temperature(F)\",\"Wind_Chill(F)\",\"Humidity(%)\",\"Pressure(in)\",\"Visibility(mi)\",\"Wind_Direction\",\"Wind_Speed(mph)\",\"Precipitation(in)\",\"Weather_Condition\", \"Sunrise_Sunset\", \"Civil_Twilight\",\"Nautical_Twilight\",\"Astronomical_Twilight\"]]"
   ],
   "metadata": {
    "collapsed": false,
    "ExecuteTime": {
     "end_time": "2024-06-01T14:17:16.147606Z",
     "start_time": "2024-06-01T14:17:16.096382Z"
    }
   },
   "id": "f97e3bf4693ade9c",
   "execution_count": 81
  },
  {
   "cell_type": "markdown",
   "source": [
    "## Check for duplicates"
   ],
   "metadata": {
    "collapsed": false
   },
   "id": "c98c068ae29fe29b"
  },
  {
   "cell_type": "code",
   "outputs": [
    {
     "data": {
      "text/plain": "90296"
     },
     "execution_count": 85,
     "metadata": {},
     "output_type": "execute_result"
    }
   ],
   "source": [
    "len(los_angeles_weather_df)"
   ],
   "metadata": {
    "collapsed": false,
    "ExecuteTime": {
     "end_time": "2024-06-01T14:17:33.965642Z",
     "start_time": "2024-06-01T14:17:33.954469Z"
    }
   },
   "id": "df93466ca7be0d74",
   "execution_count": 85
  },
  {
   "cell_type": "code",
   "outputs": [
    {
     "data": {
      "text/plain": "34510"
     },
     "execution_count": 86,
     "metadata": {},
     "output_type": "execute_result"
    }
   ],
   "source": [
    "# Drop duplicate records based on 'Weather_Timestamp' column\n",
    "los_angeles_weather_df = los_angeles_weather_df.drop_duplicates(subset=['Weather_Timestamp'])\n",
    "len(los_angeles_weather_df)"
   ],
   "metadata": {
    "collapsed": false,
    "ExecuteTime": {
     "end_time": "2024-06-01T14:17:36.139501Z",
     "start_time": "2024-06-01T14:17:36.116247Z"
    }
   },
   "id": "4f068bcf08411351",
   "execution_count": 86
  },
  {
   "cell_type": "code",
   "outputs": [
    {
     "data": {
      "text/plain": "              ID   Weather_Timestamp  Temperature(F)  Wind_Chill(F)  \\\n512382  A-512413 2022-09-08 12:47:00            88.0           88.0   \n512491  A-512528 2022-09-08 08:53:00            77.0           77.0   \n512492  A-512529 2022-09-08 09:47:00            79.0           79.0   \n512613  A-512664 2022-09-08 07:47:00            75.0           75.0   \n512629  A-512682 2022-09-08 05:47:00            73.0           73.0   \n\n        Humidity(%)  Pressure(in)  Visibility(mi) Wind_Direction  \\\n512382         48.0         29.59            10.0           CALM   \n512491         74.0         29.71            10.0           CALM   \n512492         60.0         29.67             9.0            VAR   \n512613         76.0         29.67            10.0           CALM   \n512629         79.0         29.65            10.0           CALM   \n\n        Wind_Speed(mph)  Precipitation(in) Weather_Condition Sunrise_Sunset  \\\n512382              0.0                0.0              Fair            Day   \n512491              0.0                0.0     Mostly Cloudy            Day   \n512492              3.0                0.0              Fair            Day   \n512613              0.0                0.0              Fair            Day   \n512629              0.0                0.0              Fair          Night   \n\n       Civil_Twilight Nautical_Twilight Astronomical_Twilight  \n512382            Day               Day                   Day  \n512491            Day               Day                   Day  \n512492            Day               Day                   Day  \n512613            Day               Day                   Day  \n512629          Night               Day                   Day  ",
      "text/html": "<div>\n<style scoped>\n    .dataframe tbody tr th:only-of-type {\n        vertical-align: middle;\n    }\n\n    .dataframe tbody tr th {\n        vertical-align: top;\n    }\n\n    .dataframe thead th {\n        text-align: right;\n    }\n</style>\n<table border=\"1\" class=\"dataframe\">\n  <thead>\n    <tr style=\"text-align: right;\">\n      <th></th>\n      <th>ID</th>\n      <th>Weather_Timestamp</th>\n      <th>Temperature(F)</th>\n      <th>Wind_Chill(F)</th>\n      <th>Humidity(%)</th>\n      <th>Pressure(in)</th>\n      <th>Visibility(mi)</th>\n      <th>Wind_Direction</th>\n      <th>Wind_Speed(mph)</th>\n      <th>Precipitation(in)</th>\n      <th>Weather_Condition</th>\n      <th>Sunrise_Sunset</th>\n      <th>Civil_Twilight</th>\n      <th>Nautical_Twilight</th>\n      <th>Astronomical_Twilight</th>\n    </tr>\n  </thead>\n  <tbody>\n    <tr>\n      <th>512382</th>\n      <td>A-512413</td>\n      <td>2022-09-08 12:47:00</td>\n      <td>88.0</td>\n      <td>88.0</td>\n      <td>48.0</td>\n      <td>29.59</td>\n      <td>10.0</td>\n      <td>CALM</td>\n      <td>0.0</td>\n      <td>0.0</td>\n      <td>Fair</td>\n      <td>Day</td>\n      <td>Day</td>\n      <td>Day</td>\n      <td>Day</td>\n    </tr>\n    <tr>\n      <th>512491</th>\n      <td>A-512528</td>\n      <td>2022-09-08 08:53:00</td>\n      <td>77.0</td>\n      <td>77.0</td>\n      <td>74.0</td>\n      <td>29.71</td>\n      <td>10.0</td>\n      <td>CALM</td>\n      <td>0.0</td>\n      <td>0.0</td>\n      <td>Mostly Cloudy</td>\n      <td>Day</td>\n      <td>Day</td>\n      <td>Day</td>\n      <td>Day</td>\n    </tr>\n    <tr>\n      <th>512492</th>\n      <td>A-512529</td>\n      <td>2022-09-08 09:47:00</td>\n      <td>79.0</td>\n      <td>79.0</td>\n      <td>60.0</td>\n      <td>29.67</td>\n      <td>9.0</td>\n      <td>VAR</td>\n      <td>3.0</td>\n      <td>0.0</td>\n      <td>Fair</td>\n      <td>Day</td>\n      <td>Day</td>\n      <td>Day</td>\n      <td>Day</td>\n    </tr>\n    <tr>\n      <th>512613</th>\n      <td>A-512664</td>\n      <td>2022-09-08 07:47:00</td>\n      <td>75.0</td>\n      <td>75.0</td>\n      <td>76.0</td>\n      <td>29.67</td>\n      <td>10.0</td>\n      <td>CALM</td>\n      <td>0.0</td>\n      <td>0.0</td>\n      <td>Fair</td>\n      <td>Day</td>\n      <td>Day</td>\n      <td>Day</td>\n      <td>Day</td>\n    </tr>\n    <tr>\n      <th>512629</th>\n      <td>A-512682</td>\n      <td>2022-09-08 05:47:00</td>\n      <td>73.0</td>\n      <td>73.0</td>\n      <td>79.0</td>\n      <td>29.65</td>\n      <td>10.0</td>\n      <td>CALM</td>\n      <td>0.0</td>\n      <td>0.0</td>\n      <td>Fair</td>\n      <td>Night</td>\n      <td>Night</td>\n      <td>Day</td>\n      <td>Day</td>\n    </tr>\n  </tbody>\n</table>\n</div>"
     },
     "execution_count": 87,
     "metadata": {},
     "output_type": "execute_result"
    }
   ],
   "source": [
    "los_angeles_weather_df.head(5)"
   ],
   "metadata": {
    "collapsed": false,
    "ExecuteTime": {
     "end_time": "2024-06-01T14:17:38.343809Z",
     "start_time": "2024-06-01T14:17:38.316319Z"
    }
   },
   "id": "90890fe67024a135",
   "execution_count": 87
  },
  {
   "cell_type": "code",
   "outputs": [
    {
     "data": {
      "text/plain": "ID                               object\nStart_Lat                       float64\nStart_Lng                       float64\nWeather_Timestamp        datetime64[ns]\nTemperature(F)                  float64\nWind_Chill(F)                   float64\nHumidity(%)                     float64\nPressure(in)                    float64\nVisibility(mi)                  float64\nWind_Direction                   object\nWind_Speed(mph)                 float64\nPrecipitation(in)               float64\nWeather_Condition                object\nSunrise_Sunset                   object\nCivil_Twilight                   object\nNautical_Twilight                object\nAstronomical_Twilight            object\ndtype: object"
     },
     "execution_count": 58,
     "metadata": {},
     "output_type": "execute_result"
    }
   ],
   "source": [
    "los_angeles_weather_df.dtypes"
   ],
   "metadata": {
    "collapsed": false,
    "ExecuteTime": {
     "end_time": "2024-06-01T13:10:49.340517Z",
     "start_time": "2024-06-01T13:10:49.331162Z"
    }
   },
   "id": "d613dcbeb200dd63",
   "execution_count": 58
  },
  {
   "cell_type": "code",
   "outputs": [
    {
     "data": {
      "text/plain": "Index(['ID', 'Weather_Timestamp', 'Temperature(F)', 'Wind_Chill(F)',\n       'Humidity(%)', 'Pressure(in)', 'Visibility(mi)', 'Wind_Direction',\n       'Wind_Speed(mph)', 'Precipitation(in)', 'Weather_Condition',\n       'Sunrise_Sunset', 'Civil_Twilight', 'Nautical_Twilight',\n       'Astronomical_Twilight'],\n      dtype='object')"
     },
     "execution_count": 88,
     "metadata": {},
     "output_type": "execute_result"
    }
   ],
   "source": [
    "los_angeles_weather_df.columns"
   ],
   "metadata": {
    "collapsed": false,
    "ExecuteTime": {
     "end_time": "2024-06-01T14:23:17.813657Z",
     "start_time": "2024-06-01T14:23:17.806220Z"
    }
   },
   "id": "f51fb970f29a43c1",
   "execution_count": 88
  },
  {
   "cell_type": "markdown",
   "source": [
    "# Prepare los_angeles_crimes before merge"
   ],
   "metadata": {
    "collapsed": false
   },
   "id": "d02251691fb26f68"
  },
  {
   "cell_type": "code",
   "outputs": [],
   "source": [
    "los_angeles_crimes_df['DATE OCC'] = pd.to_datetime(los_angeles_crimes_df['DATE OCC'], format='%m/%d/%Y %I:%M:%S %p')"
   ],
   "metadata": {
    "collapsed": false,
    "ExecuteTime": {
     "end_time": "2024-06-01T13:04:51.653946Z",
     "start_time": "2024-06-01T13:04:51.465405Z"
    }
   },
   "id": "10835c712e12fe28",
   "execution_count": 47
  },
  {
   "cell_type": "markdown",
   "source": [],
   "metadata": {
    "collapsed": false
   },
   "id": "6d306907ffa17d2f"
  },
  {
   "cell_type": "code",
   "outputs": [],
   "source": [
    "los_angeles_crimes_df = los_angeles_crimes_df[[\"DATE OCC\",'AREA','AREA NAME','Crm Cd','Crm Cd Desc','Vict Age','Vict Sex','Premis Cd','Premis Desc','Weapon Used Cd','Weapon Desc','LOCATION','LAT','LON']]"
   ],
   "metadata": {
    "collapsed": false,
    "ExecuteTime": {
     "end_time": "2024-06-01T13:22:40.134387Z",
     "start_time": "2024-06-01T13:22:39.603722Z"
    }
   },
   "id": "ae48a413539535ee",
   "execution_count": 62
  },
  {
   "cell_type": "code",
   "outputs": [
    {
     "data": {
      "text/plain": "Index(['DATE OCC', 'AREA', 'AREA NAME', 'Crm Cd', 'Crm Cd Desc', 'Vict Age',\n       'Vict Sex', 'Premis Cd', 'Premis Desc', 'Weapon Used Cd', 'Weapon Desc',\n       'LOCATION', 'LAT', 'LON'],\n      dtype='object')"
     },
     "execution_count": 63,
     "metadata": {},
     "output_type": "execute_result"
    }
   ],
   "source": [
    "los_angeles_crimes_df.columns"
   ],
   "metadata": {
    "collapsed": false,
    "ExecuteTime": {
     "end_time": "2024-06-01T13:22:44.291332Z",
     "start_time": "2024-06-01T13:22:44.280330Z"
    }
   },
   "id": "826cca32226acad0",
   "execution_count": 63
  },
  {
   "cell_type": "code",
   "outputs": [
    {
     "data": {
      "text/plain": "    DATE OCC  AREA  AREA NAME  Crm Cd  \\\n0 2020-03-01     7   Wilshire     510   \n1 2020-02-08     1    Central     330   \n2 2020-11-04     3  Southwest     480   \n3 2020-03-10     9   Van Nuys     343   \n4 2020-08-17     6  Hollywood     354   \n\n                                Crm Cd Desc  Vict Age Vict Sex  Premis Cd  \\\n0                          VEHICLE - STOLEN         0        M      101.0   \n1                     BURGLARY FROM VEHICLE        47        M      128.0   \n2                             BIKE - STOLEN        19        X      502.0   \n3  SHOPLIFTING-GRAND THEFT ($950.01 & OVER)        19        M      405.0   \n4                         THEFT OF IDENTITY        28        M      102.0   \n\n                                    Premis Desc  Weapon Used Cd Weapon Desc  \\\n0                                        STREET             NaN         NaN   \n1             BUS STOP/LAYOVER (ALSO QUERY 124)             NaN         NaN   \n2  MULTI-UNIT DWELLING (APARTMENT, DUPLEX, ETC)             NaN         NaN   \n3                                CLOTHING STORE             NaN         NaN   \n4                                      SIDEWALK             NaN         NaN   \n\n                                   LOCATION      LAT       LON  \n0   1900 S  LONGWOOD                     AV  34.0375 -118.3506  \n1   1000 S  FLOWER                       ST  34.0444 -118.2628  \n2   1400 W  37TH                         ST  34.0210 -118.3002  \n3  14000    RIVERSIDE                    DR  34.1576 -118.4387  \n4                         1900    TRANSIENT  34.0944 -118.3277  ",
      "text/html": "<div>\n<style scoped>\n    .dataframe tbody tr th:only-of-type {\n        vertical-align: middle;\n    }\n\n    .dataframe tbody tr th {\n        vertical-align: top;\n    }\n\n    .dataframe thead th {\n        text-align: right;\n    }\n</style>\n<table border=\"1\" class=\"dataframe\">\n  <thead>\n    <tr style=\"text-align: right;\">\n      <th></th>\n      <th>DATE OCC</th>\n      <th>AREA</th>\n      <th>AREA NAME</th>\n      <th>Crm Cd</th>\n      <th>Crm Cd Desc</th>\n      <th>Vict Age</th>\n      <th>Vict Sex</th>\n      <th>Premis Cd</th>\n      <th>Premis Desc</th>\n      <th>Weapon Used Cd</th>\n      <th>Weapon Desc</th>\n      <th>LOCATION</th>\n      <th>LAT</th>\n      <th>LON</th>\n    </tr>\n  </thead>\n  <tbody>\n    <tr>\n      <th>0</th>\n      <td>2020-03-01</td>\n      <td>7</td>\n      <td>Wilshire</td>\n      <td>510</td>\n      <td>VEHICLE - STOLEN</td>\n      <td>0</td>\n      <td>M</td>\n      <td>101.0</td>\n      <td>STREET</td>\n      <td>NaN</td>\n      <td>NaN</td>\n      <td>1900 S  LONGWOOD                     AV</td>\n      <td>34.0375</td>\n      <td>-118.3506</td>\n    </tr>\n    <tr>\n      <th>1</th>\n      <td>2020-02-08</td>\n      <td>1</td>\n      <td>Central</td>\n      <td>330</td>\n      <td>BURGLARY FROM VEHICLE</td>\n      <td>47</td>\n      <td>M</td>\n      <td>128.0</td>\n      <td>BUS STOP/LAYOVER (ALSO QUERY 124)</td>\n      <td>NaN</td>\n      <td>NaN</td>\n      <td>1000 S  FLOWER                       ST</td>\n      <td>34.0444</td>\n      <td>-118.2628</td>\n    </tr>\n    <tr>\n      <th>2</th>\n      <td>2020-11-04</td>\n      <td>3</td>\n      <td>Southwest</td>\n      <td>480</td>\n      <td>BIKE - STOLEN</td>\n      <td>19</td>\n      <td>X</td>\n      <td>502.0</td>\n      <td>MULTI-UNIT DWELLING (APARTMENT, DUPLEX, ETC)</td>\n      <td>NaN</td>\n      <td>NaN</td>\n      <td>1400 W  37TH                         ST</td>\n      <td>34.0210</td>\n      <td>-118.3002</td>\n    </tr>\n    <tr>\n      <th>3</th>\n      <td>2020-03-10</td>\n      <td>9</td>\n      <td>Van Nuys</td>\n      <td>343</td>\n      <td>SHOPLIFTING-GRAND THEFT ($950.01 &amp; OVER)</td>\n      <td>19</td>\n      <td>M</td>\n      <td>405.0</td>\n      <td>CLOTHING STORE</td>\n      <td>NaN</td>\n      <td>NaN</td>\n      <td>14000    RIVERSIDE                    DR</td>\n      <td>34.1576</td>\n      <td>-118.4387</td>\n    </tr>\n    <tr>\n      <th>4</th>\n      <td>2020-08-17</td>\n      <td>6</td>\n      <td>Hollywood</td>\n      <td>354</td>\n      <td>THEFT OF IDENTITY</td>\n      <td>28</td>\n      <td>M</td>\n      <td>102.0</td>\n      <td>SIDEWALK</td>\n      <td>NaN</td>\n      <td>NaN</td>\n      <td>1900    TRANSIENT</td>\n      <td>34.0944</td>\n      <td>-118.3277</td>\n    </tr>\n  </tbody>\n</table>\n</div>"
     },
     "execution_count": 64,
     "metadata": {},
     "output_type": "execute_result"
    }
   ],
   "source": [
    "los_angeles_crimes_df.head()"
   ],
   "metadata": {
    "collapsed": false,
    "ExecuteTime": {
     "end_time": "2024-06-01T13:22:47.355129Z",
     "start_time": "2024-06-01T13:22:47.328042Z"
    }
   },
   "id": "567bb33108dd7c71",
   "execution_count": 64
  },
  {
   "cell_type": "code",
   "outputs": [
    {
     "data": {
      "text/plain": "DR_NO                      int64\nDate Rptd                 object\nDATE OCC          datetime64[ns]\nTIME OCC                   int64\nAREA                       int64\nAREA NAME                 object\nRpt Dist No                int64\nPart 1-2                   int64\nCrm Cd                     int64\nCrm Cd Desc               object\nMocodes                   object\nVict Age                   int64\nVict Sex                  object\nVict Descent              object\nPremis Cd                float64\nPremis Desc               object\nWeapon Used Cd           float64\nWeapon Desc               object\nStatus                    object\nStatus Desc               object\nCrm Cd 1                 float64\nCrm Cd 2                 float64\nCrm Cd 3                 float64\nCrm Cd 4                 float64\nLOCATION                  object\nCross Street              object\nLAT                      float64\nLON                      float64\ndtype: object"
     },
     "execution_count": 59,
     "metadata": {},
     "output_type": "execute_result"
    }
   ],
   "source": [
    "los_angeles_crimes_df.dtypes"
   ],
   "metadata": {
    "collapsed": false,
    "ExecuteTime": {
     "end_time": "2024-06-01T13:11:11.911004Z",
     "start_time": "2024-06-01T13:11:11.903692Z"
    }
   },
   "id": "fea15cf0705f93e5",
   "execution_count": 59
  },
  {
   "cell_type": "code",
   "outputs": [
    {
     "data": {
      "text/plain": "Index(['DATE OCC', 'AREA', 'AREA NAME', 'Crm Cd', 'Crm Cd Desc', 'Vict Age',\n       'Vict Sex', 'Premis Cd', 'Premis Desc', 'Weapon Used Cd', 'Weapon Desc',\n       'LOCATION', 'LAT', 'LON'],\n      dtype='object')"
     },
     "execution_count": 73,
     "metadata": {},
     "output_type": "execute_result"
    }
   ],
   "source": [
    "los_angeles_crimes_df.columns"
   ],
   "metadata": {
    "collapsed": false,
    "ExecuteTime": {
     "end_time": "2024-06-01T13:34:14.637263Z",
     "start_time": "2024-06-01T13:34:14.630749Z"
    }
   },
   "id": "7381e44c37130969",
   "execution_count": 73
  },
  {
   "cell_type": "code",
   "outputs": [
    {
     "data": {
      "text/plain": "944235"
     },
     "execution_count": 71,
     "metadata": {},
     "output_type": "execute_result"
    }
   ],
   "source": [
    "len(los_angeles_crimes_df)"
   ],
   "metadata": {
    "collapsed": false,
    "ExecuteTime": {
     "end_time": "2024-06-01T13:28:52.125122Z",
     "start_time": "2024-06-01T13:28:52.120956Z"
    }
   },
   "id": "eaeb9f547d6e33de",
   "execution_count": 71
  },
  {
   "cell_type": "markdown",
   "source": [
    "# FIND CLOSEST TIMESTAMP"
   ],
   "metadata": {
    "collapsed": false
   },
   "id": "a518a43ae8169d07"
  },
  {
   "cell_type": "code",
   "outputs": [
    {
     "data": {
      "text/plain": "ID                               object\nWeather_Timestamp        datetime64[ns]\nTemperature(F)                  float64\nWind_Chill(F)                   float64\nHumidity(%)                     float64\nPressure(in)                    float64\nVisibility(mi)                  float64\nWind_Direction                   object\nWind_Speed(mph)                 float64\nPrecipitation(in)               float64\nWeather_Condition                object\nSunrise_Sunset                   object\nCivil_Twilight                   object\nNautical_Twilight                object\nAstronomical_Twilight            object\ndtype: object"
     },
     "execution_count": 94,
     "metadata": {},
     "output_type": "execute_result"
    }
   ],
   "source": [
    "los_angeles_weather_df.dtypes"
   ],
   "metadata": {
    "collapsed": false,
    "ExecuteTime": {
     "end_time": "2024-06-01T14:40:00.277377Z",
     "start_time": "2024-06-01T14:40:00.267518Z"
    }
   },
   "id": "f983f8ca5eeb4ccc",
   "execution_count": 94
  },
  {
   "cell_type": "code",
   "outputs": [
    {
     "data": {
      "text/plain": "array(['2022-09-08T12:47:00.000000000', '2022-09-08T08:53:00.000000000',\n       '2022-09-08T09:47:00.000000000', ...,\n       '2020-01-06T17:51:00.000000000', '2020-01-06T20:53:00.000000000',\n       '2020-01-06T20:52:00.000000000'], dtype='datetime64[ns]')"
     },
     "execution_count": 97,
     "metadata": {},
     "output_type": "execute_result"
    }
   ],
   "source": [
    "weather_timestamps = los_angeles_weather_df['Weather_Timestamp'].values\n",
    "weather_timestamps"
   ],
   "metadata": {
    "collapsed": false,
    "ExecuteTime": {
     "end_time": "2024-06-01T14:42:19.302631Z",
     "start_time": "2024-06-01T14:42:19.296458Z"
    }
   },
   "id": "74229febfb1ee58b",
   "execution_count": 97
  },
  {
   "cell_type": "code",
   "outputs": [],
   "source": [
    "# Sort weather dataframe by Weather_Timestamp\n",
    "los_angeles_weather_df = los_angeles_weather_df.sort_values('Weather_Timestamp').reset_index(drop=True)\n"
   ],
   "metadata": {
    "collapsed": false,
    "ExecuteTime": {
     "end_time": "2024-06-01T14:49:19.837977Z",
     "start_time": "2024-06-01T14:49:19.807554Z"
    }
   },
   "id": "8c111c37b50bd9ee",
   "execution_count": 102
  },
  {
   "cell_type": "code",
   "outputs": [],
   "source": [
    "# Extract weather timestamps\n",
    "weather_timestamps = los_angeles_weather_df['Weather_Timestamp'].values\n"
   ],
   "metadata": {
    "collapsed": false,
    "ExecuteTime": {
     "end_time": "2024-06-01T14:49:27.968191Z",
     "start_time": "2024-06-01T14:49:27.964518Z"
    }
   },
   "id": "5422178548ca1bef",
   "execution_count": 103
  },
  {
   "cell_type": "code",
   "outputs": [],
   "source": [
    "from bisect import bisect_left\n",
    "\n",
    "\n",
    "# Function to find the index of the closest weather timestamp\n",
    "def find_closest_timestamp_index(timestamp):\n",
    "    pos = bisect_left(weather_timestamps, timestamp)\n",
    "    if pos == 0:\n",
    "        return 0\n",
    "    if pos == len(weather_timestamps):\n",
    "        return len(weather_timestamps) - 1\n",
    "    before = weather_timestamps[pos - 1]\n",
    "    after = weather_timestamps[pos]\n",
    "    if after - timestamp < timestamp - before:\n",
    "        return pos\n",
    "    else:\n",
    "        return pos - 1"
   ],
   "metadata": {
    "collapsed": false,
    "ExecuteTime": {
     "end_time": "2024-06-01T14:58:38.517942Z",
     "start_time": "2024-06-01T14:58:38.512931Z"
    }
   },
   "id": "4ae0c4c25bd4a2e4",
   "execution_count": 113
  },
  {
   "cell_type": "code",
   "outputs": [],
   "source": [
    "combined_records = []\n",
    "# Iterate over each record in the crime dataframe\n",
    "for idx, crime_record in los_angeles_crimes_df.iterrows():\n",
    "    # Find the index of the closest weather data\n",
    "    closest_weather_index = find_closest_timestamp_index(crime_record['DATE OCC'])\n",
    "    # Extract the corresponding weather data\n",
    "    closest_weather_data = los_angeles_weather_df.iloc[closest_weather_index]\n",
    "    # Combine the crime record with the closest weather data\n",
    "    combined_record = pd.concat([crime_record, closest_weather_data], axis=0)\n",
    "    # Append the combined record to the list\n",
    "    combined_records.append(combined_record)\n",
    "\n",
    "# Convert the list of combined records to a DataFrame\n",
    "combined_df = pd.DataFrame(combined_records)\n",
    "\n",
    "# Reset index to maintain a clean DataFrame structure\n",
    "combined_df.reset_index(drop=True, inplace=True)\n"
   ],
   "metadata": {
    "collapsed": false,
    "ExecuteTime": {
     "end_time": "2024-06-01T15:06:26.926017Z",
     "start_time": "2024-06-01T15:01:25.067833Z"
    }
   },
   "id": "b8f605335835f41c",
   "execution_count": 115
  },
  {
   "cell_type": "code",
   "outputs": [
    {
     "data": {
      "text/plain": "    DATE OCC  AREA  AREA NAME  Crm Cd  \\\n0 2020-03-01     7   Wilshire     510   \n1 2020-02-08     1    Central     330   \n2 2020-11-04     3  Southwest     480   \n3 2020-03-10     9   Van Nuys     343   \n4 2020-08-17     6  Hollywood     354   \n\n                                Crm Cd Desc  Vict Age Vict Sex  Premis Cd  \\\n0                          VEHICLE - STOLEN         0        M      101.0   \n1                     BURGLARY FROM VEHICLE        47        M      128.0   \n2                             BIKE - STOLEN        19        X      502.0   \n3  SHOPLIFTING-GRAND THEFT ($950.01 & OVER)        19        M      405.0   \n4                         THEFT OF IDENTITY        28        M      102.0   \n\n                                    Premis Desc  Weapon Used Cd  ...  \\\n0                                        STREET             NaN  ...   \n1             BUS STOP/LAYOVER (ALSO QUERY 124)             NaN  ...   \n2  MULTI-UNIT DWELLING (APARTMENT, DUPLEX, ETC)             NaN  ...   \n3                                CLOTHING STORE             NaN  ...   \n4                                      SIDEWALK             NaN  ...   \n\n  Pressure(in) Visibility(mi)  Wind_Direction  Wind_Speed(mph)  \\\n0        29.96           10.0               E              6.0   \n1        29.85            7.0            CALM              0.0   \n2        29.84            4.0            CALM              0.0   \n3        29.92           10.0             ENE              8.0   \n4        29.71            6.0            CALM              0.0   \n\n  Precipitation(in) Weather_Condition  Sunrise_Sunset  Civil_Twilight  \\\n0               0.0              Fair           Night           Night   \n1               0.0              Fair           Night           Night   \n2               0.0              Haze           Night           Night   \n3               0.0        Light Rain           Night           Night   \n4               0.0              Haze           Night           Night   \n\n   Nautical_Twilight  Astronomical_Twilight  \n0              Night                  Night  \n1              Night                  Night  \n2              Night                  Night  \n3              Night                  Night  \n4              Night                  Night  \n\n[5 rows x 29 columns]",
      "text/html": "<div>\n<style scoped>\n    .dataframe tbody tr th:only-of-type {\n        vertical-align: middle;\n    }\n\n    .dataframe tbody tr th {\n        vertical-align: top;\n    }\n\n    .dataframe thead th {\n        text-align: right;\n    }\n</style>\n<table border=\"1\" class=\"dataframe\">\n  <thead>\n    <tr style=\"text-align: right;\">\n      <th></th>\n      <th>DATE OCC</th>\n      <th>AREA</th>\n      <th>AREA NAME</th>\n      <th>Crm Cd</th>\n      <th>Crm Cd Desc</th>\n      <th>Vict Age</th>\n      <th>Vict Sex</th>\n      <th>Premis Cd</th>\n      <th>Premis Desc</th>\n      <th>Weapon Used Cd</th>\n      <th>...</th>\n      <th>Pressure(in)</th>\n      <th>Visibility(mi)</th>\n      <th>Wind_Direction</th>\n      <th>Wind_Speed(mph)</th>\n      <th>Precipitation(in)</th>\n      <th>Weather_Condition</th>\n      <th>Sunrise_Sunset</th>\n      <th>Civil_Twilight</th>\n      <th>Nautical_Twilight</th>\n      <th>Astronomical_Twilight</th>\n    </tr>\n  </thead>\n  <tbody>\n    <tr>\n      <th>0</th>\n      <td>2020-03-01</td>\n      <td>7</td>\n      <td>Wilshire</td>\n      <td>510</td>\n      <td>VEHICLE - STOLEN</td>\n      <td>0</td>\n      <td>M</td>\n      <td>101.0</td>\n      <td>STREET</td>\n      <td>NaN</td>\n      <td>...</td>\n      <td>29.96</td>\n      <td>10.0</td>\n      <td>E</td>\n      <td>6.0</td>\n      <td>0.0</td>\n      <td>Fair</td>\n      <td>Night</td>\n      <td>Night</td>\n      <td>Night</td>\n      <td>Night</td>\n    </tr>\n    <tr>\n      <th>1</th>\n      <td>2020-02-08</td>\n      <td>1</td>\n      <td>Central</td>\n      <td>330</td>\n      <td>BURGLARY FROM VEHICLE</td>\n      <td>47</td>\n      <td>M</td>\n      <td>128.0</td>\n      <td>BUS STOP/LAYOVER (ALSO QUERY 124)</td>\n      <td>NaN</td>\n      <td>...</td>\n      <td>29.85</td>\n      <td>7.0</td>\n      <td>CALM</td>\n      <td>0.0</td>\n      <td>0.0</td>\n      <td>Fair</td>\n      <td>Night</td>\n      <td>Night</td>\n      <td>Night</td>\n      <td>Night</td>\n    </tr>\n    <tr>\n      <th>2</th>\n      <td>2020-11-04</td>\n      <td>3</td>\n      <td>Southwest</td>\n      <td>480</td>\n      <td>BIKE - STOLEN</td>\n      <td>19</td>\n      <td>X</td>\n      <td>502.0</td>\n      <td>MULTI-UNIT DWELLING (APARTMENT, DUPLEX, ETC)</td>\n      <td>NaN</td>\n      <td>...</td>\n      <td>29.84</td>\n      <td>4.0</td>\n      <td>CALM</td>\n      <td>0.0</td>\n      <td>0.0</td>\n      <td>Haze</td>\n      <td>Night</td>\n      <td>Night</td>\n      <td>Night</td>\n      <td>Night</td>\n    </tr>\n    <tr>\n      <th>3</th>\n      <td>2020-03-10</td>\n      <td>9</td>\n      <td>Van Nuys</td>\n      <td>343</td>\n      <td>SHOPLIFTING-GRAND THEFT ($950.01 &amp; OVER)</td>\n      <td>19</td>\n      <td>M</td>\n      <td>405.0</td>\n      <td>CLOTHING STORE</td>\n      <td>NaN</td>\n      <td>...</td>\n      <td>29.92</td>\n      <td>10.0</td>\n      <td>ENE</td>\n      <td>8.0</td>\n      <td>0.0</td>\n      <td>Light Rain</td>\n      <td>Night</td>\n      <td>Night</td>\n      <td>Night</td>\n      <td>Night</td>\n    </tr>\n    <tr>\n      <th>4</th>\n      <td>2020-08-17</td>\n      <td>6</td>\n      <td>Hollywood</td>\n      <td>354</td>\n      <td>THEFT OF IDENTITY</td>\n      <td>28</td>\n      <td>M</td>\n      <td>102.0</td>\n      <td>SIDEWALK</td>\n      <td>NaN</td>\n      <td>...</td>\n      <td>29.71</td>\n      <td>6.0</td>\n      <td>CALM</td>\n      <td>0.0</td>\n      <td>0.0</td>\n      <td>Haze</td>\n      <td>Night</td>\n      <td>Night</td>\n      <td>Night</td>\n      <td>Night</td>\n    </tr>\n  </tbody>\n</table>\n<p>5 rows × 29 columns</p>\n</div>"
     },
     "execution_count": 116,
     "metadata": {},
     "output_type": "execute_result"
    }
   ],
   "source": [
    "combined_df.head(5)"
   ],
   "metadata": {
    "collapsed": false,
    "ExecuteTime": {
     "end_time": "2024-06-01T15:07:22.611424Z",
     "start_time": "2024-06-01T15:07:22.543938Z"
    }
   },
   "id": "cb99dc5b8e8376ff",
   "execution_count": 116
  },
  {
   "cell_type": "code",
   "outputs": [],
   "source": [
    "combined_df.to_csv('crimes_weather.csv', index=False, date_format='%Y-%m-%d %H:%M:%S')\n"
   ],
   "metadata": {
    "collapsed": false,
    "ExecuteTime": {
     "end_time": "2024-06-01T15:22:08.573526Z",
     "start_time": "2024-06-01T15:21:54.655595Z"
    }
   },
   "id": "63f034513f5ac45",
   "execution_count": 117
  }
 ],
 "metadata": {
  "kernelspec": {
   "display_name": "Python 3",
   "language": "python",
   "name": "python3"
  },
  "language_info": {
   "codemirror_mode": {
    "name": "ipython",
    "version": 2
   },
   "file_extension": ".py",
   "mimetype": "text/x-python",
   "name": "python",
   "nbconvert_exporter": "python",
   "pygments_lexer": "ipython2",
   "version": "2.7.6"
  }
 },
 "nbformat": 4,
 "nbformat_minor": 5
}

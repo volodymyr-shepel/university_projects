{
 "cells": [
  {
   "cell_type": "code",
   "execution_count": 1,
   "id": "initial_id",
   "metadata": {
    "collapsed": true,
    "ExecuteTime": {
     "end_time": "2024-05-21T06:43:27.770348Z",
     "start_time": "2024-05-21T06:43:25.028401Z"
    }
   },
   "outputs": [],
   "source": [
    "import pandas as pd\n",
    "import numpy as np"
   ]
  },
  {
   "cell_type": "code",
   "outputs": [],
   "source": [
    "crimes_df = pd.read_csv(\"./data/los_angeles_crimes.csv\")"
   ],
   "metadata": {
    "collapsed": false,
    "ExecuteTime": {
     "end_time": "2024-05-21T06:49:57.125459Z",
     "start_time": "2024-05-21T06:49:52.361159Z"
    }
   },
   "id": "b0c4206c4db960d7",
   "execution_count": 2
  },
  {
   "cell_type": "code",
   "outputs": [],
   "source": [
    "accidents_df = pd.read_csv(\"./data/us_accidents.csv\")"
   ],
   "metadata": {
    "collapsed": false,
    "ExecuteTime": {
     "end_time": "2024-05-21T06:51:43.508202Z",
     "start_time": "2024-05-21T06:50:14.993Z"
    }
   },
   "id": "e9b3999096d50c40",
   "execution_count": 3
  },
  {
   "cell_type": "code",
   "outputs": [
    {
     "data": {
      "text/plain": "Index(['DR_NO', 'Date Rptd', 'DATE OCC', 'TIME OCC', 'AREA', 'AREA NAME',\n       'Rpt Dist No', 'Part 1-2', 'Crm Cd', 'Crm Cd Desc', 'Mocodes',\n       'Vict Age', 'Vict Sex', 'Vict Descent', 'Premis Cd', 'Premis Desc',\n       'Weapon Used Cd', 'Weapon Desc', 'Status', 'Status Desc', 'Crm Cd 1',\n       'Crm Cd 2', 'Crm Cd 3', 'Crm Cd 4', 'LOCATION', 'Cross Street', 'LAT',\n       'LON'],\n      dtype='object')"
     },
     "execution_count": 4,
     "metadata": {},
     "output_type": "execute_result"
    }
   ],
   "source": [
    "crimes_df.columns"
   ],
   "metadata": {
    "collapsed": false,
    "ExecuteTime": {
     "end_time": "2024-05-21T06:54:55.759890Z",
     "start_time": "2024-05-21T06:54:55.695182Z"
    }
   },
   "id": "3f0391be96f40ce9",
   "execution_count": 4
  },
  {
   "cell_type": "code",
   "outputs": [
    {
     "data": {
      "text/plain": "Index(['ID', 'Source', 'Severity', 'Start_Time', 'End_Time', 'Start_Lat',\n       'Start_Lng', 'End_Lat', 'End_Lng', 'Distance(mi)', 'Description',\n       'Street', 'City', 'County', 'State', 'Zipcode', 'Country', 'Timezone',\n       'Airport_Code', 'Weather_Timestamp', 'Temperature(F)', 'Wind_Chill(F)',\n       'Humidity(%)', 'Pressure(in)', 'Visibility(mi)', 'Wind_Direction',\n       'Wind_Speed(mph)', 'Precipitation(in)', 'Weather_Condition', 'Amenity',\n       'Bump', 'Crossing', 'Give_Way', 'Junction', 'No_Exit', 'Railway',\n       'Roundabout', 'Station', 'Stop', 'Traffic_Calming', 'Traffic_Signal',\n       'Turning_Loop', 'Sunrise_Sunset', 'Civil_Twilight', 'Nautical_Twilight',\n       'Astronomical_Twilight'],\n      dtype='object')"
     },
     "execution_count": 5,
     "metadata": {},
     "output_type": "execute_result"
    }
   ],
   "source": [
    "accidents_df.columns"
   ],
   "metadata": {
    "collapsed": false,
    "ExecuteTime": {
     "end_time": "2024-05-21T06:55:05.206447Z",
     "start_time": "2024-05-21T06:55:05.196180Z"
    }
   },
   "id": "ed5ad6dc18b48b97",
   "execution_count": 5
  },
  {
   "cell_type": "code",
   "outputs": [
    {
     "data": {
      "text/plain": "ID                        object\nSource                    object\nSeverity                   int64\nStart_Time                object\nEnd_Time                  object\nStart_Lat                float64\nStart_Lng                float64\nEnd_Lat                  float64\nEnd_Lng                  float64\nDistance(mi)             float64\nDescription               object\nStreet                    object\nCity                      object\nCounty                    object\nState                     object\nZipcode                   object\nCountry                   object\nTimezone                  object\nAirport_Code              object\nWeather_Timestamp         object\nTemperature(F)           float64\nWind_Chill(F)            float64\nHumidity(%)              float64\nPressure(in)             float64\nVisibility(mi)           float64\nWind_Direction            object\nWind_Speed(mph)          float64\nPrecipitation(in)        float64\nWeather_Condition         object\nAmenity                     bool\nBump                        bool\nCrossing                    bool\nGive_Way                    bool\nJunction                    bool\nNo_Exit                     bool\nRailway                     bool\nRoundabout                  bool\nStation                     bool\nStop                        bool\nTraffic_Calming             bool\nTraffic_Signal              bool\nTurning_Loop                bool\nSunrise_Sunset            object\nCivil_Twilight            object\nNautical_Twilight         object\nAstronomical_Twilight     object\ndtype: object"
     },
     "execution_count": 12,
     "metadata": {},
     "output_type": "execute_result"
    }
   ],
   "source": [
    "accidents_df.dtypes"
   ],
   "metadata": {
    "collapsed": false,
    "ExecuteTime": {
     "end_time": "2024-05-21T07:19:06.190009Z",
     "start_time": "2024-05-21T07:19:06.180603Z"
    }
   },
   "id": "eee4d82360f54c57",
   "execution_count": 12
  },
  {
   "cell_type": "code",
   "outputs": [],
   "source": [
    "# Convert 'Start_Time' to datetime with the specified format\n",
    "accidents_df['Start_Time'] = pd.to_datetime(accidents_df['Start_Time'], format='%Y-%m-%d %H:%M:%S',)\n",
    "\n",
    "# Extract the year from the 'Start_Time' column and create a new column 'Year'\n",
    "accidents_df['Year'] = accidents_df['Start_Time'].dt.year\n"
   ],
   "metadata": {
    "collapsed": false,
    "ExecuteTime": {
     "end_time": "2024-05-21T07:25:02.998011Z",
     "start_time": "2024-05-21T07:25:02.123985Z"
    }
   },
   "id": "a87e1c3bbe9e9a92",
   "execution_count": 23
  },
  {
   "cell_type": "code",
   "outputs": [],
   "source": [
    "los_angeles_accidents = accidents_df[accidents_df['City'] == 'Los Angeles']"
   ],
   "metadata": {
    "collapsed": false,
    "ExecuteTime": {
     "end_time": "2024-05-21T07:25:06.508789Z",
     "start_time": "2024-05-21T07:25:05.745856Z"
    }
   },
   "id": "bbabff407bbf70ca",
   "execution_count": 24
  },
  {
   "cell_type": "code",
   "outputs": [
    {
     "data": {
      "text/plain": "156491"
     },
     "execution_count": 25,
     "metadata": {},
     "output_type": "execute_result"
    }
   ],
   "source": [
    "len(los_angeles_accidents)"
   ],
   "metadata": {
    "collapsed": false,
    "ExecuteTime": {
     "end_time": "2024-05-21T07:25:08.992290Z",
     "start_time": "2024-05-21T07:25:08.987013Z"
    }
   },
   "id": "601529b2b6d30fe6",
   "execution_count": 25
  },
  {
   "cell_type": "code",
   "outputs": [],
   "source": [
    "grouped_by_year = los_angeles_accidents.groupby('Year')"
   ],
   "metadata": {
    "collapsed": false,
    "ExecuteTime": {
     "end_time": "2024-05-21T07:25:27.867358Z",
     "start_time": "2024-05-21T07:25:27.851134Z"
    }
   },
   "id": "bf12c0c4d989fe5f",
   "execution_count": 26
  },
  {
   "cell_type": "code",
   "outputs": [
    {
     "data": {
      "text/plain": "Year\n2016.0    15064\n2017.0    15279\n2018.0    15794\n2019.0    19682\n2020.0    24313\n2021.0    26053\n2022.0    22220\n2023.0     4047\ndtype: int64"
     },
     "execution_count": 27,
     "metadata": {},
     "output_type": "execute_result"
    }
   ],
   "source": [
    "grouped_by_year.size()"
   ],
   "metadata": {
    "collapsed": false,
    "ExecuteTime": {
     "end_time": "2024-05-21T07:25:36.862878Z",
     "start_time": "2024-05-21T07:25:36.853977Z"
    }
   },
   "id": "7c25c9a4d9c0b6ff",
   "execution_count": 27
  },
  {
   "cell_type": "code",
   "outputs": [
    {
     "data": {
      "text/plain": "            ID   Source  Severity           Start_Time             End_Time  \\\n42866  A-42867  Source2         2  2016-06-21 10:46:30  2016-06-21 11:27:00   \n42867  A-42868  Source2         3  2016-06-21 10:49:21  2016-06-21 11:34:21   \n42881  A-42882  Source2         3  2016-06-21 10:51:45  2016-06-21 11:36:45   \n42883  A-42884  Source2         3  2016-06-21 10:56:24  2016-06-21 11:34:00   \n42898  A-42899  Source2         3  2016-06-21 11:30:46  2016-06-21 12:00:46   \n\n       Start_Lat   Start_Lng  End_Lat  End_Lng  Distance(mi)  ... Roundabout  \\\n42866  34.078926 -118.289040      NaN      NaN           0.0  ...      False   \n42867  34.091179 -118.239471      NaN      NaN           0.0  ...      False   \n42881  34.037239 -118.309074      NaN      NaN           0.0  ...      False   \n42883  34.027458 -118.274490      NaN      NaN           0.0  ...      False   \n42898  33.947544 -118.279434      NaN      NaN           0.0  ...      False   \n\n      Station   Stop Traffic_Calming Traffic_Signal Turning_Loop  \\\n42866   False  False           False          False        False   \n42867   False  False           False          False        False   \n42881    True  False           False          False        False   \n42883   False  False           False          False        False   \n42898   False  False           False          False        False   \n\n      Sunrise_Sunset Civil_Twilight Nautical_Twilight Astronomical_Twilight  \n42866            Day            Day               Day                   Day  \n42867            Day            Day               Day                   Day  \n42881            Day            Day               Day                   Day  \n42883            Day            Day               Day                   Day  \n42898            Day            Day               Day                   Day  \n\n[5 rows x 46 columns]",
      "text/html": "<div>\n<style scoped>\n    .dataframe tbody tr th:only-of-type {\n        vertical-align: middle;\n    }\n\n    .dataframe tbody tr th {\n        vertical-align: top;\n    }\n\n    .dataframe thead th {\n        text-align: right;\n    }\n</style>\n<table border=\"1\" class=\"dataframe\">\n  <thead>\n    <tr style=\"text-align: right;\">\n      <th></th>\n      <th>ID</th>\n      <th>Source</th>\n      <th>Severity</th>\n      <th>Start_Time</th>\n      <th>End_Time</th>\n      <th>Start_Lat</th>\n      <th>Start_Lng</th>\n      <th>End_Lat</th>\n      <th>End_Lng</th>\n      <th>Distance(mi)</th>\n      <th>...</th>\n      <th>Roundabout</th>\n      <th>Station</th>\n      <th>Stop</th>\n      <th>Traffic_Calming</th>\n      <th>Traffic_Signal</th>\n      <th>Turning_Loop</th>\n      <th>Sunrise_Sunset</th>\n      <th>Civil_Twilight</th>\n      <th>Nautical_Twilight</th>\n      <th>Astronomical_Twilight</th>\n    </tr>\n  </thead>\n  <tbody>\n    <tr>\n      <th>42866</th>\n      <td>A-42867</td>\n      <td>Source2</td>\n      <td>2</td>\n      <td>2016-06-21 10:46:30</td>\n      <td>2016-06-21 11:27:00</td>\n      <td>34.078926</td>\n      <td>-118.289040</td>\n      <td>NaN</td>\n      <td>NaN</td>\n      <td>0.0</td>\n      <td>...</td>\n      <td>False</td>\n      <td>False</td>\n      <td>False</td>\n      <td>False</td>\n      <td>False</td>\n      <td>False</td>\n      <td>Day</td>\n      <td>Day</td>\n      <td>Day</td>\n      <td>Day</td>\n    </tr>\n    <tr>\n      <th>42867</th>\n      <td>A-42868</td>\n      <td>Source2</td>\n      <td>3</td>\n      <td>2016-06-21 10:49:21</td>\n      <td>2016-06-21 11:34:21</td>\n      <td>34.091179</td>\n      <td>-118.239471</td>\n      <td>NaN</td>\n      <td>NaN</td>\n      <td>0.0</td>\n      <td>...</td>\n      <td>False</td>\n      <td>False</td>\n      <td>False</td>\n      <td>False</td>\n      <td>False</td>\n      <td>False</td>\n      <td>Day</td>\n      <td>Day</td>\n      <td>Day</td>\n      <td>Day</td>\n    </tr>\n    <tr>\n      <th>42881</th>\n      <td>A-42882</td>\n      <td>Source2</td>\n      <td>3</td>\n      <td>2016-06-21 10:51:45</td>\n      <td>2016-06-21 11:36:45</td>\n      <td>34.037239</td>\n      <td>-118.309074</td>\n      <td>NaN</td>\n      <td>NaN</td>\n      <td>0.0</td>\n      <td>...</td>\n      <td>False</td>\n      <td>True</td>\n      <td>False</td>\n      <td>False</td>\n      <td>False</td>\n      <td>False</td>\n      <td>Day</td>\n      <td>Day</td>\n      <td>Day</td>\n      <td>Day</td>\n    </tr>\n    <tr>\n      <th>42883</th>\n      <td>A-42884</td>\n      <td>Source2</td>\n      <td>3</td>\n      <td>2016-06-21 10:56:24</td>\n      <td>2016-06-21 11:34:00</td>\n      <td>34.027458</td>\n      <td>-118.274490</td>\n      <td>NaN</td>\n      <td>NaN</td>\n      <td>0.0</td>\n      <td>...</td>\n      <td>False</td>\n      <td>False</td>\n      <td>False</td>\n      <td>False</td>\n      <td>False</td>\n      <td>False</td>\n      <td>Day</td>\n      <td>Day</td>\n      <td>Day</td>\n      <td>Day</td>\n    </tr>\n    <tr>\n      <th>42898</th>\n      <td>A-42899</td>\n      <td>Source2</td>\n      <td>3</td>\n      <td>2016-06-21 11:30:46</td>\n      <td>2016-06-21 12:00:46</td>\n      <td>33.947544</td>\n      <td>-118.279434</td>\n      <td>NaN</td>\n      <td>NaN</td>\n      <td>0.0</td>\n      <td>...</td>\n      <td>False</td>\n      <td>False</td>\n      <td>False</td>\n      <td>False</td>\n      <td>False</td>\n      <td>False</td>\n      <td>Day</td>\n      <td>Day</td>\n      <td>Day</td>\n      <td>Day</td>\n    </tr>\n  </tbody>\n</table>\n<p>5 rows × 46 columns</p>\n</div>"
     },
     "execution_count": 10,
     "metadata": {},
     "output_type": "execute_result"
    }
   ],
   "source": [
    "los_angeles_accidents.head(5)"
   ],
   "metadata": {
    "collapsed": false,
    "ExecuteTime": {
     "end_time": "2024-05-21T07:15:24.317439Z",
     "start_time": "2024-05-21T07:15:24.288283Z"
    }
   },
   "id": "c5df76e255e53b22",
   "execution_count": 10
  },
  {
   "cell_type": "code",
   "outputs": [
    {
     "data": {
      "text/plain": "       DR_NO               Date Rptd                DATE OCC  TIME OCC  AREA  \\\n0  190326475  03/01/2020 12:00:00 AM  03/01/2020 12:00:00 AM      2130     7   \n1  200106753  02/09/2020 12:00:00 AM  02/08/2020 12:00:00 AM      1800     1   \n2  200320258  11/11/2020 12:00:00 AM  11/04/2020 12:00:00 AM      1700     3   \n3  200907217  05/10/2023 12:00:00 AM  03/10/2020 12:00:00 AM      2037     9   \n4  220614831  08/18/2022 12:00:00 AM  08/17/2020 12:00:00 AM      1200     6   \n\n   AREA NAME  Rpt Dist No  Part 1-2  Crm Cd  \\\n0   Wilshire          784         1     510   \n1    Central          182         1     330   \n2  Southwest          356         1     480   \n3   Van Nuys          964         1     343   \n4  Hollywood          666         2     354   \n\n                                Crm Cd Desc  ... Status   Status Desc  \\\n0                          VEHICLE - STOLEN  ...     AA  Adult Arrest   \n1                     BURGLARY FROM VEHICLE  ...     IC   Invest Cont   \n2                             BIKE - STOLEN  ...     IC   Invest Cont   \n3  SHOPLIFTING-GRAND THEFT ($950.01 & OVER)  ...     IC   Invest Cont   \n4                         THEFT OF IDENTITY  ...     IC   Invest Cont   \n\n  Crm Cd 1 Crm Cd 2  Crm Cd 3 Crm Cd 4  \\\n0    510.0    998.0       NaN      NaN   \n1    330.0    998.0       NaN      NaN   \n2    480.0      NaN       NaN      NaN   \n3    343.0      NaN       NaN      NaN   \n4    354.0      NaN       NaN      NaN   \n\n                                   LOCATION Cross Street      LAT       LON  \n0   1900 S  LONGWOOD                     AV          NaN  34.0375 -118.3506  \n1   1000 S  FLOWER                       ST          NaN  34.0444 -118.2628  \n2   1400 W  37TH                         ST          NaN  34.0210 -118.3002  \n3  14000    RIVERSIDE                    DR          NaN  34.1576 -118.4387  \n4                         1900    TRANSIENT          NaN  34.0944 -118.3277  \n\n[5 rows x 28 columns]",
      "text/html": "<div>\n<style scoped>\n    .dataframe tbody tr th:only-of-type {\n        vertical-align: middle;\n    }\n\n    .dataframe tbody tr th {\n        vertical-align: top;\n    }\n\n    .dataframe thead th {\n        text-align: right;\n    }\n</style>\n<table border=\"1\" class=\"dataframe\">\n  <thead>\n    <tr style=\"text-align: right;\">\n      <th></th>\n      <th>DR_NO</th>\n      <th>Date Rptd</th>\n      <th>DATE OCC</th>\n      <th>TIME OCC</th>\n      <th>AREA</th>\n      <th>AREA NAME</th>\n      <th>Rpt Dist No</th>\n      <th>Part 1-2</th>\n      <th>Crm Cd</th>\n      <th>Crm Cd Desc</th>\n      <th>...</th>\n      <th>Status</th>\n      <th>Status Desc</th>\n      <th>Crm Cd 1</th>\n      <th>Crm Cd 2</th>\n      <th>Crm Cd 3</th>\n      <th>Crm Cd 4</th>\n      <th>LOCATION</th>\n      <th>Cross Street</th>\n      <th>LAT</th>\n      <th>LON</th>\n    </tr>\n  </thead>\n  <tbody>\n    <tr>\n      <th>0</th>\n      <td>190326475</td>\n      <td>03/01/2020 12:00:00 AM</td>\n      <td>03/01/2020 12:00:00 AM</td>\n      <td>2130</td>\n      <td>7</td>\n      <td>Wilshire</td>\n      <td>784</td>\n      <td>1</td>\n      <td>510</td>\n      <td>VEHICLE - STOLEN</td>\n      <td>...</td>\n      <td>AA</td>\n      <td>Adult Arrest</td>\n      <td>510.0</td>\n      <td>998.0</td>\n      <td>NaN</td>\n      <td>NaN</td>\n      <td>1900 S  LONGWOOD                     AV</td>\n      <td>NaN</td>\n      <td>34.0375</td>\n      <td>-118.3506</td>\n    </tr>\n    <tr>\n      <th>1</th>\n      <td>200106753</td>\n      <td>02/09/2020 12:00:00 AM</td>\n      <td>02/08/2020 12:00:00 AM</td>\n      <td>1800</td>\n      <td>1</td>\n      <td>Central</td>\n      <td>182</td>\n      <td>1</td>\n      <td>330</td>\n      <td>BURGLARY FROM VEHICLE</td>\n      <td>...</td>\n      <td>IC</td>\n      <td>Invest Cont</td>\n      <td>330.0</td>\n      <td>998.0</td>\n      <td>NaN</td>\n      <td>NaN</td>\n      <td>1000 S  FLOWER                       ST</td>\n      <td>NaN</td>\n      <td>34.0444</td>\n      <td>-118.2628</td>\n    </tr>\n    <tr>\n      <th>2</th>\n      <td>200320258</td>\n      <td>11/11/2020 12:00:00 AM</td>\n      <td>11/04/2020 12:00:00 AM</td>\n      <td>1700</td>\n      <td>3</td>\n      <td>Southwest</td>\n      <td>356</td>\n      <td>1</td>\n      <td>480</td>\n      <td>BIKE - STOLEN</td>\n      <td>...</td>\n      <td>IC</td>\n      <td>Invest Cont</td>\n      <td>480.0</td>\n      <td>NaN</td>\n      <td>NaN</td>\n      <td>NaN</td>\n      <td>1400 W  37TH                         ST</td>\n      <td>NaN</td>\n      <td>34.0210</td>\n      <td>-118.3002</td>\n    </tr>\n    <tr>\n      <th>3</th>\n      <td>200907217</td>\n      <td>05/10/2023 12:00:00 AM</td>\n      <td>03/10/2020 12:00:00 AM</td>\n      <td>2037</td>\n      <td>9</td>\n      <td>Van Nuys</td>\n      <td>964</td>\n      <td>1</td>\n      <td>343</td>\n      <td>SHOPLIFTING-GRAND THEFT ($950.01 &amp; OVER)</td>\n      <td>...</td>\n      <td>IC</td>\n      <td>Invest Cont</td>\n      <td>343.0</td>\n      <td>NaN</td>\n      <td>NaN</td>\n      <td>NaN</td>\n      <td>14000    RIVERSIDE                    DR</td>\n      <td>NaN</td>\n      <td>34.1576</td>\n      <td>-118.4387</td>\n    </tr>\n    <tr>\n      <th>4</th>\n      <td>220614831</td>\n      <td>08/18/2022 12:00:00 AM</td>\n      <td>08/17/2020 12:00:00 AM</td>\n      <td>1200</td>\n      <td>6</td>\n      <td>Hollywood</td>\n      <td>666</td>\n      <td>2</td>\n      <td>354</td>\n      <td>THEFT OF IDENTITY</td>\n      <td>...</td>\n      <td>IC</td>\n      <td>Invest Cont</td>\n      <td>354.0</td>\n      <td>NaN</td>\n      <td>NaN</td>\n      <td>NaN</td>\n      <td>1900    TRANSIENT</td>\n      <td>NaN</td>\n      <td>34.0944</td>\n      <td>-118.3277</td>\n    </tr>\n  </tbody>\n</table>\n<p>5 rows × 28 columns</p>\n</div>"
     },
     "execution_count": 28,
     "metadata": {},
     "output_type": "execute_result"
    }
   ],
   "source": [
    "crimes_df.head(5)"
   ],
   "metadata": {
    "collapsed": false,
    "ExecuteTime": {
     "end_time": "2024-05-21T07:58:10.132430Z",
     "start_time": "2024-05-21T07:58:10.102774Z"
    }
   },
   "id": "91256c98dc979ae1",
   "execution_count": 28
  },
  {
   "cell_type": "markdown",
   "source": [],
   "metadata": {
    "collapsed": false
   },
   "id": "6ee136aa3e379b47"
  },
  {
   "cell_type": "markdown",
   "source": [
    "# CRIME DATA DESCRIPTION"
   ],
   "metadata": {
    "collapsed": false
   },
   "id": "3e80cf4294a31752"
  },
  {
   "cell_type": "markdown",
   "source": [
    "<div class=\"section-content\"><div class=\"table-wrapper\" style=\"\"><table class=\"table table-borderless table-condensed table-discrete schema-table\"><thead><tr><th scope=\"col\" class=\"column-name\">Column Name</th><th scope=\"col\" class=\"column-description\">Description</th><th scope=\"col\" class=\"column-type\">Type</th></tr></thead><tbody><tr class=\"column-summary\" data-column=\"dr_no\" aria-expanded=\"true\" aria-haspopup=\"true\" role=\"link\" tabindex=\"0\" scope=\"row\"><td class=\"column-name\">DR_NO</td><td class=\"column-description\"><div class=\"contents\" data-original-height=\"24\" style=\"height: auto;\"><span class=\"Linkify\">Division of Records Number: Official file number made up of a 2 digit year, area ID, and 5 digits</span></div></td><td class=\"column-type\"><div><span aria-hidden=\"true\" class=\"icon icon-data-type icon-text\"></span><span class=\"type-name\" data-name=\"text\">Plain Text</span></div></td><td class=\"column-expand\"><span class=\"icon-arrow-down\"></span></td></tr><tr class=\"column-details\" data-column=\"dr_no\" style=\"display: table-row;\"><td colspan=\"4\"><dl class=\"contents schema-detail-groups\" style=\"height: 78px; padding-top: 15px; padding-bottom: 15px;\"><div class=\"schema-detail-group\"><dt class=\"schema-detail-group-title\">Data Type</dt><dd class=\"schema-detail-group-value\"><a href=\"https://dev.socrata.com/docs/datatypes/text.html\" target=\"_blank\" rel=\"noreferrer\">Text</a></dd></div><div class=\"schema-detail-group\"><dt class=\"schema-detail-group-title\">API Field Name</dt><dd class=\"schema-detail-group-value\">dr_no</dd></div></dl></td></tr><tr class=\"column-summary\" data-column=\"date_rptd\" aria-expanded=\"true\" aria-haspopup=\"true\" role=\"link\" tabindex=\"0\" scope=\"row\"><td class=\"column-name\">Date Rptd</td><td class=\"column-description\"><div class=\"contents\" data-original-height=\"24\" style=\"height: auto;\"><span class=\"Linkify\">MM/DD/YYYY</span></div></td><td class=\"column-type\"><div><span aria-hidden=\"true\" class=\"icon icon-data-type icon-date\"></span><span class=\"type-name\" data-name=\"calendar_date\">Date &amp; Time</span></div></td><td class=\"column-expand\"><span class=\"icon-arrow-down\"></span></td></tr><tr class=\"column-details\" data-column=\"date_rptd\" style=\"display: table-row;\"><td colspan=\"4\"><dl class=\"contents schema-detail-groups\" style=\"height: 78px; padding-top: 15px; padding-bottom: 15px;\"><div class=\"schema-detail-group\"><dt class=\"schema-detail-group-title\">Data Type</dt><dd class=\"schema-detail-group-value\"><a href=\"https://dev.socrata.com/docs/datatypes/floating_timestamp.html\" target=\"_blank\" rel=\"noreferrer\">Floating Timestamp</a></dd></div><div class=\"schema-detail-group\"><dt class=\"schema-detail-group-title\">API Field Name</dt><dd class=\"schema-detail-group-value\">date_rptd</dd></div></dl></td></tr><tr class=\"column-summary\" data-column=\"date_occ\" aria-expanded=\"true\" aria-haspopup=\"true\" role=\"link\" tabindex=\"0\" scope=\"row\"><td class=\"column-name\">DATE OCC</td><td class=\"column-description\"><div class=\"contents\" data-original-height=\"24\" style=\"height: auto;\"><span class=\"Linkify\">MM/DD/YYYY</span></div></td><td class=\"column-type\"><div><span aria-hidden=\"true\" class=\"icon icon-data-type icon-date\"></span><span class=\"type-name\" data-name=\"calendar_date\">Date &amp; Time</span></div></td><td class=\"column-expand\"><span class=\"icon-arrow-down\"></span></td></tr><tr class=\"column-details\" data-column=\"date_occ\" style=\"display: table-row;\"><td colspan=\"4\"><dl class=\"contents schema-detail-groups\" style=\"height: 78px; padding-top: 15px; padding-bottom: 15px;\"><div class=\"schema-detail-group\"><dt class=\"schema-detail-group-title\">Data Type</dt><dd class=\"schema-detail-group-value\"><a href=\"https://dev.socrata.com/docs/datatypes/floating_timestamp.html\" target=\"_blank\" rel=\"noreferrer\">Floating Timestamp</a></dd></div><div class=\"schema-detail-group\"><dt class=\"schema-detail-group-title\">API Field Name</dt><dd class=\"schema-detail-group-value\">date_occ</dd></div></dl></td></tr><tr class=\"column-summary\" data-column=\"time_occ\" aria-expanded=\"true\" aria-haspopup=\"true\" role=\"link\" tabindex=\"0\" scope=\"row\"><td class=\"column-name\">TIME OCC</td><td class=\"column-description\"><div class=\"contents\" data-original-height=\"24\" style=\"height: auto;\"><span class=\"Linkify\">In 24 hour military time.</span></div></td><td class=\"column-type\"><div><span aria-hidden=\"true\" class=\"icon icon-data-type icon-text\"></span><span class=\"type-name\" data-name=\"text\">Plain Text</span></div></td><td class=\"column-expand\"><span class=\"icon-arrow-down\"></span></td></tr><tr class=\"column-details\" data-column=\"time_occ\" style=\"display: table-row;\"><td colspan=\"4\"><dl class=\"contents schema-detail-groups\" style=\"height: 78px; padding-top: 15px; padding-bottom: 15px;\"><div class=\"schema-detail-group\"><dt class=\"schema-detail-group-title\">Data Type</dt><dd class=\"schema-detail-group-value\"><a href=\"https://dev.socrata.com/docs/datatypes/text.html\" target=\"_blank\" rel=\"noreferrer\">Text</a></dd></div><div class=\"schema-detail-group\"><dt class=\"schema-detail-group-title\">API Field Name</dt><dd class=\"schema-detail-group-value\">time_occ</dd></div></dl></td></tr><tr class=\"column-summary\" data-column=\"area\" aria-expanded=\"true\" aria-haspopup=\"true\" role=\"link\" tabindex=\"0\" scope=\"row\"><td class=\"column-name\">AREA</td><td class=\"column-description\"><div class=\"contents\" data-original-height=\"24\" style=\"height: auto;\"><span class=\"Linkify\">The LAPD has 21 Community Police Stations referred to as Geographic Areas within the department. These Geographic Areas are sequentially numbered from 1-21.</span></div></td><td class=\"column-type\"><div><span aria-hidden=\"true\" class=\"icon icon-data-type icon-text\"></span><span class=\"type-name\" data-name=\"text\">Plain Text</span></div></td><td class=\"column-expand\"><span class=\"icon-arrow-down\"></span></td></tr><tr class=\"column-details\" data-column=\"area\" style=\"display: table-row;\"><td colspan=\"4\"><dl class=\"contents schema-detail-groups\" style=\"height: 78px; padding-top: 15px; padding-bottom: 15px;\"><div class=\"schema-detail-group\"><dt class=\"schema-detail-group-title\">Data Type</dt><dd class=\"schema-detail-group-value\"><a href=\"https://dev.socrata.com/docs/datatypes/text.html\" target=\"_blank\" rel=\"noreferrer\">Text</a></dd></div><div class=\"schema-detail-group\"><dt class=\"schema-detail-group-title\">API Field Name</dt><dd class=\"schema-detail-group-value\">area</dd></div></dl></td></tr><tr class=\"column-summary\" data-column=\"area_name\" aria-expanded=\"true\" aria-haspopup=\"true\" role=\"link\" tabindex=\"0\" scope=\"row\"><td class=\"column-name\">AREA NAME</td><td class=\"column-description\"><div class=\"contents\" data-original-height=\"24\" style=\"height: auto;\"><span class=\"Linkify\">The 21 Geographic Areas or Patrol Divisions are also given a name designation that references a landmark or the surrounding community that it is responsible for. For example 77th Street Division is located at the intersection of South Broadway and 77th Street, serving neighborhoods in South Los Angeles.</span></div></td><td class=\"column-type\"><div><span aria-hidden=\"true\" class=\"icon icon-data-type icon-text\"></span><span class=\"type-name\" data-name=\"text\">Plain Text</span></div></td><td class=\"column-expand\"><span class=\"icon-arrow-down\"></span></td></tr><tr class=\"column-details\" data-column=\"area_name\" style=\"display: table-row;\"><td colspan=\"4\"><dl class=\"contents schema-detail-groups\" style=\"height: 78px; padding-top: 15px; padding-bottom: 15px;\"><div class=\"schema-detail-group\"><dt class=\"schema-detail-group-title\">Data Type</dt><dd class=\"schema-detail-group-value\"><a href=\"https://dev.socrata.com/docs/datatypes/text.html\" target=\"_blank\" rel=\"noreferrer\">Text</a></dd></div><div class=\"schema-detail-group\"><dt class=\"schema-detail-group-title\">API Field Name</dt><dd class=\"schema-detail-group-value\">area_name</dd></div></dl></td></tr><tr class=\"column-summary\" data-column=\"rpt_dist_no\" aria-expanded=\"true\" aria-haspopup=\"true\" role=\"link\" tabindex=\"0\" scope=\"row\"><td class=\"column-name\">Rpt Dist No</td><td class=\"column-description\"><div class=\"contents\" data-original-height=\"24\" style=\"height: auto;\"><span class=\"Linkify\">A four-digit code that represents a sub-area within a Geographic Area. All crime records reference the \"RD\" that it occurred in for statistical comparisons. Find LAPD Reporting Districts on the LA City GeoHub at <a href=\"http://geohub.lacity.org/datasets/c4f83909b81d4786aa8ba8a74a4b4db1_4\" rel=\"nofollow\" target=\"_blank\">http://geohub.lacity.org/datasets/c4f83909b81d4786aa8ba8a74a4b4db1_4</a> </span></div></td><td class=\"column-type\"><div><span aria-hidden=\"true\" class=\"icon icon-data-type icon-text\"></span><span class=\"type-name\" data-name=\"text\">Plain Text</span></div></td><td class=\"column-expand\"><span class=\"icon-arrow-down\"></span></td></tr><tr class=\"column-details\" data-column=\"rpt_dist_no\" style=\"display: table-row;\"><td colspan=\"4\"><dl class=\"contents schema-detail-groups\" style=\"height: 78px; padding-top: 15px; padding-bottom: 15px;\"><div class=\"schema-detail-group\"><dt class=\"schema-detail-group-title\">Data Type</dt><dd class=\"schema-detail-group-value\"><a href=\"https://dev.socrata.com/docs/datatypes/text.html\" target=\"_blank\" rel=\"noreferrer\">Text</a></dd></div><div class=\"schema-detail-group\"><dt class=\"schema-detail-group-title\">API Field Name</dt><dd class=\"schema-detail-group-value\">rpt_dist_no</dd></div></dl></td></tr><tr class=\"column-summary\" data-column=\"part_1_2\" aria-expanded=\"true\" aria-haspopup=\"true\" role=\"link\" tabindex=\"0\" scope=\"row\"><td class=\"column-name\">Part 1-2</td><td class=\"column-description\"><div class=\"contents\" data-original-height=\"0\" style=\"height: auto;\"><span class=\"Linkify\"></span></div></td><td class=\"column-type\"><div><span aria-hidden=\"true\" class=\"icon icon-data-type icon-number\"></span><span class=\"type-name\" data-name=\"number\">Number</span></div></td><td class=\"column-expand\"><span class=\"icon-arrow-down\"></span></td></tr><tr class=\"column-details\" data-column=\"part_1_2\" style=\"display: table-row;\"><td colspan=\"4\"><dl class=\"contents schema-detail-groups\" style=\"height: 78px; padding-top: 15px; padding-bottom: 15px;\"><div class=\"schema-detail-group\"><dt class=\"schema-detail-group-title\">Data Type</dt><dd class=\"schema-detail-group-value\"><a href=\"https://dev.socrata.com/docs/datatypes/number.html\" target=\"_blank\" rel=\"noreferrer\">Number</a></dd></div><div class=\"schema-detail-group\"><dt class=\"schema-detail-group-title\">API Field Name</dt><dd class=\"schema-detail-group-value\">part_1_2</dd></div></dl></td></tr><tr class=\"column-summary\" data-column=\"crm_cd\" aria-expanded=\"true\" aria-haspopup=\"true\" role=\"link\" tabindex=\"0\" scope=\"row\"><td class=\"column-name\">Crm Cd</td><td class=\"column-description\"><div class=\"contents\" data-original-height=\"24\" style=\"height: auto;\"><span class=\"Linkify\">Indicates the crime committed. (Same as Crime Code 1)</span></div></td><td class=\"column-type\"><div><span aria-hidden=\"true\" class=\"icon icon-data-type icon-text\"></span><span class=\"type-name\" data-name=\"text\">Plain Text</span></div></td><td class=\"column-expand\"><span class=\"icon-arrow-down\"></span></td></tr><tr class=\"column-details\" data-column=\"crm_cd\" style=\"display: table-row;\"><td colspan=\"4\"><dl class=\"contents schema-detail-groups\" style=\"height: 78px; padding-top: 15px; padding-bottom: 15px;\"><div class=\"schema-detail-group\"><dt class=\"schema-detail-group-title\">Data Type</dt><dd class=\"schema-detail-group-value\"><a href=\"https://dev.socrata.com/docs/datatypes/text.html\" target=\"_blank\" rel=\"noreferrer\">Text</a></dd></div><div class=\"schema-detail-group\"><dt class=\"schema-detail-group-title\">API Field Name</dt><dd class=\"schema-detail-group-value\">crm_cd</dd></div></dl></td></tr><tr class=\"column-summary\" data-column=\"crm_cd_desc\" aria-expanded=\"true\" aria-haspopup=\"true\" role=\"link\" tabindex=\"0\" scope=\"row\"><td class=\"column-name\">Crm Cd Desc</td><td class=\"column-description\"><div class=\"contents\" data-original-height=\"24\" style=\"height: auto;\"><span class=\"Linkify\">Defines the Crime Code provided.</span></div></td><td class=\"column-type\"><div><span aria-hidden=\"true\" class=\"icon icon-data-type icon-text\"></span><span class=\"type-name\" data-name=\"text\">Plain Text</span></div></td><td class=\"column-expand\"><span class=\"icon-arrow-down\"></span></td></tr><tr class=\"column-details\" data-column=\"crm_cd_desc\" style=\"display: table-row;\"><td colspan=\"4\"><dl class=\"contents schema-detail-groups\" style=\"height: 78px; padding-top: 15px; padding-bottom: 15px;\"><div class=\"schema-detail-group\"><dt class=\"schema-detail-group-title\">Data Type</dt><dd class=\"schema-detail-group-value\"><a href=\"https://dev.socrata.com/docs/datatypes/text.html\" target=\"_blank\" rel=\"noreferrer\">Text</a></dd></div><div class=\"schema-detail-group\"><dt class=\"schema-detail-group-title\">API Field Name</dt><dd class=\"schema-detail-group-value\">crm_cd_desc</dd></div></dl></td></tr><tr class=\"column-summary\" data-column=\"mocodes\" aria-expanded=\"false\" aria-haspopup=\"true\" role=\"link\" tabindex=\"0\" scope=\"row\"><td class=\"column-name\">Mocodes</td><td class=\"column-description\"><div class=\"contents clamped\"><span class=\"Linkify\">Modus Operandi: Activities associated with the suspect in commission of the crime.See attached PDF for list of MO Codes in numerical order. <a href=\"https://data.lacity.org/api/views/y8tr-7khq/files/3a967fbd-f210-4857-bc52-60230efe256c?download=true&amp;filename=MO%20CODES%20(numerical%20order).pdf\" rel=\"nofollow\" target=\"_blank\">https://data.lacity.org/api/views/y8tr-7khq/files/3a967fbd-f210-4857-bc52-60230efe256c?download=true&amp;filename=MO%20CODES%20(numerical%20order).pdf</a></span></div></td><td class=\"column-type\"><div><span aria-hidden=\"true\" class=\"icon icon-data-type icon-text\"></span><span class=\"type-name\" data-name=\"text\">Plain Text</span></div></td><td class=\"column-expand\"><span class=\"icon-arrow-down\"></span></td></tr><tr class=\"column-details\" data-column=\"mocodes\"><td colspan=\"4\"><dl class=\"contents schema-detail-groups\"><div class=\"schema-detail-group\"><dt class=\"schema-detail-group-title\">Data Type</dt><dd class=\"schema-detail-group-value\"><a href=\"https://dev.socrata.com/docs/datatypes/text.html\" target=\"_blank\" rel=\"noreferrer\">Text</a></dd></div><div class=\"schema-detail-group\"><dt class=\"schema-detail-group-title\">API Field Name</dt><dd class=\"schema-detail-group-value\">mocodes</dd></div></dl></td></tr><tr class=\"column-summary\" data-column=\"vict_age\" aria-expanded=\"true\" aria-haspopup=\"true\" role=\"link\" tabindex=\"0\" scope=\"row\"><td class=\"column-name\">Vict Age</td><td class=\"column-description\"><div class=\"contents\" data-original-height=\"24\" style=\"height: auto;\"><span class=\"Linkify\">Two character numeric</span></div></td><td class=\"column-type\"><div><span aria-hidden=\"true\" class=\"icon icon-data-type icon-text\"></span><span class=\"type-name\" data-name=\"text\">Plain Text</span></div></td><td class=\"column-expand\"><span class=\"icon-arrow-down\"></span></td></tr><tr class=\"column-details\" data-column=\"vict_age\" style=\"display: table-row;\"><td colspan=\"4\"><dl class=\"contents schema-detail-groups\" style=\"height: 78px; padding-top: 15px; padding-bottom: 15px;\"><div class=\"schema-detail-group\"><dt class=\"schema-detail-group-title\">Data Type</dt><dd class=\"schema-detail-group-value\"><a href=\"https://dev.socrata.com/docs/datatypes/text.html\" target=\"_blank\" rel=\"noreferrer\">Text</a></dd></div><div class=\"schema-detail-group\"><dt class=\"schema-detail-group-title\">API Field Name</dt><dd class=\"schema-detail-group-value\">vict_age</dd></div></dl></td></tr><tr class=\"column-summary\" data-column=\"vict_sex\" aria-expanded=\"true\" aria-haspopup=\"true\" role=\"link\" tabindex=\"0\" scope=\"row\"><td class=\"column-name\">Vict Sex</td><td class=\"column-description\"><div class=\"contents\" data-original-height=\"24\" style=\"height: auto;\"><span class=\"Linkify\">F - Female M - Male X - Unknown</span></div></td><td class=\"column-type\"><div><span aria-hidden=\"true\" class=\"icon icon-data-type icon-text\"></span><span class=\"type-name\" data-name=\"text\">Plain Text</span></div></td><td class=\"column-expand\"><span class=\"icon-arrow-down\"></span></td></tr><tr class=\"column-details\" data-column=\"vict_sex\" style=\"display: table-row;\"><td colspan=\"4\"><dl class=\"contents schema-detail-groups\" style=\"height: 78px; padding-top: 15px; padding-bottom: 15px;\"><div class=\"schema-detail-group\"><dt class=\"schema-detail-group-title\">Data Type</dt><dd class=\"schema-detail-group-value\"><a href=\"https://dev.socrata.com/docs/datatypes/text.html\" target=\"_blank\" rel=\"noreferrer\">Text</a></dd></div><div class=\"schema-detail-group\"><dt class=\"schema-detail-group-title\">API Field Name</dt><dd class=\"schema-detail-group-value\">vict_sex</dd></div></dl></td></tr><tr class=\"column-summary\" data-column=\"vict_descent\" aria-expanded=\"true\" aria-haspopup=\"true\" role=\"link\" tabindex=\"0\" scope=\"row\"><td class=\"column-name\">Vict Descent</td><td class=\"column-description\"><div class=\"contents\" data-original-height=\"24\" style=\"height: auto;\"><span class=\"Linkify\">Descent Code: A - Other Asian B - Black C - Chinese D - Cambodian F - Filipino G - Guamanian H - Hispanic/Latin/Mexican I - American Indian/Alaskan Native J - Japanese K - Korean L - Laotian O - Other P - Pacific Islander S - Samoan U - Hawaiian V - Vietnamese W - White X - Unknown Z - Asian Indian</span></div></td><td class=\"column-type\"><div><span aria-hidden=\"true\" class=\"icon icon-data-type icon-text\"></span><span class=\"type-name\" data-name=\"text\">Plain Text</span></div></td><td class=\"column-expand\"><span class=\"icon-arrow-down\"></span></td></tr><tr class=\"column-details\" data-column=\"vict_descent\" style=\"display: table-row;\"><td colspan=\"4\"><dl class=\"contents schema-detail-groups\" style=\"height: 78px; padding-top: 15px; padding-bottom: 15px;\"><div class=\"schema-detail-group\"><dt class=\"schema-detail-group-title\">Data Type</dt><dd class=\"schema-detail-group-value\"><a href=\"https://dev.socrata.com/docs/datatypes/text.html\" target=\"_blank\" rel=\"noreferrer\">Text</a></dd></div><div class=\"schema-detail-group\"><dt class=\"schema-detail-group-title\">API Field Name</dt><dd class=\"schema-detail-group-value\">vict_descent</dd></div></dl></td></tr><tr class=\"column-summary\" data-column=\"premis_cd\" aria-expanded=\"true\" aria-haspopup=\"true\" role=\"link\" tabindex=\"0\" scope=\"row\"><td class=\"column-name\">Premis Cd</td><td class=\"column-description\"><div class=\"contents\" data-original-height=\"24\" style=\"height: auto;\"><span class=\"Linkify\">The type of structure, vehicle, or location where the crime took place.</span></div></td><td class=\"column-type\"><div><span aria-hidden=\"true\" class=\"icon icon-data-type icon-number\"></span><span class=\"type-name\" data-name=\"number\">Number</span></div></td><td class=\"column-expand\"><span class=\"icon-arrow-down\"></span></td></tr><tr class=\"column-details\" data-column=\"premis_cd\" style=\"display: table-row;\"><td colspan=\"4\"><dl class=\"contents schema-detail-groups\" style=\"height: 78px; padding-top: 15px; padding-bottom: 15px;\"><div class=\"schema-detail-group\"><dt class=\"schema-detail-group-title\">Data Type</dt><dd class=\"schema-detail-group-value\"><a href=\"https://dev.socrata.com/docs/datatypes/number.html\" target=\"_blank\" rel=\"noreferrer\">Number</a></dd></div><div class=\"schema-detail-group\"><dt class=\"schema-detail-group-title\">API Field Name</dt><dd class=\"schema-detail-group-value\">premis_cd</dd></div></dl></td></tr><tr class=\"column-summary\" data-column=\"premis_desc\" aria-expanded=\"true\" aria-haspopup=\"true\" role=\"link\" tabindex=\"0\" scope=\"row\"><td class=\"column-name\">Premis Desc</td><td class=\"column-description\"><div class=\"contents\" data-original-height=\"24\" style=\"height: auto;\"><span class=\"Linkify\">Defines the Premise Code provided.</span></div></td><td class=\"column-type\"><div><span aria-hidden=\"true\" class=\"icon icon-data-type icon-text\"></span><span class=\"type-name\" data-name=\"text\">Plain Text</span></div></td><td class=\"column-expand\"><span class=\"icon-arrow-down\"></span></td></tr><tr class=\"column-details\" data-column=\"premis_desc\" style=\"display: table-row;\"><td colspan=\"4\"><dl class=\"contents schema-detail-groups\" style=\"height: 78px; padding-top: 15px; padding-bottom: 15px;\"><div class=\"schema-detail-group\"><dt class=\"schema-detail-group-title\">Data Type</dt><dd class=\"schema-detail-group-value\"><a href=\"https://dev.socrata.com/docs/datatypes/text.html\" target=\"_blank\" rel=\"noreferrer\">Text</a></dd></div><div class=\"schema-detail-group\"><dt class=\"schema-detail-group-title\">API Field Name</dt><dd class=\"schema-detail-group-value\">premis_desc</dd></div></dl></td></tr><tr class=\"column-summary\" data-column=\"weapon_used_cd\" aria-expanded=\"true\" aria-haspopup=\"true\" role=\"link\" tabindex=\"0\" scope=\"row\"><td class=\"column-name\">Weapon Used Cd</td><td class=\"column-description\"><div class=\"contents\" data-original-height=\"24\" style=\"height: auto;\"><span class=\"Linkify\">The type of weapon used in the crime. </span></div></td><td class=\"column-type\"><div><span aria-hidden=\"true\" class=\"icon icon-data-type icon-text\"></span><span class=\"type-name\" data-name=\"text\">Plain Text</span></div></td><td class=\"column-expand\"><span class=\"icon-arrow-down\"></span></td></tr><tr class=\"column-details\" data-column=\"weapon_used_cd\" style=\"display: table-row;\"><td colspan=\"4\"><dl class=\"contents schema-detail-groups\" style=\"height: 78px; padding-top: 15px; padding-bottom: 15px;\"><div class=\"schema-detail-group\"><dt class=\"schema-detail-group-title\">Data Type</dt><dd class=\"schema-detail-group-value\"><a href=\"https://dev.socrata.com/docs/datatypes/text.html\" target=\"_blank\" rel=\"noreferrer\">Text</a></dd></div><div class=\"schema-detail-group\"><dt class=\"schema-detail-group-title\">API Field Name</dt><dd class=\"schema-detail-group-value\">weapon_used_cd</dd></div></dl></td></tr><tr class=\"column-summary\" data-column=\"weapon_desc\" aria-expanded=\"true\" aria-haspopup=\"true\" role=\"link\" tabindex=\"0\" scope=\"row\"><td class=\"column-name\">Weapon Desc</td><td class=\"column-description\"><div class=\"contents\" data-original-height=\"24\" style=\"height: auto;\"><span class=\"Linkify\">Defines the Weapon Used Code provided.</span></div></td><td class=\"column-type\"><div><span aria-hidden=\"true\" class=\"icon icon-data-type icon-text\"></span><span class=\"type-name\" data-name=\"text\">Plain Text</span></div></td><td class=\"column-expand\"><span class=\"icon-arrow-down\"></span></td></tr><tr class=\"column-details\" data-column=\"weapon_desc\" style=\"display: table-row;\"><td colspan=\"4\"><dl class=\"contents schema-detail-groups\" style=\"height: 78px; padding-top: 15px; padding-bottom: 15px;\"><div class=\"schema-detail-group\"><dt class=\"schema-detail-group-title\">Data Type</dt><dd class=\"schema-detail-group-value\"><a href=\"https://dev.socrata.com/docs/datatypes/text.html\" target=\"_blank\" rel=\"noreferrer\">Text</a></dd></div><div class=\"schema-detail-group\"><dt class=\"schema-detail-group-title\">API Field Name</dt><dd class=\"schema-detail-group-value\">weapon_desc</dd></div></dl></td></tr><tr class=\"column-summary\" data-column=\"status\" aria-expanded=\"true\" aria-haspopup=\"true\" role=\"link\" tabindex=\"0\" scope=\"row\"><td class=\"column-name\">Status</td><td class=\"column-description\"><div class=\"contents\" data-original-height=\"24\" style=\"height: auto;\"><span class=\"Linkify\">Status of the case. (IC is the default)</span></div></td><td class=\"column-type\"><div><span aria-hidden=\"true\" class=\"icon icon-data-type icon-text\"></span><span class=\"type-name\" data-name=\"text\">Plain Text</span></div></td><td class=\"column-expand\"><span class=\"icon-arrow-down\"></span></td></tr><tr class=\"column-details\" data-column=\"status\" style=\"display: table-row;\"><td colspan=\"4\"><dl class=\"contents schema-detail-groups\" style=\"height: 78px; padding-top: 15px; padding-bottom: 15px;\"><div class=\"schema-detail-group\"><dt class=\"schema-detail-group-title\">Data Type</dt><dd class=\"schema-detail-group-value\"><a href=\"https://dev.socrata.com/docs/datatypes/text.html\" target=\"_blank\" rel=\"noreferrer\">Text</a></dd></div><div class=\"schema-detail-group\"><dt class=\"schema-detail-group-title\">API Field Name</dt><dd class=\"schema-detail-group-value\">status</dd></div></dl></td></tr><tr class=\"column-summary\" data-column=\"status_desc\" aria-expanded=\"true\" aria-haspopup=\"true\" role=\"link\" tabindex=\"0\" scope=\"row\"><td class=\"column-name\">Status Desc</td><td class=\"column-description\"><div class=\"contents\" data-original-height=\"24\" style=\"height: auto;\"><span class=\"Linkify\">Defines the Status Code provided.</span></div></td><td class=\"column-type\"><div><span aria-hidden=\"true\" class=\"icon icon-data-type icon-text\"></span><span class=\"type-name\" data-name=\"text\">Plain Text</span></div></td><td class=\"column-expand\"><span class=\"icon-arrow-down\"></span></td></tr><tr class=\"column-details\" data-column=\"status_desc\" style=\"display: table-row;\"><td colspan=\"4\"><dl class=\"contents schema-detail-groups\" style=\"height: 78px; padding-top: 15px; padding-bottom: 15px;\"><div class=\"schema-detail-group\"><dt class=\"schema-detail-group-title\">Data Type</dt><dd class=\"schema-detail-group-value\"><a href=\"https://dev.socrata.com/docs/datatypes/text.html\" target=\"_blank\" rel=\"noreferrer\">Text</a></dd></div><div class=\"schema-detail-group\"><dt class=\"schema-detail-group-title\">API Field Name</dt><dd class=\"schema-detail-group-value\">status_desc</dd></div></dl></td></tr><tr class=\"column-summary\" data-column=\"crm_cd_1\" aria-expanded=\"true\" aria-haspopup=\"true\" role=\"link\" tabindex=\"0\" scope=\"row\"><td class=\"column-name\">Crm Cd 1</td><td class=\"column-description\"><div class=\"contents\" data-original-height=\"24\" style=\"height: auto;\"><span class=\"Linkify\">Indicates the crime committed. Crime Code 1 is the primary and most serious one. Crime Code 2, 3, and 4 are respectively less serious offenses. Lower crime class numbers are more serious.</span></div></td><td class=\"column-type\"><div><span aria-hidden=\"true\" class=\"icon icon-data-type icon-text\"></span><span class=\"type-name\" data-name=\"text\">Plain Text</span></div></td><td class=\"column-expand\"><span class=\"icon-arrow-down\"></span></td></tr><tr class=\"column-details\" data-column=\"crm_cd_1\" style=\"display: table-row;\"><td colspan=\"4\"><dl class=\"contents schema-detail-groups\" style=\"height: 78px; padding-top: 15px; padding-bottom: 15px;\"><div class=\"schema-detail-group\"><dt class=\"schema-detail-group-title\">Data Type</dt><dd class=\"schema-detail-group-value\"><a href=\"https://dev.socrata.com/docs/datatypes/text.html\" target=\"_blank\" rel=\"noreferrer\">Text</a></dd></div><div class=\"schema-detail-group\"><dt class=\"schema-detail-group-title\">API Field Name</dt><dd class=\"schema-detail-group-value\">crm_cd_1</dd></div></dl></td></tr><tr class=\"column-summary\" data-column=\"crm_cd_2\" aria-expanded=\"true\" aria-haspopup=\"true\" role=\"link\" tabindex=\"0\" scope=\"row\"><td class=\"column-name\">Crm Cd 2</td><td class=\"column-description\"><div class=\"contents\" data-original-height=\"24\" style=\"height: auto;\"><span class=\"Linkify\">May contain a code for an additional crime, less serious than Crime Code 1. </span></div></td><td class=\"column-type\"><div><span aria-hidden=\"true\" class=\"icon icon-data-type icon-text\"></span><span class=\"type-name\" data-name=\"text\">Plain Text</span></div></td><td class=\"column-expand\"><span class=\"icon-arrow-down\"></span></td></tr><tr class=\"column-details\" data-column=\"crm_cd_2\" style=\"display: table-row;\"><td colspan=\"4\"><dl class=\"contents schema-detail-groups\" style=\"height: 78px; padding-top: 15px; padding-bottom: 15px;\"><div class=\"schema-detail-group\"><dt class=\"schema-detail-group-title\">Data Type</dt><dd class=\"schema-detail-group-value\"><a href=\"https://dev.socrata.com/docs/datatypes/text.html\" target=\"_blank\" rel=\"noreferrer\">Text</a></dd></div><div class=\"schema-detail-group\"><dt class=\"schema-detail-group-title\">API Field Name</dt><dd class=\"schema-detail-group-value\">crm_cd_2</dd></div></dl></td></tr><tr class=\"column-summary\" data-column=\"crm_cd_3\" aria-expanded=\"true\" aria-haspopup=\"true\" role=\"link\" tabindex=\"0\" scope=\"row\"><td class=\"column-name\">Crm Cd 3</td><td class=\"column-description\"><div class=\"contents\" data-original-height=\"24\" style=\"height: auto;\"><span class=\"Linkify\">May contain a code for an additional crime, less serious than Crime Code 1.</span></div></td><td class=\"column-type\"><div><span aria-hidden=\"true\" class=\"icon icon-data-type icon-text\"></span><span class=\"type-name\" data-name=\"text\">Plain Text</span></div></td><td class=\"column-expand\"><span class=\"icon-arrow-down\"></span></td></tr><tr class=\"column-details\" data-column=\"crm_cd_3\" style=\"display: table-row;\"><td colspan=\"4\"><dl class=\"contents schema-detail-groups\" style=\"height: 78px; padding-top: 15px; padding-bottom: 15px;\"><div class=\"schema-detail-group\"><dt class=\"schema-detail-group-title\">Data Type</dt><dd class=\"schema-detail-group-value\"><a href=\"https://dev.socrata.com/docs/datatypes/text.html\" target=\"_blank\" rel=\"noreferrer\">Text</a></dd></div><div class=\"schema-detail-group\"><dt class=\"schema-detail-group-title\">API Field Name</dt><dd class=\"schema-detail-group-value\">crm_cd_3</dd></div></dl></td></tr><tr class=\"column-summary\" data-column=\"crm_cd_4\" aria-expanded=\"true\" aria-haspopup=\"true\" role=\"link\" tabindex=\"0\" scope=\"row\"><td class=\"column-name\">Crm Cd 4</td><td class=\"column-description\"><div class=\"contents\" data-original-height=\"24\" style=\"height: auto;\"><span class=\"Linkify\">May contain a code for an additional crime, less serious than Crime Code 1.</span></div></td><td class=\"column-type\"><div><span aria-hidden=\"true\" class=\"icon icon-data-type icon-text\"></span><span class=\"type-name\" data-name=\"text\">Plain Text</span></div></td><td class=\"column-expand\"><span class=\"icon-arrow-down\"></span></td></tr><tr class=\"column-details\" data-column=\"crm_cd_4\" style=\"display: table-row;\"><td colspan=\"4\"><dl class=\"contents schema-detail-groups\" style=\"height: 78px; padding-top: 15px; padding-bottom: 15px;\"><div class=\"schema-detail-group\"><dt class=\"schema-detail-group-title\">Data Type</dt><dd class=\"schema-detail-group-value\"><a href=\"https://dev.socrata.com/docs/datatypes/text.html\" target=\"_blank\" rel=\"noreferrer\">Text</a></dd></div><div class=\"schema-detail-group\"><dt class=\"schema-detail-group-title\">API Field Name</dt><dd class=\"schema-detail-group-value\">crm_cd_4</dd></div></dl></td></tr><tr class=\"column-summary\" data-column=\"location\" aria-expanded=\"true\" aria-haspopup=\"true\" role=\"link\" tabindex=\"0\" scope=\"row\"><td class=\"column-name\">LOCATION</td><td class=\"column-description\"><div class=\"contents\" data-original-height=\"24\" style=\"height: auto;\"><span class=\"Linkify\">Street address of crime incident rounded to the nearest hundred block to maintain anonymity.</span></div></td><td class=\"column-type\"><div><span aria-hidden=\"true\" class=\"icon icon-data-type icon-text\"></span><span class=\"type-name\" data-name=\"text\">Plain Text</span></div></td><td class=\"column-expand\"><span class=\"icon-arrow-down\"></span></td></tr><tr class=\"column-details\" data-column=\"location\" style=\"display: table-row;\"><td colspan=\"4\"><dl class=\"contents schema-detail-groups\" style=\"height: 78px; padding-top: 15px; padding-bottom: 15px;\"><div class=\"schema-detail-group\"><dt class=\"schema-detail-group-title\">Data Type</dt><dd class=\"schema-detail-group-value\"><a href=\"https://dev.socrata.com/docs/datatypes/text.html\" target=\"_blank\" rel=\"noreferrer\">Text</a></dd></div><div class=\"schema-detail-group\"><dt class=\"schema-detail-group-title\">API Field Name</dt><dd class=\"schema-detail-group-value\">location</dd></div></dl></td></tr><tr class=\"column-summary\" data-column=\"cross_street\" aria-expanded=\"true\" aria-haspopup=\"true\" role=\"link\" tabindex=\"0\" scope=\"row\"><td class=\"column-name\">Cross Street</td><td class=\"column-description\"><div class=\"contents\" data-original-height=\"24\" style=\"height: auto;\"><span class=\"Linkify\">Cross Street of rounded Address</span></div></td><td class=\"column-type\"><div><span aria-hidden=\"true\" class=\"icon icon-data-type icon-text\"></span><span class=\"type-name\" data-name=\"text\">Plain Text</span></div></td><td class=\"column-expand\"><span class=\"icon-arrow-down\"></span></td></tr><tr class=\"column-details\" data-column=\"cross_street\" style=\"display: table-row;\"><td colspan=\"4\"><dl class=\"contents schema-detail-groups\" style=\"height: 78px; padding-top: 15px; padding-bottom: 15px;\"><div class=\"schema-detail-group\"><dt class=\"schema-detail-group-title\">Data Type</dt><dd class=\"schema-detail-group-value\"><a href=\"https://dev.socrata.com/docs/datatypes/text.html\" target=\"_blank\" rel=\"noreferrer\">Text</a></dd></div><div class=\"schema-detail-group\"><dt class=\"schema-detail-group-title\">API Field Name</dt><dd class=\"schema-detail-group-value\">cross_street</dd></div></dl></td></tr><tr class=\"column-summary\" data-column=\"lat\" aria-expanded=\"true\" aria-haspopup=\"true\" role=\"link\" tabindex=\"0\" scope=\"row\"><td class=\"column-name\">LAT</td><td class=\"column-description\"><div class=\"contents\" data-original-height=\"24\" style=\"height: auto;\"><span class=\"Linkify\">Latitude</span></div></td><td class=\"column-type\"><div><span aria-hidden=\"true\" class=\"icon icon-data-type icon-number\"></span><span class=\"type-name\" data-name=\"number\">Number</span></div></td><td class=\"column-expand\"><span class=\"icon-arrow-down\"></span></td></tr><tr class=\"column-details\" data-column=\"lat\" style=\"display: table-row;\"><td colspan=\"4\"><dl class=\"contents schema-detail-groups\" style=\"height: 78px; padding-top: 15px; padding-bottom: 15px;\"><div class=\"schema-detail-group\"><dt class=\"schema-detail-group-title\">Data Type</dt><dd class=\"schema-detail-group-value\"><a href=\"https://dev.socrata.com/docs/datatypes/number.html\" target=\"_blank\" rel=\"noreferrer\">Number</a></dd></div><div class=\"schema-detail-group\"><dt class=\"schema-detail-group-title\">API Field Name</dt><dd class=\"schema-detail-group-value\">lat</dd></div></dl></td></tr><tr class=\"column-summary\" data-column=\"lon\" aria-expanded=\"true\" aria-haspopup=\"true\" role=\"link\" tabindex=\"0\" scope=\"row\"><td class=\"column-name\">LON</td><td class=\"column-description\"><div class=\"contents\" data-original-height=\"24\" style=\"height: auto;\"><span class=\"Linkify\">Longtitude</span></div></td><td class=\"column-type\"><div><span aria-hidden=\"true\" class=\"icon icon-data-type icon-number\"></span><span class=\"type-name\" data-name=\"number\">Number</span></div></td><td class=\"column-expand\"><span class=\"icon-arrow-down\"></span></td></tr><tr class=\"column-details\" data-column=\"lon\" style=\"display: table-row;\"><td colspan=\"4\"><dl class=\"contents schema-detail-groups\" style=\"height: 78px; padding-top: 15px; padding-bottom: 15px;\"><div class=\"schema-detail-group\"><dt class=\"schema-detail-group-title\">Data Type</dt><dd class=\"schema-detail-group-value\"><a href=\"https://dev.socrata.com/docs/datatypes/number.html\" target=\"_blank\" rel=\"noreferrer\">Number</a></dd></div><div class=\"schema-detail-group\"><dt class=\"schema-detail-group-title\">API Field Name</dt><dd class=\"schema-detail-group-value\">lon</dd></div></dl></td></tr></tbody></table></div><div class=\"table-collapse-toggles\"><a class=\"table-collapse-toggle more\" tabindex=\"0\" role=\"button\">Show All (28)</a><a class=\"table-collapse-toggle less\" tabindex=\"0\" role=\"button\">Show Less</a></div></div>"
   ],
   "metadata": {
    "collapsed": false
   },
   "id": "f88df535a203b991"
  },
  {
   "cell_type": "code",
   "outputs": [],
   "source": [],
   "metadata": {
    "collapsed": false
   },
   "id": "24180e1065031c50"
  }
 ],
 "metadata": {
  "kernelspec": {
   "display_name": "Python 3",
   "language": "python",
   "name": "python3"
  },
  "language_info": {
   "codemirror_mode": {
    "name": "ipython",
    "version": 2
   },
   "file_extension": ".py",
   "mimetype": "text/x-python",
   "name": "python",
   "nbconvert_exporter": "python",
   "pygments_lexer": "ipython2",
   "version": "2.7.6"
  }
 },
 "nbformat": 4,
 "nbformat_minor": 5
}

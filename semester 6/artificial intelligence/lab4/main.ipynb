{
 "cells": [
  {
   "cell_type": "code",
   "execution_count": 2,
   "id": "initial_id",
   "metadata": {
    "collapsed": true,
    "ExecuteTime": {
     "end_time": "2024-06-05T15:12:42.735853Z",
     "start_time": "2024-06-05T15:12:42.729006Z"
    }
   },
   "outputs": [],
   "source": [
    "from sklearn.model_selection import train_test_split\n",
    "import pandas as pd\n",
    "import numpy as np\n",
    "import matplotlib.pyplot as plt\n",
    "import seaborn as sns\n",
    "from sklearn.preprocessing import OrdinalEncoder\n",
    "from sklearn.preprocessing import OneHotEncoder\n",
    "from sklearn.preprocessing import MinMaxScaler\n",
    "from sklearn.preprocessing import StandardScaler\n",
    "from sklearn.metrics import classification_report\n",
    "from sklearn.ensemble import RandomForestClassifier\n",
    "from sklearn.impute import SimpleImputer\n",
    "from sklearn.metrics import accuracy_score\n",
    "from sklearn.tree import DecisionTreeClassifier\n",
    "from sklearn.naive_bayes import GaussianNB\n",
    "from sklearn.model_selection import GridSearchCV"
   ]
  },
  {
   "cell_type": "code",
   "outputs": [],
   "source": [
    "df = pd.read_csv(\"t-shirts.csv\")\n"
   ],
   "metadata": {
    "collapsed": false,
    "ExecuteTime": {
     "end_time": "2024-06-05T15:12:43.261100Z",
     "start_time": "2024-06-05T15:12:43.224069Z"
    }
   },
   "id": "7ddac2d508acd1bf",
   "execution_count": 3
  },
  {
   "cell_type": "code",
   "outputs": [
    {
     "data": {
      "text/plain": "  size   material   color sleeves  demand\n0    S      nylon   white    long  medium\n1   XL  polyester   cream   short    high\n2    S       silk    blue   short  medium\n3    M     cotton   black   short  medium\n4   XL  polyester  orange    long  medium",
      "text/html": "<div>\n<style scoped>\n    .dataframe tbody tr th:only-of-type {\n        vertical-align: middle;\n    }\n\n    .dataframe tbody tr th {\n        vertical-align: top;\n    }\n\n    .dataframe thead th {\n        text-align: right;\n    }\n</style>\n<table border=\"1\" class=\"dataframe\">\n  <thead>\n    <tr style=\"text-align: right;\">\n      <th></th>\n      <th>size</th>\n      <th>material</th>\n      <th>color</th>\n      <th>sleeves</th>\n      <th>demand</th>\n    </tr>\n  </thead>\n  <tbody>\n    <tr>\n      <th>0</th>\n      <td>S</td>\n      <td>nylon</td>\n      <td>white</td>\n      <td>long</td>\n      <td>medium</td>\n    </tr>\n    <tr>\n      <th>1</th>\n      <td>XL</td>\n      <td>polyester</td>\n      <td>cream</td>\n      <td>short</td>\n      <td>high</td>\n    </tr>\n    <tr>\n      <th>2</th>\n      <td>S</td>\n      <td>silk</td>\n      <td>blue</td>\n      <td>short</td>\n      <td>medium</td>\n    </tr>\n    <tr>\n      <th>3</th>\n      <td>M</td>\n      <td>cotton</td>\n      <td>black</td>\n      <td>short</td>\n      <td>medium</td>\n    </tr>\n    <tr>\n      <th>4</th>\n      <td>XL</td>\n      <td>polyester</td>\n      <td>orange</td>\n      <td>long</td>\n      <td>medium</td>\n    </tr>\n  </tbody>\n</table>\n</div>"
     },
     "execution_count": 4,
     "metadata": {},
     "output_type": "execute_result"
    }
   ],
   "source": [
    "df.head(5)"
   ],
   "metadata": {
    "collapsed": false,
    "ExecuteTime": {
     "end_time": "2024-06-05T15:12:43.299241Z",
     "start_time": "2024-06-05T15:12:43.279976Z"
    }
   },
   "id": "5794790145a505b8",
   "execution_count": 4
  },
  {
   "cell_type": "code",
   "outputs": [
    {
     "data": {
      "text/plain": "size        object\nmaterial    object\ncolor       object\nsleeves     object\ndemand      object\ndtype: object"
     },
     "execution_count": 5,
     "metadata": {},
     "output_type": "execute_result"
    }
   ],
   "source": [
    "df.dtypes"
   ],
   "metadata": {
    "collapsed": false,
    "ExecuteTime": {
     "end_time": "2024-06-05T15:12:43.427204Z",
     "start_time": "2024-06-05T15:12:43.401662Z"
    }
   },
   "id": "bac79d95785f2846",
   "execution_count": 5
  },
  {
   "cell_type": "code",
   "outputs": [
    {
     "data": {
      "text/plain": "         size material  color sleeves demand\ncount   20000    20000  20000   20000  20000\nunique      7        5     10       2      3\ntop         L    nylon  white    long   high\nfreq     4408     5652   3286   10117   8965",
      "text/html": "<div>\n<style scoped>\n    .dataframe tbody tr th:only-of-type {\n        vertical-align: middle;\n    }\n\n    .dataframe tbody tr th {\n        vertical-align: top;\n    }\n\n    .dataframe thead th {\n        text-align: right;\n    }\n</style>\n<table border=\"1\" class=\"dataframe\">\n  <thead>\n    <tr style=\"text-align: right;\">\n      <th></th>\n      <th>size</th>\n      <th>material</th>\n      <th>color</th>\n      <th>sleeves</th>\n      <th>demand</th>\n    </tr>\n  </thead>\n  <tbody>\n    <tr>\n      <th>count</th>\n      <td>20000</td>\n      <td>20000</td>\n      <td>20000</td>\n      <td>20000</td>\n      <td>20000</td>\n    </tr>\n    <tr>\n      <th>unique</th>\n      <td>7</td>\n      <td>5</td>\n      <td>10</td>\n      <td>2</td>\n      <td>3</td>\n    </tr>\n    <tr>\n      <th>top</th>\n      <td>L</td>\n      <td>nylon</td>\n      <td>white</td>\n      <td>long</td>\n      <td>high</td>\n    </tr>\n    <tr>\n      <th>freq</th>\n      <td>4408</td>\n      <td>5652</td>\n      <td>3286</td>\n      <td>10117</td>\n      <td>8965</td>\n    </tr>\n  </tbody>\n</table>\n</div>"
     },
     "execution_count": 6,
     "metadata": {},
     "output_type": "execute_result"
    }
   ],
   "source": [
    "df.describe()"
   ],
   "metadata": {
    "collapsed": false,
    "ExecuteTime": {
     "end_time": "2024-06-05T15:12:43.523263Z",
     "start_time": "2024-06-05T15:12:43.491326Z"
    }
   },
   "id": "f56b48682c74937d",
   "execution_count": 6
  },
  {
   "cell_type": "code",
   "outputs": [
    {
     "name": "stdout",
     "output_type": "stream",
     "text": [
      "Unique values in size: 7\n",
      "Unique values in material: 5\n",
      "Unique values in color: 10\n",
      "Unique values in sleeves: 2\n",
      "Unique values in demand: 3\n"
     ]
    }
   ],
   "source": [
    "for column in df.columns:\n",
    "    print(f\"Unique values in {column}: {df[column].nunique()}\")"
   ],
   "metadata": {
    "collapsed": false,
    "ExecuteTime": {
     "end_time": "2024-06-05T15:12:43.604110Z",
     "start_time": "2024-06-05T15:12:43.591736Z"
    }
   },
   "id": "7b378d61c50672b4",
   "execution_count": 7
  },
  {
   "cell_type": "code",
   "outputs": [
    {
     "name": "stdout",
     "output_type": "stream",
     "text": [
      "size: ['S' 'XL' 'M' 'XS' 'XXL' 'L' '3XL']\n",
      "material: ['nylon' 'polyester' 'silk' 'cotton' 'linen']\n",
      "color: ['white' 'cream' 'blue' 'black' 'orange' 'green' 'yellow' 'red' 'violet'\n",
      " 'navy']\n",
      "sleeves: ['long' 'short']\n",
      "demand: ['medium' 'high' 'low']\n"
     ]
    }
   ],
   "source": [
    "for column in df.columns:\n",
    "    unique_values = df[column].unique()\n",
    "    print(f\"{column}: {unique_values}\")"
   ],
   "metadata": {
    "collapsed": false,
    "ExecuteTime": {
     "end_time": "2024-06-05T15:12:43.765883Z",
     "start_time": "2024-06-05T15:12:43.755044Z"
    }
   },
   "id": "a9fb3c6e3a7ffcc6",
   "execution_count": 8
  },
  {
   "cell_type": "markdown",
   "source": [
    "## Based on this : size, demand and sleeves can be changed to numerical values. Theoretically also color if order it in specific order"
   ],
   "metadata": {
    "collapsed": false
   },
   "id": "7fb9ff2136cc71ce"
  },
  {
   "cell_type": "code",
   "outputs": [
    {
     "data": {
      "text/plain": "<Figure size 1500x1000 with 0 Axes>"
     },
     "execution_count": 9,
     "metadata": {},
     "output_type": "execute_result"
    },
    {
     "data": {
      "text/plain": "<Figure size 1500x1000 with 0 Axes>"
     },
     "metadata": {},
     "output_type": "display_data"
    }
   ],
   "source": [
    "plt.figure(figsize=(15, 10))"
   ],
   "metadata": {
    "collapsed": false,
    "ExecuteTime": {
     "end_time": "2024-06-05T15:12:43.989680Z",
     "start_time": "2024-06-05T15:12:43.935920Z"
    }
   },
   "id": "92a01939cecca861",
   "execution_count": 9
  },
  {
   "cell_type": "code",
   "outputs": [
    {
     "data": {
      "text/plain": "<Figure size 640x480 with 1 Axes>",
      "image/png": "[encoded data removed]"
     },
     "metadata": {},
     "output_type": "display_data"
    }
   ],
   "source": [
    "sns.countplot(x='demand', data=df)\n",
    "plt.title('Demand Distribution')\n",
    "plt.show()"
   ],
   "metadata": {
    "collapsed": false,
    "ExecuteTime": {
     "end_time": "2024-06-05T15:12:44.267834Z",
     "start_time": "2024-06-05T15:12:44.032917Z"
    }
   },
   "id": "eb4ba18ea208a68a",
   "execution_count": 10
  },
  {
   "cell_type": "code",
   "outputs": [
    {
     "data": {
      "text/plain": "<Figure size 640x480 with 1 Axes>",
      "image/png": "[encoded data removed]"
     },
     "metadata": {},
     "output_type": "display_data"
    }
   ],
   "source": [
    "sns.countplot(x='size', data=df)\n",
    "plt.title('Size Distribution')\n",
    "plt.show()"
   ],
   "metadata": {
    "collapsed": false,
    "ExecuteTime": {
     "end_time": "2024-06-05T15:12:44.499148Z",
     "start_time": "2024-06-05T15:12:44.269969Z"
    }
   },
   "id": "c943d30aeca7cf34",
   "execution_count": 11
  },
  {
   "cell_type": "code",
   "outputs": [
    {
     "data": {
      "text/plain": "<Figure size 640x480 with 1 Axes>",
      "image/png": "[encoded data removed]"
     },
     "metadata": {},
     "output_type": "display_data"
    }
   ],
   "source": [
    "sns.countplot(x='material', data=df)\n",
    "plt.title('Material Distribution')\n",
    "plt.show()"
   ],
   "metadata": {
    "collapsed": false,
    "ExecuteTime": {
     "end_time": "2024-06-05T15:12:44.728838Z",
     "start_time": "2024-06-05T15:12:44.502485Z"
    }
   },
   "id": "b77893865f7d2aba",
   "execution_count": 12
  },
  {
   "cell_type": "code",
   "outputs": [
    {
     "data": {
      "text/plain": "<Figure size 1800x600 with 1 Axes>",
      "image/png": "[encoded data removed]"
     },
     "metadata": {},
     "output_type": "display_data"
    }
   ],
   "source": [
    "plt.figure(figsize=(18, 6))\n",
    "sns.countplot(x='color', data=df)\n",
    "plt.title('Color Distribution')\n",
    "plt.show()"
   ],
   "metadata": {
    "collapsed": false,
    "ExecuteTime": {
     "end_time": "2024-06-05T15:12:45.033043Z",
     "start_time": "2024-06-05T15:12:44.729947Z"
    }
   },
   "id": "c8380a742611a2fe",
   "execution_count": 13
  },
  {
   "cell_type": "code",
   "outputs": [
    {
     "data": {
      "text/plain": "<Figure size 640x480 with 1 Axes>",
      "image/png": "[encoded data removed]"
     },
     "metadata": {},
     "output_type": "display_data"
    }
   ],
   "source": [
    "sns.countplot(x='sleeves', data=df)\n",
    "plt.title('Sleeve Length Distribution')\n",
    "plt.show()"
   ],
   "metadata": {
    "collapsed": false,
    "ExecuteTime": {
     "end_time": "2024-06-05T15:12:45.217868Z",
     "start_time": "2024-06-05T15:12:45.035220Z"
    }
   },
   "id": "cc48f9baf3cdf43c",
   "execution_count": 14
  },
  {
   "cell_type": "code",
   "outputs": [
    {
     "data": {
      "text/plain": "size        0\nmaterial    0\ncolor       0\nsleeves     0\ndemand      0\ndtype: int64"
     },
     "execution_count": 15,
     "metadata": {},
     "output_type": "execute_result"
    }
   ],
   "source": [
    "df.isnull().sum()\n"
   ],
   "metadata": {
    "collapsed": false,
    "ExecuteTime": {
     "end_time": "2024-06-05T15:12:45.230770Z",
     "start_time": "2024-06-05T15:12:45.219027Z"
    }
   },
   "id": "94226872affc96ae",
   "execution_count": 15
  },
  {
   "cell_type": "code",
   "outputs": [
    {
     "data": {
      "text/plain": "size        0\nmaterial    0\ncolor       0\nsleeves     0\ndemand      0\ndtype: int64"
     },
     "execution_count": 16,
     "metadata": {},
     "output_type": "execute_result"
    }
   ],
   "source": [
    "(df == '').sum()"
   ],
   "metadata": {
    "collapsed": false,
    "ExecuteTime": {
     "end_time": "2024-06-05T15:12:45.246954Z",
     "start_time": "2024-06-05T15:12:45.232913Z"
    }
   },
   "id": "2af1e3c5e76e7998",
   "execution_count": 16
  },
  {
   "cell_type": "markdown",
   "source": [
    "# SO THERE IS NO MISSING VALUES HERE"
   ],
   "metadata": {
    "collapsed": false
   },
   "id": "bbfe3f9e3c869fc7"
  },
  {
   "cell_type": "code",
   "outputs": [],
   "source": [
    "df_processed = df.copy()"
   ],
   "metadata": {
    "collapsed": false,
    "ExecuteTime": {
     "end_time": "2024-06-05T15:12:45.254853Z",
     "start_time": "2024-06-05T15:12:45.249134Z"
    }
   },
   "id": "26212e5b9e72d291",
   "execution_count": 17
  },
  {
   "cell_type": "code",
   "outputs": [],
   "source": [
    "ordinal_encoder = OrdinalEncoder(categories=[['XS', 'S', 'M', 'L', 'XL', 'XXL', '3XL']])\n",
    "df_processed['size'] = ordinal_encoder.fit_transform(df_processed[['size']])\n",
    "\n"
   ],
   "metadata": {
    "collapsed": false,
    "ExecuteTime": {
     "end_time": "2024-06-05T15:12:45.270710Z",
     "start_time": "2024-06-05T15:12:45.258102Z"
    }
   },
   "id": "931649af3a9c60de",
   "execution_count": 18
  },
  {
   "cell_type": "code",
   "outputs": [],
   "source": [
    "ordinal_encoder = OrdinalEncoder(categories=[['long','short']])\n",
    "df_processed['sleeves'] = ordinal_encoder.fit_transform(df_processed[['sleeves']])\n"
   ],
   "metadata": {
    "collapsed": false,
    "ExecuteTime": {
     "end_time": "2024-06-05T15:12:45.285895Z",
     "start_time": "2024-06-05T15:12:45.272918Z"
    }
   },
   "id": "dbc33c9f4807aa40",
   "execution_count": 19
  },
  {
   "cell_type": "code",
   "outputs": [],
   "source": [
    "ordinal_encoder = OrdinalEncoder(categories=[['low','medium','high']])\n",
    "df_processed['demand'] = ordinal_encoder.fit_transform(df_processed[['demand']])\n"
   ],
   "metadata": {
    "collapsed": false,
    "ExecuteTime": {
     "end_time": "2024-06-05T15:12:45.303906Z",
     "start_time": "2024-06-05T15:12:45.288117Z"
    }
   },
   "id": "3e352ac1e855a110",
   "execution_count": 20
  },
  {
   "cell_type": "code",
   "outputs": [],
   "source": [
    "# Initialize the OneHotEncoder\n",
    "encoder = OneHotEncoder(sparse_output=False)\n"
   ],
   "metadata": {
    "collapsed": false,
    "ExecuteTime": {
     "end_time": "2024-06-05T15:12:45.313865Z",
     "start_time": "2024-06-05T15:12:45.306197Z"
    }
   },
   "id": "21269965f3332b69",
   "execution_count": 21
  },
  {
   "cell_type": "code",
   "outputs": [],
   "source": [
    "\n",
    "# Perform one-hot encoding on the 'color' column\n",
    "encoded_colors = encoder.fit_transform(df_processed[['color']])\n",
    "encoded_colors_df = pd.DataFrame(encoded_colors, columns=encoder.get_feature_names_out(['color']))\n"
   ],
   "metadata": {
    "collapsed": false,
    "ExecuteTime": {
     "end_time": "2024-06-05T15:12:45.330644Z",
     "start_time": "2024-06-05T15:12:45.314943Z"
    }
   },
   "id": "aa6a30d04eb225e9",
   "execution_count": 22
  },
  {
   "cell_type": "code",
   "outputs": [],
   "source": [
    "# Perform one-hot encoding on the 'material' column\n",
    "encoded_materials = encoder.fit_transform(df_processed[['material']])\n",
    "encoded_materials_df = pd.DataFrame(encoded_materials, columns=encoder.get_feature_names_out(['material']))\n"
   ],
   "metadata": {
    "collapsed": false,
    "ExecuteTime": {
     "end_time": "2024-06-05T15:12:45.344917Z",
     "start_time": "2024-06-05T15:12:45.332799Z"
    }
   },
   "id": "815368c8abd31ef8",
   "execution_count": 23
  },
  {
   "cell_type": "code",
   "outputs": [],
   "source": [
    "# Concatenate the encoded columns back to the original DataFrame\n",
    "df_processed = pd.concat([df_processed, encoded_colors_df, encoded_materials_df], axis=1).drop(['color', 'material'], axis=1)\n"
   ],
   "metadata": {
    "collapsed": false,
    "ExecuteTime": {
     "end_time": "2024-06-05T15:12:45.526024Z",
     "start_time": "2024-06-05T15:12:45.514307Z"
    }
   },
   "id": "554473555902568c",
   "execution_count": 24
  },
  {
   "cell_type": "code",
   "outputs": [
    {
     "data": {
      "text/plain": "   size  sleeves  demand  color_black  color_blue  color_cream  color_green  \\\n0   1.0      0.0     1.0          0.0         0.0          0.0          0.0   \n1   4.0      1.0     2.0          0.0         0.0          1.0          0.0   \n2   1.0      1.0     1.0          0.0         1.0          0.0          0.0   \n3   2.0      1.0     1.0          1.0         0.0          0.0          0.0   \n4   4.0      0.0     1.0          0.0         0.0          0.0          0.0   \n\n   color_navy  color_orange  color_red  color_violet  color_white  \\\n0         0.0           0.0        0.0           0.0          1.0   \n1         0.0           0.0        0.0           0.0          0.0   \n2         0.0           0.0        0.0           0.0          0.0   \n3         0.0           0.0        0.0           0.0          0.0   \n4         0.0           1.0        0.0           0.0          0.0   \n\n   color_yellow  material_cotton  material_linen  material_nylon  \\\n0           0.0              0.0             0.0             1.0   \n1           0.0              0.0             0.0             0.0   \n2           0.0              0.0             0.0             0.0   \n3           0.0              1.0             0.0             0.0   \n4           0.0              0.0             0.0             0.0   \n\n   material_polyester  material_silk  \n0                 0.0            0.0  \n1                 1.0            0.0  \n2                 0.0            1.0  \n3                 0.0            0.0  \n4                 1.0            0.0  ",
      "text/html": "<div>\n<style scoped>\n    .dataframe tbody tr th:only-of-type {\n        vertical-align: middle;\n    }\n\n    .dataframe tbody tr th {\n        vertical-align: top;\n    }\n\n    .dataframe thead th {\n        text-align: right;\n    }\n</style>\n<table border=\"1\" class=\"dataframe\">\n  <thead>\n    <tr style=\"text-align: right;\">\n      <th></th>\n      <th>size</th>\n      <th>sleeves</th>\n      <th>demand</th>\n      <th>color_black</th>\n      <th>color_blue</th>\n      <th>color_cream</th>\n      <th>color_green</th>\n      <th>color_navy</th>\n      <th>color_orange</th>\n      <th>color_red</th>\n      <th>color_violet</th>\n      <th>color_white</th>\n      <th>color_yellow</th>\n      <th>material_cotton</th>\n      <th>material_linen</th>\n      <th>material_nylon</th>\n      <th>material_polyester</th>\n      <th>material_silk</th>\n    </tr>\n  </thead>\n  <tbody>\n    <tr>\n      <th>0</th>\n      <td>1.0</td>\n      <td>0.0</td>\n      <td>1.0</td>\n      <td>0.0</td>\n      <td>0.0</td>\n      <td>0.0</td>\n      <td>0.0</td>\n      <td>0.0</td>\n      <td>0.0</td>\n      <td>0.0</td>\n      <td>0.0</td>\n      <td>1.0</td>\n      <td>0.0</td>\n      <td>0.0</td>\n      <td>0.0</td>\n      <td>1.0</td>\n      <td>0.0</td>\n      <td>0.0</td>\n    </tr>\n    <tr>\n      <th>1</th>\n      <td>4.0</td>\n      <td>1.0</td>\n      <td>2.0</td>\n      <td>0.0</td>\n      <td>0.0</td>\n      <td>1.0</td>\n      <td>0.0</td>\n      <td>0.0</td>\n      <td>0.0</td>\n      <td>0.0</td>\n      <td>0.0</td>\n      <td>0.0</td>\n      <td>0.0</td>\n      <td>0.0</td>\n      <td>0.0</td>\n      <td>0.0</td>\n      <td>1.0</td>\n      <td>0.0</td>\n    </tr>\n    <tr>\n      <th>2</th>\n      <td>1.0</td>\n      <td>1.0</td>\n      <td>1.0</td>\n      <td>0.0</td>\n      <td>1.0</td>\n      <td>0.0</td>\n      <td>0.0</td>\n      <td>0.0</td>\n      <td>0.0</td>\n      <td>0.0</td>\n      <td>0.0</td>\n      <td>0.0</td>\n      <td>0.0</td>\n      <td>0.0</td>\n      <td>0.0</td>\n      <td>0.0</td>\n      <td>0.0</td>\n      <td>1.0</td>\n    </tr>\n    <tr>\n      <th>3</th>\n      <td>2.0</td>\n      <td>1.0</td>\n      <td>1.0</td>\n      <td>1.0</td>\n      <td>0.0</td>\n      <td>0.0</td>\n      <td>0.0</td>\n      <td>0.0</td>\n      <td>0.0</td>\n      <td>0.0</td>\n      <td>0.0</td>\n      <td>0.0</td>\n      <td>0.0</td>\n      <td>1.0</td>\n      <td>0.0</td>\n      <td>0.0</td>\n      <td>0.0</td>\n      <td>0.0</td>\n    </tr>\n    <tr>\n      <th>4</th>\n      <td>4.0</td>\n      <td>0.0</td>\n      <td>1.0</td>\n      <td>0.0</td>\n      <td>0.0</td>\n      <td>0.0</td>\n      <td>0.0</td>\n      <td>0.0</td>\n      <td>1.0</td>\n      <td>0.0</td>\n      <td>0.0</td>\n      <td>0.0</td>\n      <td>0.0</td>\n      <td>0.0</td>\n      <td>0.0</td>\n      <td>0.0</td>\n      <td>1.0</td>\n      <td>0.0</td>\n    </tr>\n  </tbody>\n</table>\n</div>"
     },
     "execution_count": 25,
     "metadata": {},
     "output_type": "execute_result"
    }
   ],
   "source": [
    "df_processed.head()"
   ],
   "metadata": {
    "collapsed": false,
    "ExecuteTime": {
     "end_time": "2024-06-05T15:12:45.691926Z",
     "start_time": "2024-06-05T15:12:45.667786Z"
    }
   },
   "id": "f2641d4c47943254",
   "execution_count": 25
  },
  {
   "cell_type": "markdown",
   "source": [
    "# DONE DATA PREPROCESSING"
   ],
   "metadata": {
    "collapsed": false
   },
   "id": "4232a24f768f8ec3"
  },
  {
   "cell_type": "markdown",
   "source": [
    "The validation set is a set of data, separate from the training set, that is used to validate our model performance during training.\n",
    "\n",
    "This validation process gives information that helps us tune the model’s hyperparameters and configurations accordingly. It is like a critic telling us whether the training is moving in the right direction or not.\n",
    "\n",
    "The model is trained on the training set, and, simultaneously, the model evaluation is performed on the validation set after every epoch.\n",
    "\n",
    "The main idea of splitting the dataset into a validation set is to prevent our model from overfitting i.e., the model becomes really good at classifying the samples in the training set but cannot generalize and make accurate classifications on the data it has not seen before. "
   ],
   "metadata": {
    "collapsed": false
   },
   "id": "b2ef637582f49d0a"
  },
  {
   "cell_type": "markdown",
   "source": [
    "Metrics:\n",
    "Precision: The ratio of correctly predicted positive observations to the total predicted positives. It tells us what proportion of predicted positives is actually correct.\n",
    "\n",
    "\n",
    " \n",
    "Recall: The ratio of correctly predicted positive observations to all observations in the actual class. It tells us what proportion of actual positives is correctly identified.\n",
    "\n",
    "\n",
    " \n",
    "F1-Score: The weighted average of Precision and Recall. It seeks a balance between precision and recall.\n",
    "\n",
    "Support: The number of actual occurrences of the class in the dataset.\n",
    "\n",
    "Classes:\n",
    "The output shows metrics for three classes (0.0, 1.0, 2.0). Each class likely corresponds to different levels of demand (e.g., low, medium, high).\n",
    "Interpretation:\n",
    "Class 0.0:\n",
    "\n",
    "Precision: 0.95 (95% of predictions for class 0.0 are correct)\n",
    "Recall: 0.94 (94% of actual class 0.0 instances are correctly predicted)\n",
    "F1-Score: 0.95 (harmonic mean of precision and recall)\n",
    "Support: 456 (there are 456 instances of class 0.0 in the validation set)\n",
    "Class 1.0:\n",
    "\n",
    "Precision: 0.97 (97% of predictions for class 1.0 are correct)\n",
    "Recall: 0.97 (97% of actual class 1.0 instances are correctly predicted)\n",
    "F1-Score: 0.97 (harmonic mean of precision and recall)\n",
    "Support: 1749 (there are 1749 instances of class 1.0 in the validation set)\n",
    "Class 2.0:\n",
    "\n",
    "Precision: 0.98 (98% of predictions for class 2.0 are correct)\n",
    "Recall: 0.98 (98% of actual class 2.0 instances are correctly predicted)\n",
    "F1-Score: 0.98 (harmonic mean of precision and recall)\n",
    "Support: 1795 (there are 1795 instances of class 2.0 in the validation set)\n",
    "Overall Metrics:\n",
    "Accuracy: The ratio of correctly predicted instances to the total instances. Here, it's 0.97, meaning the model is 97% accurate.\n",
    "Macro Average: The average of the precision, recall, and F1-score for all classes, treating all classes equally.\n",
    "Precision: 0.97\n",
    "Recall: 0.96\n",
    "F1-Score: 0.97\n",
    "Weighted Average: The average of the precision, recall, and F1-score, weighted by the number of instances in each class (support).\n",
    "Precision: 0.97\n",
    "Recall: 0.97\n",
    "F1-Score: 0.97"
   ],
   "metadata": {
    "collapsed": false
   },
   "id": "d888fde07a949b8b"
  },
  {
   "cell_type": "code",
   "outputs": [],
   "source": [
    "def train_evaluate(X_train, y_train, X_val, y_val):\n",
    "    model = RandomForestClassifier(random_state=42)\n",
    "    model.fit(X_train, y_train)\n",
    "    y_pred = model.predict(X_val)\n",
    "    print(classification_report(y_val, y_pred))"
   ],
   "metadata": {
    "collapsed": false,
    "ExecuteTime": {
     "end_time": "2024-06-05T15:12:45.716959Z",
     "start_time": "2024-06-05T15:12:45.711115Z"
    }
   },
   "id": "dbe658d7b925c6ff",
   "execution_count": 26
  },
  {
   "cell_type": "markdown",
   "source": [
    "# Check on original data"
   ],
   "metadata": {
    "collapsed": false
   },
   "id": "d630b9a640935f57"
  },
  {
   "cell_type": "code",
   "outputs": [],
   "source": [
    "# Separate features and target\n",
    "X = df_processed.drop('demand', axis=1)\n",
    "y = df_processed['demand']"
   ],
   "metadata": {
    "collapsed": false,
    "ExecuteTime": {
     "end_time": "2024-06-05T15:12:45.784587Z",
     "start_time": "2024-06-05T15:12:45.776333Z"
    }
   },
   "id": "f2273c44c3b8e9fc",
   "execution_count": 27
  },
  {
   "cell_type": "code",
   "outputs": [],
   "source": [
    "# Split the data into training and testing datasets\n",
    "X_temp, X_test, y_temp, y_test = train_test_split(X, y, test_size=0.2, random_state=42)\n",
    "\n",
    "# Further split the temporary set into training and validation datasets\n",
    "X_train, X_val, y_train, y_val = train_test_split(X_temp, y_temp, test_size=0.25, random_state=42)\n"
   ],
   "metadata": {
    "collapsed": false,
    "ExecuteTime": {
     "end_time": "2024-06-05T15:12:45.857786Z",
     "start_time": "2024-06-05T15:12:45.840921Z"
    }
   },
   "id": "b7792fdecd13b804",
   "execution_count": 28
  },
  {
   "cell_type": "code",
   "outputs": [
    {
     "name": "stdout",
     "output_type": "stream",
     "text": [
      "              precision    recall  f1-score   support\n",
      "\n",
      "         0.0       0.95      0.94      0.95       456\n",
      "         1.0       0.97      0.97      0.97      1749\n",
      "         2.0       0.98      0.98      0.98      1795\n",
      "\n",
      "    accuracy                           0.97      4000\n",
      "   macro avg       0.97      0.96      0.97      4000\n",
      "weighted avg       0.97      0.97      0.97      4000\n"
     ]
    }
   ],
   "source": [
    "train_evaluate(X_train, y_train, X_val, y_val)"
   ],
   "metadata": {
    "collapsed": false,
    "ExecuteTime": {
     "end_time": "2024-06-05T15:12:46.741791Z",
     "start_time": "2024-06-05T15:12:45.915668Z"
    }
   },
   "id": "3a66f4ea916364e0",
   "execution_count": 29
  },
  {
   "cell_type": "code",
   "outputs": [
    {
     "name": "stdout",
     "output_type": "stream",
     "text": [
      "              precision    recall  f1-score   support\n",
      "\n",
      "         0.0       0.96      0.92      0.94       457\n",
      "         1.0       0.96      0.98      0.97      1740\n",
      "         2.0       0.99      0.98      0.98      1803\n",
      "\n",
      "    accuracy                           0.97      4000\n",
      "   macro avg       0.97      0.96      0.97      4000\n",
      "weighted avg       0.97      0.97      0.97      4000\n"
     ]
    }
   ],
   "source": [
    "train_evaluate(X_train, y_train, X_test,y_test)"
   ],
   "metadata": {
    "collapsed": false,
    "ExecuteTime": {
     "end_time": "2024-06-05T15:12:47.560025Z",
     "start_time": "2024-06-05T15:12:46.745280Z"
    }
   },
   "id": "260983dc437c93d8",
   "execution_count": 30
  },
  {
   "cell_type": "code",
   "outputs": [
    {
     "name": "stdout",
     "output_type": "stream",
     "text": [
      "Training set shape: (12000, 17) (12000,)\n"
     ]
    }
   ],
   "source": [
    "print(\"Training set shape:\", X_train.shape, y_train.shape)"
   ],
   "metadata": {
    "collapsed": false,
    "ExecuteTime": {
     "end_time": "2024-06-05T15:12:47.570391Z",
     "start_time": "2024-06-05T15:12:47.563300Z"
    }
   },
   "id": "2b8ecbb632394b9c",
   "execution_count": 31
  },
  {
   "cell_type": "code",
   "outputs": [
    {
     "name": "stdout",
     "output_type": "stream",
     "text": [
      "Testing set shape: (4000, 17) (4000,)\n"
     ]
    }
   ],
   "source": [
    "print(\"Testing set shape:\", X_test.shape, y_test.shape)"
   ],
   "metadata": {
    "collapsed": false,
    "ExecuteTime": {
     "end_time": "2024-06-05T15:12:47.589359Z",
     "start_time": "2024-06-05T15:12:47.573640Z"
    }
   },
   "id": "873ed681ca82e48b",
   "execution_count": 32
  },
  {
   "cell_type": "markdown",
   "source": [
    "# Check on processed data"
   ],
   "metadata": {
    "collapsed": false
   },
   "id": "624bc9663943709"
  },
  {
   "cell_type": "code",
   "outputs": [],
   "source": [
    "# Separate features and target\n",
    "X_processed = df_processed.drop('demand', axis=1)\n",
    "y_processed = df_processed['demand']"
   ],
   "metadata": {
    "collapsed": false,
    "ExecuteTime": {
     "end_time": "2024-06-05T15:12:47.599887Z",
     "start_time": "2024-06-05T15:12:47.591562Z"
    }
   },
   "id": "3351a8dd4fb10066",
   "execution_count": 33
  },
  {
   "cell_type": "code",
   "outputs": [],
   "source": [
    "scaler_minmax = MinMaxScaler()\n",
    "X_train_minmax = scaler_minmax.fit_transform(X_processed)"
   ],
   "metadata": {
    "collapsed": false,
    "ExecuteTime": {
     "end_time": "2024-06-05T15:12:47.620263Z",
     "start_time": "2024-06-05T15:12:47.603121Z"
    }
   },
   "id": "ee7d7837481d5475",
   "execution_count": 34
  },
  {
   "cell_type": "code",
   "outputs": [
    {
     "data": {
      "text/plain": "array([[0.16666667, 0.        , 0.        , ..., 1.        , 0.        ,\n        0.        ],\n       [0.66666667, 1.        , 0.        , ..., 0.        , 1.        ,\n        0.        ],\n       [0.16666667, 1.        , 0.        , ..., 0.        , 0.        ,\n        1.        ],\n       ...,\n       [0.83333333, 1.        , 0.        , ..., 0.        , 0.        ,\n        0.        ],\n       [0.5       , 0.        , 0.        , ..., 1.        , 0.        ,\n        0.        ],\n       [0.66666667, 1.        , 0.        , ..., 1.        , 0.        ,\n        0.        ]])"
     },
     "execution_count": 35,
     "metadata": {},
     "output_type": "execute_result"
    }
   ],
   "source": [
    "X_train_minmax"
   ],
   "metadata": {
    "collapsed": false,
    "ExecuteTime": {
     "end_time": "2024-06-05T15:12:47.631106Z",
     "start_time": "2024-06-05T15:12:47.622434Z"
    }
   },
   "id": "af87223341f7f0ab",
   "execution_count": 35
  },
  {
   "cell_type": "code",
   "outputs": [],
   "source": [
    "# Split the data into training and testing datasets\n",
    "X_temp, X_test, y_temp, y_test = train_test_split(X_train_minmax, y_processed, test_size=0.2, random_state=42)\n",
    "\n",
    "# Further split the temporary set into training and validation datasets\n",
    "X_train, X_val, y_train, y_val = train_test_split(X_temp, y_temp, test_size=0.25, random_state=42)\n"
   ],
   "metadata": {
    "collapsed": false,
    "ExecuteTime": {
     "end_time": "2024-06-05T15:12:47.654644Z",
     "start_time": "2024-06-05T15:12:47.634311Z"
    }
   },
   "id": "a52edf55cb374e2d",
   "execution_count": 36
  },
  {
   "cell_type": "code",
   "outputs": [
    {
     "name": "stdout",
     "output_type": "stream",
     "text": [
      "              precision    recall  f1-score   support\n",
      "\n",
      "         0.0       0.95      0.94      0.95       456\n",
      "         1.0       0.97      0.97      0.97      1749\n",
      "         2.0       0.98      0.98      0.98      1795\n",
      "\n",
      "    accuracy                           0.97      4000\n",
      "   macro avg       0.97      0.96      0.97      4000\n",
      "weighted avg       0.97      0.97      0.97      4000\n"
     ]
    }
   ],
   "source": [
    "train_evaluate(X_train, y_train, X_val, y_val)"
   ],
   "metadata": {
    "collapsed": false,
    "ExecuteTime": {
     "end_time": "2024-06-05T15:12:49.328168Z",
     "start_time": "2024-06-05T15:12:47.656815Z"
    }
   },
   "id": "e8078d49ffbb7774",
   "execution_count": 37
  },
  {
   "cell_type": "code",
   "outputs": [
    {
     "name": "stdout",
     "output_type": "stream",
     "text": [
      "              precision    recall  f1-score   support\n",
      "\n",
      "         0.0       0.96      0.92      0.94       457\n",
      "         1.0       0.96      0.98      0.97      1740\n",
      "         2.0       0.99      0.98      0.98      1803\n",
      "\n",
      "    accuracy                           0.97      4000\n",
      "   macro avg       0.97      0.96      0.97      4000\n",
      "weighted avg       0.97      0.97      0.97      4000\n"
     ]
    }
   ],
   "source": [
    "train_evaluate(X_train, y_train, X_test,y_test)"
   ],
   "metadata": {
    "collapsed": false,
    "ExecuteTime": {
     "end_time": "2024-06-05T15:12:50.104633Z",
     "start_time": "2024-06-05T15:12:49.332515Z"
    }
   },
   "id": "97d9e14d1c3fb07e",
   "execution_count": 38
  },
  {
   "cell_type": "markdown",
   "source": [
    "### So basically what it will do in this case it will transform only size since the rest of the values in already have got values between 0 and 1"
   ],
   "metadata": {
    "collapsed": false
   },
   "id": "84b71771d0f1f20a"
  },
  {
   "cell_type": "markdown",
   "source": [
    "### Bonus - remove 5% of the feature values and prepare the data using methods that deal with missing data. (5 points)\n"
   ],
   "metadata": {
    "collapsed": false
   },
   "id": "538c5cf2db20882d"
  },
  {
   "cell_type": "code",
   "outputs": [],
   "source": [
    "df_copy = df_processed.copy()\n",
    "np.random.seed(0)  # For reproducibility\n",
    "missing_rate = 0.05\n",
    "missing_indices = np.random.choice(df_copy.index, size=int(missing_rate * len(df_copy)), replace=False)\n",
    "df_copy.loc[missing_indices, 'size'] = np.nan\n"
   ],
   "metadata": {
    "collapsed": false,
    "ExecuteTime": {
     "end_time": "2024-06-05T15:12:50.119436Z",
     "start_time": "2024-06-05T15:12:50.106845Z"
    }
   },
   "id": "6e73f2c117437e30",
   "execution_count": 39
  },
  {
   "cell_type": "code",
   "outputs": [
    {
     "data": {
      "text/plain": "size                  1000\nsleeves                  0\ndemand                   0\ncolor_black              0\ncolor_blue               0\ncolor_cream              0\ncolor_green              0\ncolor_navy               0\ncolor_orange             0\ncolor_red                0\ncolor_violet             0\ncolor_white              0\ncolor_yellow             0\nmaterial_cotton          0\nmaterial_linen           0\nmaterial_nylon           0\nmaterial_polyester       0\nmaterial_silk            0\ndtype: int64"
     },
     "execution_count": 40,
     "metadata": {},
     "output_type": "execute_result"
    }
   ],
   "source": [
    "df_copy.isnull().sum()"
   ],
   "metadata": {
    "collapsed": false,
    "ExecuteTime": {
     "end_time": "2024-06-05T15:12:50.130382Z",
     "start_time": "2024-06-05T15:12:50.121620Z"
    }
   },
   "id": "c880d5912472cd9b",
   "execution_count": 40
  },
  {
   "cell_type": "code",
   "outputs": [],
   "source": [
    "mean_imputer = SimpleImputer(strategy='mean')\n",
    "df_copy['size'] = mean_imputer.fit_transform(df_copy[['size']])\n"
   ],
   "metadata": {
    "collapsed": false,
    "ExecuteTime": {
     "end_time": "2024-06-05T15:12:50.143476Z",
     "start_time": "2024-06-05T15:12:50.131480Z"
    }
   },
   "id": "18aac39e75036863",
   "execution_count": 41
  },
  {
   "cell_type": "code",
   "outputs": [],
   "source": [
    "median_imputer = SimpleImputer(strategy='median')\n",
    "df_copy['size'] = median_imputer.fit_transform(df_copy[['size']])"
   ],
   "metadata": {
    "collapsed": false,
    "ExecuteTime": {
     "end_time": "2024-06-05T15:13:42.270013Z",
     "start_time": "2024-06-05T15:13:42.259336Z"
    }
   },
   "id": "6acc1e9dc9711680",
   "execution_count": 43
  },
  {
   "cell_type": "code",
   "outputs": [],
   "source": [
    "mode_imputer = SimpleImputer(strategy='most_frequent')\n",
    "df_copy['size'] = mode_imputer.fit_transform(df_copy[['size']])"
   ],
   "metadata": {
    "collapsed": false,
    "ExecuteTime": {
     "end_time": "2024-06-05T15:14:03.400204Z",
     "start_time": "2024-06-05T15:14:03.388294Z"
    }
   },
   "id": "9f6b1274d068ba3e",
   "execution_count": 46
  },
  {
   "cell_type": "markdown",
   "source": [
    "# Classification evaluations"
   ],
   "metadata": {
    "collapsed": false
   },
   "id": "b22d2ed307555564"
  },
  {
   "cell_type": "code",
   "outputs": [],
   "source": [
    "# Separate features and target\n",
    "X = df_processed.drop('demand', axis=1)\n",
    "y = df_processed['demand']\n",
    "\n",
    "# Split the data into training and testing datasets\n",
    "X_temp, X_test, y_temp, y_test = train_test_split(X, y, test_size=0.2, random_state=42)\n",
    "\n",
    "# Further split the temporary set into training and validation datasets\n",
    "X_train, X_val, y_train, y_val = train_test_split(X_temp, y_temp, test_size=0.25, random_state=42)\n",
    "\n"
   ],
   "metadata": {
    "collapsed": false,
    "ExecuteTime": {
     "end_time": "2024-05-27T18:11:40.881186Z",
     "start_time": "2024-05-27T18:11:40.855568Z"
    }
   },
   "id": "62dd76bd7992064",
   "execution_count": 42
  },
  {
   "cell_type": "markdown",
   "source": [
    "# Naive Bayes (with Grid Search CV)"
   ],
   "metadata": {
    "collapsed": false
   },
   "id": "b5c55e31c4d9c93d"
  },
  {
   "cell_type": "code",
   "outputs": [
    {
     "name": "stdout",
     "output_type": "stream",
     "text": [
      "Best Hyperparameters for Gaussian Naive Bayes:\n",
      "{'var_smoothing': 0.1}\n",
      "Best Cross-validation Accuracy: 0.7829166666666667\n"
     ]
    }
   ],
   "source": [
    "\n",
    "\n",
    "param_grid_gnb = {\n",
    "    'var_smoothing': [1e-09, 1e-08, 1e-07, 1e-06, 1e-05, 1e-04, 1e-03, 1e-02, 1e-01, 1.0]\n",
    "}\n",
    "\n",
    "gnb = GaussianNB()\n",
    "\n",
    "# Perform GridSearchCV\n",
    "grid_search_gnb = GridSearchCV(estimator=gnb, param_grid=param_grid_gnb, cv=5, scoring='accuracy')\n",
    "grid_search_gnb.fit(X_train, y_train)\n",
    "\n",
    "# Best hyperparameters and corresponding score\n",
    "print(\"Best Hyperparameters for Gaussian Naive Bayes:\")\n",
    "print(grid_search_gnb.best_params_)\n",
    "print(\"Best Cross-validation Accuracy:\", grid_search_gnb.best_score_)\n"
   ],
   "metadata": {
    "collapsed": false,
    "ExecuteTime": {
     "end_time": "2024-05-27T17:30:12.178449Z",
     "start_time": "2024-05-27T17:30:11.240356Z"
    }
   },
   "id": "93570e072342850f",
   "execution_count": 53
  },
  {
   "cell_type": "markdown",
   "source": [
    "# Decision Tree"
   ],
   "metadata": {
    "collapsed": false
   },
   "id": "31554831e4233d09"
  },
  {
   "cell_type": "code",
   "outputs": [
    {
     "name": "stdout",
     "output_type": "stream",
     "text": [
      "Decision Tree Classifier with parameters: {'criterion': 'gini', 'max_depth': None, 'min_samples_split': 2}\n",
      "Accuracy: 0.97425\n",
      "Classification Report:\n",
      "               precision    recall  f1-score   support\n",
      "\n",
      "         0.0       0.96      0.93      0.95       457\n",
      "         1.0       0.97      0.98      0.97      1740\n",
      "         2.0       0.99      0.98      0.98      1803\n",
      "\n",
      "    accuracy                           0.97      4000\n",
      "   macro avg       0.97      0.96      0.97      4000\n",
      "weighted avg       0.97      0.97      0.97      4000\n",
      "\n",
      "Decision Tree Classifier with parameters: {'criterion': 'entropy', 'max_depth': 10, 'min_samples_split': 4}\n",
      "Accuracy: 0.954\n",
      "Classification Report:\n",
      "               precision    recall  f1-score   support\n",
      "\n",
      "         0.0       0.96      0.88      0.92       457\n",
      "         1.0       0.95      0.94      0.95      1740\n",
      "         2.0       0.96      0.98      0.97      1803\n",
      "\n",
      "    accuracy                           0.95      4000\n",
      "   macro avg       0.95      0.93      0.94      4000\n",
      "weighted avg       0.95      0.95      0.95      4000\n",
      "\n",
      "Decision Tree Classifier with parameters: {'criterion': 'gini', 'max_depth': 5, 'min_samples_split': 10}\n",
      "Accuracy: 0.8445\n",
      "Classification Report:\n",
      "               precision    recall  f1-score   support\n",
      "\n",
      "         0.0       0.81      0.69      0.74       457\n",
      "         1.0       0.82      0.83      0.82      1740\n",
      "         2.0       0.88      0.90      0.89      1803\n",
      "\n",
      "    accuracy                           0.84      4000\n",
      "   macro avg       0.83      0.81      0.82      4000\n",
      "weighted avg       0.84      0.84      0.84      4000\n"
     ]
    }
   ],
   "source": [
    "\n",
    "\n",
    "# Set of hyperparameters to test\n",
    "hyperparameters = [\n",
    "    {'criterion': 'gini', 'max_depth': None, 'min_samples_split': 2},\n",
    "    {'criterion': 'entropy', 'max_depth': 10, 'min_samples_split': 4},\n",
    "    {'criterion': 'gini', 'max_depth': 5, 'min_samples_split': 10}\n",
    "]\n",
    "\n",
    "for params in hyperparameters:\n",
    "    # Initialize the classifier with the current hyperparameters\n",
    "    dt = DecisionTreeClassifier(**params)\n",
    "    \n",
    "    # Fit the model\n",
    "    dt.fit(X_train, y_train)\n",
    "    \n",
    "    # Predict on the test set\n",
    "    y_pred_dt = dt.predict(X_test)\n",
    "    \n",
    "    # Evaluate the model\n",
    "    print(f\"Decision Tree Classifier with parameters: {params}\")\n",
    "    print(\"Accuracy:\", accuracy_score(y_test, y_pred_dt))\n",
    "    print(\"Classification Report:\\n\", classification_report(y_test, y_pred_dt))"
   ],
   "metadata": {
    "collapsed": false,
    "ExecuteTime": {
     "end_time": "2024-05-27T17:28:28.422049Z",
     "start_time": "2024-05-27T17:28:28.267915Z"
    }
   },
   "id": "7f21d488b25dbbbc",
   "execution_count": 49
  },
  {
   "cell_type": "markdown",
   "source": [
    "# Random Forest"
   ],
   "metadata": {
    "collapsed": false
   },
   "id": "5934a7fbcc328b92"
  },
  {
   "cell_type": "code",
   "outputs": [
    {
     "name": "stdout",
     "output_type": "stream",
     "text": [
      "\n",
      "Best Hyperparameters for Random Forest:\n",
      "{'max_depth': None, 'min_samples_leaf': 1, 'min_samples_split': 10, 'n_estimators': 100}\n",
      "Best Cross-validation Accuracy: 0.9706666666666667\n",
      "\n",
      "Random Forest Classifier with Best Hyperparameters\n",
      "Accuracy: 0.973\n",
      "Classification Report:\n",
      "               precision    recall  f1-score   support\n",
      "\n",
      "         0.0       0.96      0.92      0.94       457\n",
      "         1.0       0.96      0.98      0.97      1740\n",
      "         2.0       0.99      0.98      0.98      1803\n",
      "\n",
      "    accuracy                           0.97      4000\n",
      "   macro avg       0.97      0.96      0.97      4000\n",
      "weighted avg       0.97      0.97      0.97      4000\n"
     ]
    }
   ],
   "source": [
    "\n",
    "# Define the parameter grid for Random Forest\n",
    "param_grid_rf = {\n",
    "    'n_estimators': [50, 100, 200],\n",
    "    'max_depth': [None, 10, 20, 30],\n",
    "    'min_samples_split': [2, 5, 10],\n",
    "    'min_samples_leaf': [1, 2, 4]\n",
    "}\n",
    "\n",
    "# Initialize the classifier\n",
    "rf = RandomForestClassifier(random_state=42)\n",
    "\n",
    "# Perform GridSearchCV\n",
    "grid_search_rf = GridSearchCV(estimator=rf, param_grid=param_grid_rf, cv=5, scoring='accuracy')\n",
    "grid_search_rf.fit(X_train, y_train)\n",
    "\n",
    "# Best hyperparameters and corresponding score\n",
    "print(\"\\nBest Hyperparameters for Random Forest:\")\n",
    "print(grid_search_rf.best_params_)\n",
    "print(\"Best Cross-validation Accuracy:\", grid_search_rf.best_score_)\n",
    "\n",
    "# Predict on the test set with the best estimator\n",
    "best_rf = grid_search_rf.best_estimator_\n",
    "y_pred_rf = best_rf.predict(X_test)\n",
    "\n",
    "# Evaluate the model\n",
    "print(\"\\nRandom Forest Classifier with Best Hyperparameters\")\n",
    "print(\"Accuracy:\", accuracy_score(y_test, y_pred_rf))\n",
    "print(\"Classification Report:\\n\", classification_report(y_test, y_pred_rf))\n"
   ],
   "metadata": {
    "collapsed": false,
    "ExecuteTime": {
     "end_time": "2024-05-27T17:37:17.930951Z",
     "start_time": "2024-05-27T17:31:24.433146Z"
    }
   },
   "id": "6ea170e901ac5f1f",
   "execution_count": 54
  },
  {
   "cell_type": "markdown",
   "source": [
    "# Support vector machine"
   ],
   "metadata": {
    "collapsed": false
   },
   "id": "3e06ce17cd9142ef"
  },
  {
   "cell_type": "code",
   "outputs": [
    {
     "name": "stdout",
     "output_type": "stream",
     "text": [
      "\n",
      "Best Hyperparameters for SVM:\n",
      "{'C': 100, 'gamma': 'scale', 'kernel': 'rbf'}\n",
      "Best Cross-validation Accuracy: 0.9631666666666667\n",
      "\n",
      "SVM Classifier with Best Hyperparameters\n",
      "Accuracy: 0.9675\n",
      "Classification Report:\n",
      "               precision    recall  f1-score   support\n",
      "\n",
      "         0.0       0.96      0.90      0.93       457\n",
      "         1.0       0.95      0.97      0.96      1740\n",
      "         2.0       0.98      0.98      0.98      1803\n",
      "\n",
      "    accuracy                           0.97      4000\n",
      "   macro avg       0.97      0.95      0.96      4000\n",
      "weighted avg       0.97      0.97      0.97      4000\n"
     ]
    }
   ],
   "source": [
    "from sklearn.svm import SVC\n",
    "\n",
    "# Define the parameter grid for SVM\n",
    "param_grid_svm = {\n",
    "    'C': [0.1, 1, 10, 100],\n",
    "    'kernel': ['linear', 'poly', 'rbf', 'sigmoid'],\n",
    "    'gamma': ['scale', 'auto']\n",
    "}\n",
    "\n",
    "# Initialize the classifier\n",
    "svm = SVC(random_state=42)\n",
    "\n",
    "# Perform GridSearchCV\n",
    "grid_search_svm = GridSearchCV(estimator=svm, param_grid=param_grid_svm, cv=5, scoring='accuracy')\n",
    "grid_search_svm.fit(X_train, y_train)\n",
    "\n",
    "# Best hyperparameters and corresponding score\n",
    "print(\"\\nBest Hyperparameters for SVM:\")\n",
    "print(grid_search_svm.best_params_)\n",
    "print(\"Best Cross-validation Accuracy:\", grid_search_svm.best_score_)\n",
    "\n",
    "# Predict on the test set with the best estimator\n",
    "best_svm = grid_search_svm.best_estimator_\n",
    "y_pred_svm = best_svm.predict(X_test)\n",
    "\n",
    "# Evaluate the model\n",
    "print(\"\\nSVM Classifier with Best Hyperparameters\")\n",
    "print(\"Accuracy:\", accuracy_score(y_test, y_pred_svm))\n",
    "print(\"Classification Report:\\n\", classification_report(y_test, y_pred_svm))\n"
   ],
   "metadata": {
    "collapsed": false
   },
   "id": "9dc332f9e7183a64",
   "execution_count": 43
  },
  {
   "cell_type": "markdown",
   "source": [],
   "metadata": {
    "collapsed": false
   },
   "id": "d86aedbe2b229bd7"
  }
 ],
 "metadata": {
  "kernelspec": {
   "display_name": "Python 3",
   "language": "python",
   "name": "python3"
  },
  "language_info": {
   "codemirror_mode": {
    "name": "ipython",
    "version": 2
   },
   "file_extension": ".py",
   "mimetype": "text/x-python",
   "name": "python",
   "nbconvert_exporter": "python",
   "pygments_lexer": "ipython2",
   "version": "2.7.6"
  }
 },
 "nbformat": 4,
 "nbformat_minor": 5
}

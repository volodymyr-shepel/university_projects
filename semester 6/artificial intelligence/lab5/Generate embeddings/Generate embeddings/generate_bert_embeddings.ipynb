{
 "nbformat": 4,
 "nbformat_minor": 0,
 "metadata": {
  "colab": {
   "provenance": []
  },
  "kernelspec": {
   "name": "python3",
   "display_name": "Python 3"
  },
  "language_info": {
   "name": "python"
  }
 },
 "cells": [
  {
   "cell_type": "markdown",
   "source": [
    "<h3>Install necessary package</h3>"
   ],
   "metadata": {
    "id": "kbT6CaFYXNzT"
   }
  },
  {
   "cell_type": "code",
   "source": [
    "!pip install sentence_transformers"
   ],
   "metadata": {
    "colab": {
     "base_uri": "https://localhost:8080/"
    },
    "id": "E2GisfgzT1a4",
    "outputId": "3f251448-8e34-4256-e18b-59496efe0d93",
    "is_executing": true
   },
   "execution_count": null,
   "outputs": []
  },
  {
   "cell_type": "markdown",
   "source": [
    "<h3>Import class from the installed package</h3>"
   ],
   "metadata": {
    "id": "mZy9E3nJXVWT"
   }
  },
  {
   "cell_type": "code",
   "execution_count": 28,
   "metadata": {
    "id": "neiPf_AhSvQu"
   },
   "outputs": [],
   "source": [
    "from sentence_transformers import SentenceTransformer"
   ]
  },
  {
   "cell_type": "markdown",
   "source": [
    "<h3>Download BERT model</h3>"
   ],
   "metadata": {
    "id": "Qi3scihVXcI5"
   }
  },
  {
   "cell_type": "code",
   "source": [
    "model = SentenceTransformer('bert-base-cased')"
   ],
   "metadata": {
    "colab": {
     "base_uri": "https://localhost:8080/"
    },
    "id": "7WLwyZEeUGGT",
    "outputId": "288ca7e7-8cb1-48be-a86b-5d24fda56053"
   },
   "execution_count": 29,
   "outputs": [
    {
     "output_type": "stream",
     "name": "stderr",
     "text": [
      "WARNING:sentence_transformers.SentenceTransformer:No sentence-transformers model found with name /root/.cache/torch/sentence_transformers/bert-base-cased. Creating a new one with MEAN pooling.\n",
      "Some weights of the model checkpoint at /root/.cache/torch/sentence_transformers/bert-base-cased were not used when initializing BertModel: ['cls.predictions.transform.dense.bias', 'cls.predictions.decoder.weight', 'cls.predictions.bias', 'cls.predictions.transform.LayerNorm.weight', 'cls.seq_relationship.bias', 'cls.predictions.transform.dense.weight', 'cls.predictions.transform.LayerNorm.bias', 'cls.seq_relationship.weight']\n",
      "- This IS expected if you are initializing BertModel from the checkpoint of a model trained on another task or with another architecture (e.g. initializing a BertForSequenceClassification model from a BertForPreTraining model).\n",
      "- This IS NOT expected if you are initializing BertModel from the checkpoint of a model that you expect to be exactly identical (initializing a BertForSequenceClassification model from a BertForSequenceClassification model).\n"
     ]
    }
   ]
  },
  {
   "cell_type": "markdown",
   "source": [
    "<h3>Generate embeddings for the specified list of texts</h3>"
   ],
   "metadata": {
    "id": "GHau-0a2XmnX"
   }
  },
  {
   "cell_type": "code",
   "source": [
    "texts_list = [\"Hello, my dog is cute.\", \"I love Artificial Intelligence. Machine Learning is my passion!\"]\n",
    "\n",
    "embeddings = model.encode(texts_list)\n",
    "\n",
    "embeddings.shape"
   ],
   "metadata": {
    "colab": {
     "base_uri": "https://localhost:8080/"
    },
    "id": "syWVnL4AUOJQ",
    "outputId": "9ce500c8-1f49-44a0-ec45-673a5fd31709"
   },
   "execution_count": 30,
   "outputs": [
    {
     "output_type": "execute_result",
     "data": {
      "text/plain": [
       "(2, 768)"
      ]
     },
     "metadata": {},
     "execution_count": 30
    }
   ]
  }
 ]
}

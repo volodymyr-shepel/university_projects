{
 "cells": [
  {
   "cell_type": "markdown",
   "id": "a4cfeeba04eccb3b",
   "metadata": {
    "collapsed": false
   },
   "source": [
    "# GENERAL INFORMATION ABOUT THE DATA\n",
    "\n",
    "There are 939 unique stops\n",
    "There are 996250 records in the provided dataset(they in fact represent connections)\n",
    "\n",
    "Each node in the graph will represent station"
   ]
  },
  {
   "cell_type": "markdown",
   "id": "de13df04a8989d4",
   "metadata": {
    "collapsed": false
   },
   "source": [
    "# NOTES\n",
    "Notes: \n",
    "1.Include waiting time in the algorithm. E.g if at 8:40 shortly I will have train at 8:42, which takes 10 minutes and bus at 8:45 which takes 6 minutes : waiting time from 8:40 should be included\n",
    "    \n",
    "2.What about stations which have the same name, but are in fact two separate stations( Dworzec Głowny\n",
    "Dworcowa for example). There are two of them but there are different connections from each of them\n",
    "\n",
    "Since there can be multiple stations with the same name I can use latitude and longitude for it and then even though stations will have the same name it will be different stations (but then the question is if the user wants to select from each station he wants to go, how to distinguish them?) \n",
    "\n"
   ]
  },
  {
   "cell_type": "code",
   "execution_count": 1,
   "id": "515f0d7dcf9544cc",
   "metadata": {
    "ExecuteTime": {
     "end_time": "2024-03-21T19:36:15.290210Z",
     "start_time": "2024-03-21T19:36:12.796305Z"
    },
    "collapsed": false
   },
   "outputs": [],
   "source": [
    "# imports\n",
    "\n",
    "import pandas as pd\n",
    "import numpy as np\n",
    "import networkx as nx\n",
    "from heapq import heappop, heappush\n",
    "from itertools import count\n",
    "\n",
    "from datetime import datetime, timedelta\n"
   ]
  },
  {
   "cell_type": "code",
   "execution_count": 2,
   "id": "3379f6ad7ea5a986",
   "metadata": {
    "ExecuteTime": {
     "end_time": "2024-03-21T19:36:19.770743Z",
     "start_time": "2024-03-21T19:36:15.293161Z"
    },
    "collapsed": false
   },
   "outputs": [],
   "source": [
    "file_path = \"./resources/connection_graph.csv\"\n",
    "# Specify data types using dtype parameter\n",
    "column_data_types = {'line': str}  \n",
    "df = pd.read_csv(file_path,dtype=column_data_types)\n"
   ]
  },
  {
   "cell_type": "code",
   "execution_count": 3,
   "id": "b49629634e762ae2",
   "metadata": {
    "ExecuteTime": {
     "end_time": "2024-03-21T19:36:19.781989Z",
     "start_time": "2024-03-21T19:36:19.773683Z"
    },
    "collapsed": false
   },
   "outputs": [],
   "source": [
    "df.rename(columns={'Unnamed: 0': 'id'}, inplace=True)"
   ]
  },
  {
   "cell_type": "code",
   "execution_count": 4,
   "id": "94a85687f6a346cb",
   "metadata": {
    "ExecuteTime": {
     "end_time": "2024-03-21T19:36:19.827391Z",
     "start_time": "2024-03-21T19:36:19.786086Z"
    },
    "collapsed": false
   },
   "outputs": [
    {
     "data": {
      "text/html": [
       "<div>\n",
       "<style scoped>\n",
       "    .dataframe tbody tr th:only-of-type {\n",
       "        vertical-align: middle;\n",
       "    }\n",
       "\n",
       "    .dataframe tbody tr th {\n",
       "        vertical-align: top;\n",
       "    }\n",
       "\n",
       "    .dataframe thead th {\n",
       "        text-align: right;\n",
       "    }\n",
       "</style>\n",
       "<table border=\"1\" class=\"dataframe\">\n",
       "  <thead>\n",
       "    <tr style=\"text-align: right;\">\n",
       "      <th></th>\n",
       "      <th>id</th>\n",
       "      <th>company</th>\n",
       "      <th>line</th>\n",
       "      <th>departure_time</th>\n",
       "      <th>arrival_time</th>\n",
       "      <th>start_stop</th>\n",
       "      <th>end_stop</th>\n",
       "      <th>start_stop_lat</th>\n",
       "      <th>start_stop_lon</th>\n",
       "      <th>end_stop_lat</th>\n",
       "      <th>end_stop_lon</th>\n",
       "    </tr>\n",
       "  </thead>\n",
       "  <tbody>\n",
       "    <tr>\n",
       "      <th>0</th>\n",
       "      <td>0</td>\n",
       "      <td>MPK Autobusy</td>\n",
       "      <td>A</td>\n",
       "      <td>20:52:00</td>\n",
       "      <td>20:53:00</td>\n",
       "      <td>Zajezdnia Obornicka</td>\n",
       "      <td>Paprotna</td>\n",
       "      <td>51.148737</td>\n",
       "      <td>17.021069</td>\n",
       "      <td>51.147752</td>\n",
       "      <td>17.020539</td>\n",
       "    </tr>\n",
       "    <tr>\n",
       "      <th>1</th>\n",
       "      <td>1</td>\n",
       "      <td>MPK Autobusy</td>\n",
       "      <td>A</td>\n",
       "      <td>20:53:00</td>\n",
       "      <td>20:54:00</td>\n",
       "      <td>Paprotna</td>\n",
       "      <td>Obornicka (Wołowska)</td>\n",
       "      <td>51.147752</td>\n",
       "      <td>17.020539</td>\n",
       "      <td>51.144385</td>\n",
       "      <td>17.023735</td>\n",
       "    </tr>\n",
       "    <tr>\n",
       "      <th>2</th>\n",
       "      <td>2</td>\n",
       "      <td>MPK Autobusy</td>\n",
       "      <td>A</td>\n",
       "      <td>20:54:00</td>\n",
       "      <td>20:55:00</td>\n",
       "      <td>Obornicka (Wołowska)</td>\n",
       "      <td>Bezpieczna</td>\n",
       "      <td>51.144385</td>\n",
       "      <td>17.023735</td>\n",
       "      <td>51.141360</td>\n",
       "      <td>17.026376</td>\n",
       "    </tr>\n",
       "    <tr>\n",
       "      <th>3</th>\n",
       "      <td>3</td>\n",
       "      <td>MPK Autobusy</td>\n",
       "      <td>A</td>\n",
       "      <td>20:55:00</td>\n",
       "      <td>20:57:00</td>\n",
       "      <td>Bezpieczna</td>\n",
       "      <td>Bałtycka</td>\n",
       "      <td>51.141360</td>\n",
       "      <td>17.026376</td>\n",
       "      <td>51.136632</td>\n",
       "      <td>17.030617</td>\n",
       "    </tr>\n",
       "    <tr>\n",
       "      <th>4</th>\n",
       "      <td>4</td>\n",
       "      <td>MPK Autobusy</td>\n",
       "      <td>A</td>\n",
       "      <td>20:57:00</td>\n",
       "      <td>20:59:00</td>\n",
       "      <td>Bałtycka</td>\n",
       "      <td>Broniewskiego</td>\n",
       "      <td>51.136632</td>\n",
       "      <td>17.030617</td>\n",
       "      <td>51.135851</td>\n",
       "      <td>17.037383</td>\n",
       "    </tr>\n",
       "  </tbody>\n",
       "</table>\n",
       "</div>"
      ],
      "text/plain": [
       "   id       company line departure_time arrival_time            start_stop  \\\n",
       "0   0  MPK Autobusy    A       20:52:00     20:53:00   Zajezdnia Obornicka   \n",
       "1   1  MPK Autobusy    A       20:53:00     20:54:00              Paprotna   \n",
       "2   2  MPK Autobusy    A       20:54:00     20:55:00  Obornicka (Wołowska)   \n",
       "3   3  MPK Autobusy    A       20:55:00     20:57:00            Bezpieczna   \n",
       "4   4  MPK Autobusy    A       20:57:00     20:59:00              Bałtycka   \n",
       "\n",
       "               end_stop  start_stop_lat  start_stop_lon  end_stop_lat  \\\n",
       "0              Paprotna       51.148737       17.021069     51.147752   \n",
       "1  Obornicka (Wołowska)       51.147752       17.020539     51.144385   \n",
       "2            Bezpieczna       51.144385       17.023735     51.141360   \n",
       "3              Bałtycka       51.141360       17.026376     51.136632   \n",
       "4         Broniewskiego       51.136632       17.030617     51.135851   \n",
       "\n",
       "   end_stop_lon  \n",
       "0     17.020539  \n",
       "1     17.023735  \n",
       "2     17.026376  \n",
       "3     17.030617  \n",
       "4     17.037383  "
      ]
     },
     "execution_count": 4,
     "metadata": {},
     "output_type": "execute_result"
    }
   ],
   "source": [
    "df.head()"
   ]
  },
  {
   "cell_type": "code",
   "execution_count": 5,
   "id": "5fef22c6f4fb1281",
   "metadata": {
    "ExecuteTime": {
     "end_time": "2024-03-21T19:36:19.845951Z",
     "start_time": "2024-03-21T19:36:19.836955Z"
    },
    "collapsed": false
   },
   "outputs": [
    {
     "data": {
      "text/plain": [
       "Index(['id', 'company', 'line', 'departure_time', 'arrival_time', 'start_stop',\n",
       "       'end_stop', 'start_stop_lat', 'start_stop_lon', 'end_stop_lat',\n",
       "       'end_stop_lon'],\n",
       "      dtype='object')"
      ]
     },
     "execution_count": 5,
     "metadata": {},
     "output_type": "execute_result"
    }
   ],
   "source": [
    "df.columns"
   ]
  },
  {
   "cell_type": "code",
   "execution_count": 6,
   "id": "594728bd652a895",
   "metadata": {
    "ExecuteTime": {
     "end_time": "2024-03-21T19:36:20.331122Z",
     "start_time": "2024-03-21T19:36:19.848646Z"
    },
    "collapsed": false
   },
   "outputs": [
    {
     "name": "stdout",
     "output_type": "stream",
     "text": [
      "<class 'pandas.core.frame.DataFrame'>\n",
      "RangeIndex: 996520 entries, 0 to 996519\n",
      "Data columns (total 11 columns):\n",
      " #   Column          Non-Null Count   Dtype  \n",
      "---  ------          --------------   -----  \n",
      " 0   id              996520 non-null  int64  \n",
      " 1   company         996520 non-null  object \n",
      " 2   line            996520 non-null  object \n",
      " 3   departure_time  996520 non-null  object \n",
      " 4   arrival_time    996520 non-null  object \n",
      " 5   start_stop      996520 non-null  object \n",
      " 6   end_stop        996520 non-null  object \n",
      " 7   start_stop_lat  996520 non-null  float64\n",
      " 8   start_stop_lon  996520 non-null  float64\n",
      " 9   end_stop_lat    996520 non-null  float64\n",
      " 10  end_stop_lon    996520 non-null  float64\n",
      "dtypes: float64(4), int64(1), object(6)\n",
      "memory usage: 83.6+ MB\n"
     ]
    }
   ],
   "source": [
    "df.info()"
   ]
  },
  {
   "cell_type": "code",
   "execution_count": 7,
   "id": "6732b9d19d0755e3",
   "metadata": {
    "ExecuteTime": {
     "end_time": "2024-03-21T19:36:20.608193Z",
     "start_time": "2024-03-21T19:36:20.333604Z"
    },
    "collapsed": false
   },
   "outputs": [
    {
     "data": {
      "text/html": [
       "<div>\n",
       "<style scoped>\n",
       "    .dataframe tbody tr th:only-of-type {\n",
       "        vertical-align: middle;\n",
       "    }\n",
       "\n",
       "    .dataframe tbody tr th {\n",
       "        vertical-align: top;\n",
       "    }\n",
       "\n",
       "    .dataframe thead th {\n",
       "        text-align: right;\n",
       "    }\n",
       "</style>\n",
       "<table border=\"1\" class=\"dataframe\">\n",
       "  <thead>\n",
       "    <tr style=\"text-align: right;\">\n",
       "      <th></th>\n",
       "      <th>id</th>\n",
       "      <th>start_stop_lat</th>\n",
       "      <th>start_stop_lon</th>\n",
       "      <th>end_stop_lat</th>\n",
       "      <th>end_stop_lon</th>\n",
       "    </tr>\n",
       "  </thead>\n",
       "  <tbody>\n",
       "    <tr>\n",
       "      <th>count</th>\n",
       "      <td>996520.000000</td>\n",
       "      <td>996520.000000</td>\n",
       "      <td>996520.000000</td>\n",
       "      <td>996520.000000</td>\n",
       "      <td>996520.000000</td>\n",
       "    </tr>\n",
       "    <tr>\n",
       "      <th>mean</th>\n",
       "      <td>498259.500000</td>\n",
       "      <td>51.114712</td>\n",
       "      <td>17.017362</td>\n",
       "      <td>51.114711</td>\n",
       "      <td>17.017354</td>\n",
       "    </tr>\n",
       "    <tr>\n",
       "      <th>std</th>\n",
       "      <td>287670.689464</td>\n",
       "      <td>0.027226</td>\n",
       "      <td>0.060351</td>\n",
       "      <td>0.027224</td>\n",
       "      <td>0.060350</td>\n",
       "    </tr>\n",
       "    <tr>\n",
       "      <th>min</th>\n",
       "      <td>0.000000</td>\n",
       "      <td>50.980426</td>\n",
       "      <td>16.695853</td>\n",
       "      <td>50.979741</td>\n",
       "      <td>16.695853</td>\n",
       "    </tr>\n",
       "    <tr>\n",
       "      <th>25%</th>\n",
       "      <td>249129.750000</td>\n",
       "      <td>51.097100</td>\n",
       "      <td>16.978353</td>\n",
       "      <td>51.097100</td>\n",
       "      <td>16.978353</td>\n",
       "    </tr>\n",
       "    <tr>\n",
       "      <th>50%</th>\n",
       "      <td>498259.500000</td>\n",
       "      <td>51.113789</td>\n",
       "      <td>17.024670</td>\n",
       "      <td>51.113789</td>\n",
       "      <td>17.024670</td>\n",
       "    </tr>\n",
       "    <tr>\n",
       "      <th>75%</th>\n",
       "      <td>747389.250000</td>\n",
       "      <td>51.135096</td>\n",
       "      <td>17.050671</td>\n",
       "      <td>51.135096</td>\n",
       "      <td>17.050671</td>\n",
       "    </tr>\n",
       "    <tr>\n",
       "      <th>max</th>\n",
       "      <td>996519.000000</td>\n",
       "      <td>51.265566</td>\n",
       "      <td>17.285545</td>\n",
       "      <td>51.265566</td>\n",
       "      <td>17.285545</td>\n",
       "    </tr>\n",
       "  </tbody>\n",
       "</table>\n",
       "</div>"
      ],
      "text/plain": [
       "                  id  start_stop_lat  start_stop_lon   end_stop_lat  \\\n",
       "count  996520.000000   996520.000000   996520.000000  996520.000000   \n",
       "mean   498259.500000       51.114712       17.017362      51.114711   \n",
       "std    287670.689464        0.027226        0.060351       0.027224   \n",
       "min         0.000000       50.980426       16.695853      50.979741   \n",
       "25%    249129.750000       51.097100       16.978353      51.097100   \n",
       "50%    498259.500000       51.113789       17.024670      51.113789   \n",
       "75%    747389.250000       51.135096       17.050671      51.135096   \n",
       "max    996519.000000       51.265566       17.285545      51.265566   \n",
       "\n",
       "        end_stop_lon  \n",
       "count  996520.000000  \n",
       "mean       17.017354  \n",
       "std         0.060350  \n",
       "min        16.695853  \n",
       "25%        16.978353  \n",
       "50%        17.024670  \n",
       "75%        17.050671  \n",
       "max        17.285545  "
      ]
     },
     "execution_count": 7,
     "metadata": {},
     "output_type": "execute_result"
    }
   ],
   "source": [
    "df.describe()"
   ]
  },
  {
   "cell_type": "code",
   "execution_count": 8,
   "id": "1d3806c2419f757b",
   "metadata": {
    "ExecuteTime": {
     "end_time": "2024-03-21T19:36:20.622045Z",
     "start_time": "2024-03-21T19:36:20.611023Z"
    },
    "collapsed": false
   },
   "outputs": [
    {
     "data": {
      "text/plain": [
       "(996520, 11)"
      ]
     },
     "execution_count": 8,
     "metadata": {},
     "output_type": "execute_result"
    }
   ],
   "source": [
    "df.shape"
   ]
  },
  {
   "cell_type": "markdown",
   "id": "aee261e8f21a5a2b",
   "metadata": {
    "collapsed": false
   },
   "source": [
    "### Check if the data is mirrored ( if there is the same number of records of shape 27:35:00 as 3:35:00)\n"
   ]
  },
  {
   "cell_type": "code",
   "execution_count": 9,
   "id": "9fbac0c66b910805",
   "metadata": {
    "ExecuteTime": {
     "end_time": "2024-03-21T19:36:21.374751Z",
     "start_time": "2024-03-21T19:36:20.625553Z"
    },
    "collapsed": false
   },
   "outputs": [
    {
     "name": "stdout",
     "output_type": "stream",
     "text": [
      "Number of records with departure_time '27:35:00': 96\n",
      "Number of records with arrival_time '27:35:00': 96\n",
      "Number of records with departure_time '03:35:00': 0\n",
      "Number of records with arrival_time '03:35:00': 0\n"
     ]
    }
   ],
   "source": [
    "# Check the number of records with departure_time equal to '27:35:00'\n",
    "count_records_273500 = df[df['departure_time'] == '27:35:00'].shape[0]\n",
    "print(f\"Number of records with departure_time '27:35:00': {count_records_273500}\")\n",
    "\n",
    "# Check the number of records with arrival_time equal to '27:35:00'\n",
    "count_records_arrival_273500 = df[df['arrival_time'] == '27:35:00'].shape[0]\n",
    "print(f\"Number of records with arrival_time '27:35:00': {count_records_arrival_273500}\")\n",
    "\n",
    "# Check the number of records with departure_time equal to '03:35:00'\n",
    "count_records_033500 = df[df['departure_time'] == '03:35:00'].shape[0]\n",
    "print(f\"Number of records with departure_time '03:35:00': {count_records_033500}\")\n",
    "\n",
    "# Check the number of records with arrival_time equal to '03:35:00'\n",
    "count_records_arrival_033500 = df[df['arrival_time'] == '03:35:00'].shape[0]\n",
    "print(f\"Number of records with arrival_time '03:35:00': {count_records_arrival_033500}\")\n"
   ]
  },
  {
   "cell_type": "code",
   "execution_count": 10,
   "id": "4f29320a9968b319",
   "metadata": {
    "ExecuteTime": {
     "end_time": "2024-03-21T19:36:21.686712Z",
     "start_time": "2024-03-21T19:36:21.378602Z"
    },
    "collapsed": false
   },
   "outputs": [
    {
     "data": {
      "text/plain": [
       "array(['Zajezdnia Obornicka', 'Paprotna', 'Obornicka (Wołowska)',\n",
       "       'Bezpieczna', 'Bałtycka', 'Broniewskiego', 'Pola', 'Syrokomli',\n",
       "       'Kasprowicza', 'pl. Daniłowskiego', 'Przybyszewskiego',\n",
       "       'Czajkowskiego', 'KOSZAROWA (Uniwersytet)', 'KOSZAROWA (Szpital)',\n",
       "       'Berenta', 'KROMERA', 'Mosty Warszawskie', 'Wyszyńskiego',\n",
       "       'Ogród Botaniczny', 'Katedra',\n",
       "       'Urząd Wojewódzki (Muzeum Narodowe)', 'Poczta Główna',\n",
       "       'skwer Krasińskiego', 'Wzgórze Partyzantów', 'Renoma',\n",
       "       'Arkady (Capitol)', 'Pl. Hirszfelda', 'Krucza',\n",
       "       'Krucza (Mielecka)', 'Inżynierska', 'Aleja Pracy', 'FAT',\n",
       "       'GRABISZYŃSKA (Cmentarz)', 'Solskiego', 'Wiejska', 'Kadłubka',\n",
       "       'Stanki', 'Bukowskiego', 'RACŁAWICKA', 'Rymarska', 'Wawrzyniaka',\n",
       "       'Chłodna', 'Sowia', 'KRZYKI', 'Dworzec Główny (Dworcowa)',\n",
       "       'Krasińskiego', 'Damrota', 'Koszarowa', 'Sołtysowicka',\n",
       "       'Poprzeczna', 'Redycka', 'Bagatela', 'SOŁTYSOWICE', 'POŚWIĘTNE',\n",
       "       'Wołowska', 'Kępińska', 'Kamieńskiego', 'Grudziądzka', 'Brücknera',\n",
       "       'Psie Pole', 'Psie Pole (Rondo Lotników Polskich)', 'Zakrzowska',\n",
       "       'Kopańskiego', 'Wallenroda', 'Królewska', 'OSIEDLE SOBIESKIEGO',\n",
       "       'Kwidzyńska', 'Zacisze', 'Śniadeckich', 'Kochanowskiego',\n",
       "       'PL. GRUNWALDZKI', 'most Grunwaldzki', 'GALERIA DOMINIKAŃSKA',\n",
       "       'EPI', 'DWORZEC AUTOBUSOWY', 'Dyrekcyjna', 'Rondo', 'Hallera',\n",
       "       'Orla', 'Zimowa', 'Os. Przyjaźni', 'Skarbowców', 'KLECINA',\n",
       "       'Kościelna', 'WAŁBRZYSKA', 'Marchewkowa', 'Kleczkowska',\n",
       "       'pl. Strzelecki', 'Pomorska', 'Mosty Pomorskie', 'Rynek',\n",
       "       'Narodowe Forum Muzyki', 'GIEŁDOWA (Centrum Hurtu)',\n",
       "       'Urząd Wojewódzki (Impart)', 'Kromera (Czajkowskiego)',\n",
       "       'Świdnicka', 'Mochnackiego', 'Jutrosińska',\n",
       "       'Kamieńskiego (Szpital)', 'KAMIEŃSKIEGO (pętla)', 'Różanka',\n",
       "       'Łużycka', 'most Osobowicki', 'DWORZEC GŁÓWNY',\n",
       "       'Borowska (Aquapark)', 'Śliczna', 'Działkowa', 'GAJ',\n",
       "       'Świeradowska', 'GAJ - pętla', 'LITEWSKA', 'Inflancka',\n",
       "       'Kowieńska', 'Żmudzka', 'Kiełczowska', 'Poleska',\n",
       "       'KIEŁCZOWSKA (LZN)', 'PETRUSEWICZA', 'Trzebnicka',\n",
       "       'DWORZEC NADODRZE', 'Słowiańska', 'Nowowiejska', 'Prusa',\n",
       "       'Piastowska', 'Kliniki - Politechnika Wrocławska', 'Hala Stulecia',\n",
       "       'ZOO', 'Tramwajowa', 'Chełmońskiego',\n",
       "       'Piramowicza (Kampus Biskupin)', 'Spółdzielcza', 'BISKUPIN',\n",
       "       'Zajezdnia OŁBIN', 'Reja', 'Zaolziańska', 'Wielka', 'Sztabowa',\n",
       "       'Jastrzębia', 'Sanocka', 'Uniwersytet Ekonomiczny', 'pl. Bema',\n",
       "       'Na Szańcach', 'Jedności Narodowej', 'Zajezdnia GAJ', 'LEŚNICA',\n",
       "       'Jeleniogórska', 'Wschowska', 'Złotnicka',\n",
       "       'Kamiennogórska (Ośrodek dla niewidomych)',\n",
       "       'Kosmonautów (Szpital)', 'Grabowa', 'Aleja Architektów',\n",
       "       'Glinianki', 'Tarczyński Arena (Lotnicza)', 'PILCZYCE',\n",
       "       'Metalowców', 'Bajana', 'Park Zachodni', 'DH Astra', 'Kwiska',\n",
       "       'Małopanewska', 'Niedźwiedzia', 'Wrocław Mikołajów (Zachodnia)',\n",
       "       'pl. Strzegomski (Muzeum Współczesne)', 'Młodych Techników',\n",
       "       'PL. JANA PAWŁA II', 'Zamkowa', 'pl. Wróblewskiego',\n",
       "       'pl. Zgody (Muzeum Etnograficzne)', 'Na Niskich Łąkach',\n",
       "       'Krakowska', 'KRAKOWSKA (Centrum handlowe)', 'Armii Krajowej',\n",
       "       'Park Wschodni', 'Karwińska', 'Głubczycka', 'KSIĘŻE MAŁE',\n",
       "       'Komuny Paryskiej', 'Kościuszki', 'Pułaskiego',\n",
       "       'Park Staromiejski', 'ŚWIDNICKA (Dom Europy)', 'Opera',\n",
       "       'Zajezdnia BOREK', 'Oławska', 'Wita Stwosza',\n",
       "       'Ossolineum (Uniwersytecka)', 'Dubois', 'Paulińska',\n",
       "       'Uniwersytet Wrocławski', 'pl. Legionów', 'Kolejowa',\n",
       "       'Grabiszyńska', 'Pereca', 'Stalowa', 'pl. Srebrny',\n",
       "       'Bzowa (Centrum Historii Zajezdnia)', 'Hutmen', 'Fiołkowa',\n",
       "       'GRABISZYŃSKA (Cmentarz II)', 'OPORÓW', 'Gajowicka', 'Mielecka',\n",
       "       'Ojca Beyzyma', 'pl. Orląt Lwowskich', 'Kępa Mieszczańska',\n",
       "       'Dworzec Główny (Stawowa)', 'Daszyńskiego', 'Kętrzyńska', 'Gęsia',\n",
       "       'Bociania', 'KOWALE', 'Radio i Telewizja', 'Przyjaźni',\n",
       "       'Braterska', 'Sąsiedzka', 'Joannitów', 'Gajowa', 'Prudnicka',\n",
       "       'Kamienna', 'Bardzka', 'Nyska', 'Tarnogajska', 'Klimasa',\n",
       "       'TARNOGAJ', 'pl. Nowy Targ', 'Hala Targowa', 'KARŁOWICE',\n",
       "       'SĘPOLNO', 'Godebskiego (AWF Wrocław)', '8 Maja',\n",
       "       'Stadion Olimpijski', 'Karłowicza', 'Chopina', 'Grunwaldzka',\n",
       "       'Górnickiego', 'Wiśniowa', 'Jaworowa', 'Weigla (Szpital)',\n",
       "       'Pułtuska', 'PARK POŁUDNIOWY', 'Kolista', 'PILCZYCKA (Anima)',\n",
       "       'Modra', 'KOZANÓW (Dokerska)', 'Kozanowska', 'Bujwida', 'Dolmed',\n",
       "       'Śrubowa', 'Wrocławski Park Przemysłowy', 'Park Biznesu',\n",
       "       'Babimojska', 'Strzegomska 148', 'Nowodworska',\n",
       "       'Strzegomska (krzyżówka)', 'Rogowska (P+R)',\n",
       "       'Rogowska (ogrody działkowe)', 'Budziszyńska', 'Zemska',\n",
       "       'Park Tysiąclecia', 'Wrocław Nowy Dwór (P+R)', 'Hubska (Dawida)',\n",
       "       'Krynicka', 'Morwowa', 'Michalczyka', 'Wrocław Szczepin',\n",
       "       'Długa (ogrody działkowe)', 'Wrocław Popowice (17.południk)',\n",
       "       'Park Popowicki', 'Białowieska', 'Port Popowice',\n",
       "       'Wejherowska (Hala Orbita)', 'Górnicza', 'Dworska',\n",
       "       'TARCZYŃSKI ARENA (Królewiecka)', 'Smolecka', 'Dworzec Świebodzki',\n",
       "       'GRABISZYNEK', 'Złotostocka', 'Gazowa', 'Księska', 'Blizanowicka',\n",
       "       'Starodworska', 'Mokry Dwór - Starodworska', 'MOKRY DWÓR',\n",
       "       'Irysowa', 'Obornicka (Obwodnica)', 'most Milenijny',\n",
       "       'Milenijna (Hala Orbita)', 'Królewiecka', 'Warmińska',\n",
       "       'Królewiecka (Park)', 'Suwalska', 'Brodzka', 'Lubelska', 'Zbożowa',\n",
       "       'PRACZE ODRZAŃSKIE', 'PRACZE ODRZAŃSKIE (Stacja kolejowa)',\n",
       "       'STABŁOWICKA (Ośrodek zdrowia)', 'Główna', 'Park Stabłowicki',\n",
       "       'Stabłowice', 'Ciechocińska', 'Śnieżna', 'Średzka', 'Stabłowicka',\n",
       "       'Królewiecka (Staw)', 'Wiślańska', 'Dzielna', 'KOZANÓW',\n",
       "       'Maślicka (Osiedle)', 'Rędzińska (Cmentarz)',\n",
       "       'Maślice Małe (Brodnicka)', 'Śliwowa', 'Maślicka (Staw)',\n",
       "       'Północna', 'Kozia', 'Jędrzejowska', 'Chwałkowska', 'Wełniana',\n",
       "       'Wojanowska', 'Arachidowa', 'Olbrachtowska', 'Stoszowska',\n",
       "       'Fieldorfa', 'Fieldorfa (Szpital)', 'Głogowska', 'Szczepin',\n",
       "       'Inowrocławska', 'PL. SOLIDARNOŚCI', 'LITOMSKA (ZUS)',\n",
       "       'JANÓWEK (WOŚ)', 'Janówek', 'Turoszowska', 'RĘDZIŃSKA',\n",
       "       'OSOBOWICE', 'Jarocińska', 'Lipska', 'Witkowska', 'Góra Kapliczna',\n",
       "       'ŚLAZOWA', 'OSOBOWICKA (Cmentarz)', 'OSOBOWICKA (Cmentarz II)',\n",
       "       'Bałtycka (szkoła)', 'Ostowa (Muzeum Militarne)',\n",
       "       'Pełczyńska (Stacja kolejowa)', 'Kominiarska', 'Lipa Piotrowska',\n",
       "       'Perzowa', 'Zajączkowska', 'ŚWINIARY', 'Ćwiczebna',\n",
       "       'MIŃSKA (Rondo Rotm. Pileckiego)', 'Płaska', 'Zagłoby', 'Przybyły',\n",
       "       'Graniczna', 'Skarżyńskiego', 'Zarembowicza',\n",
       "       'Strachowice General Aviation', 'Graniczna (Strachowicka)',\n",
       "       'Rdestowa', 'PORT LOTNICZY', 'MUCHOBÓR MAŁY (Stacja kolejowa)',\n",
       "       'Gądowianka', 'Na Ostatnim Groszu', 'Morelowskiego',\n",
       "       'Adamieckiego', 'Ostrowskiego', 'Końcowa', 'Krzemieniecka',\n",
       "       'Trawowa', 'Stanisławowska (W.K. Formaty)', 'Muchobór Wielki',\n",
       "       'Muchobór Wielki (Roślinna)', 'Tyrmanda',\n",
       "       'Chociebuska (C. K. Nowy Pafawag)', 'Rogowska (Ośrodek sportu)',\n",
       "       'Kołobrzeska', 'Szczecińska', 'Żerniki', 'Strachowicka',\n",
       "       'Żernicka', 'Jerzmanowska nr 9', 'Jerzmanowska nr 17',\n",
       "       'Częstochowska', 'Halicka', 'Zagony', 'KLECINA (Stacja kolejowa)',\n",
       "       'Lawendowa', 'Rzemieślnicza', 'Kominiarska (plac sportowy)',\n",
       "       'PRACZE WIDAWSKIE', 'Iwiny - rondo', 'Vivaldiego', 'Kajdasza',\n",
       "       'Jagodzińska', 'Malinowskiego', 'Konduktorska', 'Buforowa-Rondo',\n",
       "       'BARDZKA (Cmentarz)', 'Iwiny - Kolejowa', 'Iwiny - Kościuszki 21',\n",
       "       'IWINY - pętla', 'Tymiankowa', 'Cynamonowa', 'Waniliowa',\n",
       "       'KMINKOWA', 'Zakładowa', 'Słonimskiego', 'C.H. Korona', 'Zielna',\n",
       "       'Świętokrzyska', 'Wyścigowa', 'Malinowa', 'Ożynowa',\n",
       "       'rondo Św. Ojca Pio', 'Wysoka - osiedle', 'Wysoka - Radosna',\n",
       "       'Wysoka - Chabrowa', 'Wysoka', 'ROD Storczyk', 'Kutrzeby',\n",
       "       'Ołtaszyn', 'Świt', 'Parafialna', 'Wojszyce', 'Przystankowa',\n",
       "       'Borowska (Szpital)', 'ROD Bajki', 'Oboźna', 'Gałczyńskiego',\n",
       "       'Grota-Roweckiego', 'Kurpiów', 'Strachowskiego', 'Husarska',\n",
       "       'Partynice (tor wyścigów konnych)', 'Świstackiego', 'Wiaduktowa',\n",
       "       'Topolowa', 'BROCHÓW (Stacja kolejowa)', 'Chińska', 'BROCHÓW',\n",
       "       'Ziemniaczana', 'Arabska', 'BIEŃKOWICE',\n",
       "       'Komuny Paryskiej (szkoła)', 'WOJNÓW (pętla)', 'Wojnów',\n",
       "       'Strumykowa', 'Smocza', 'Kmieca', 'Zagrodnicza',\n",
       "       'Niedziałkowskiego', 'Mikołowska', 'Swojczyce', 'Magellana',\n",
       "       'Kolumba', 'Monopolowa', 'Park Szczytnicki', 'Mickiewicza',\n",
       "       'RUBCZAKA (Stacja kolejowa)', 'Rubczaka', 'Serowarska',\n",
       "       'Trzmielowicka', 'Pustecka', 'Miodowa', 'Szkolna',\n",
       "       'Ratyń - skrzyżowanie', 'Gromadzka', 'RATYŃ', 'Rodła',\n",
       "       'Kośnego (Jerzmanowska)', 'Adamczewskich', 'Jasińskiej',\n",
       "       'Jerzmanowo (Cmentarz II)', 'Jerzmanowo (Cmentarz I)', 'Piołunowa',\n",
       "       'Eluarda', 'Brzezińska', 'Owczarska', 'Dolnobrzeska', 'Krępicka',\n",
       "       'RĘDZIN', 'Las Osobowicki', 'Olsztyńska', 'Kowalska 56',\n",
       "       'Kowale (Stacja kolejowa)', 'Działdowska', 'Tczewska', 'Kowalska',\n",
       "       'Kowalska I', 'Ceglana', 'Gospodarska', 'Miłoszycka', 'Volvo',\n",
       "       'Volvo - brama II', 'Szkocka', 'Awicenny (Stacja kolejowa)',\n",
       "       'Awicenny (Poczta Polska)', 'Awicenny', 'Rakowiecka',\n",
       "       'Międzyrzecka', 'Bierdzany', 'Nowy Dom', 'Opatowicka nr 59',\n",
       "       'Opatowicka nr 85', 'OPATOWICE', 'Opatowicka nr 127', 'Zalewowa',\n",
       "       'Trestno - świetlica', 'Trestno - kościół', 'TRESTNO (pętla)',\n",
       "       'BLIZANOWICE', 'MULICKA', 'Gorlicka', 'Szewczenki',\n",
       "       'Kiełczowska (Cmentarz)', 'Piłsudskiego', 'Gwiaździsta',\n",
       "       'Orlińskiego', 'Drzewieckiego', 'Hynka', 'Bystrzycka',\n",
       "       'KUŹNIKI (Stacja kolejowa)', 'KUŹNIKI', 'Hermanowska', 'Wolska',\n",
       "       'Polkowicka', 'Hartmana', 'Marszowicka', 'Bojanowska', 'Małomicka',\n",
       "       'Marszowice', 'Rękodzielnicza', 'KSIĘŻE WIELKIE', 'Brochowska',\n",
       "       'Sosnowiecka', 'Zagłębiowska', 'Wapienna', 'Drukarska', 'Grochowa',\n",
       "       'ROD Oświata', 'Wrocławski Park Technologiczny', 'Widna', 'Arena',\n",
       "       'Komandorska', 'Kolbuszowska (Stadion)', 'Jordanowska', 'Chachaja',\n",
       "       'Tyniecka', 'Kwiatkowskiego (Rondo)', 'TYNIECKA (pętla)',\n",
       "       'Zaporoska', 'Szybowcowa', 'Bulwar Dedala', 'Racławicka (szkoła)',\n",
       "       'Modlińska', 'Wojszycka', 'Gajowicka (szkoła)', 'ZWYCIĘSKA',\n",
       "       'Sudecka', 'Żelazna', 'Tęczowa', 'Przedwiośnie (Stacja kolejowa)',\n",
       "       'ZAKRZÓW', 'Żmigrodzka (Obwodnica)', 'Poświęcka',\n",
       "       'POŚWIĘCKA (Ośrodek zdrowia)', 'Serbska (C.K. Agora)',\n",
       "       'Kaczorowskiego', 'Jerzmanowo (Cmentarz)', 'Osiniecka',\n",
       "       'Gąsiorowskiego', 'Milicka', 'Kątowa', 'Ługowa', 'Starościńska',\n",
       "       'POLANOWICE', 'Strzegomska (Muzeum Współczesne)', 'Połabian',\n",
       "       'Słoneczna', 'Marcepanowa', 'Orzechowa', 'ROD Zgoda', 'Tunelowa',\n",
       "       'ROD Mieczyk', 'Park Brochowski', 'Semaforowa', 'ROD Bielany',\n",
       "       'C.H. Aleja Bielany', 'AUCHAN', 'Iwiny - Brochowska/Polna',\n",
       "       'Iwiny - Słoneczna', 'Armii Krajowej (Bogedaina)',\n",
       "       'SPISKA (Ośrodek sportu)', 'Grzybowa', 'Mokra', 'Las Mokrzański',\n",
       "       'Krępicka - szkoła', 'Zajazdowa', 'Leśnica - Hermes', 'Mokrzańska',\n",
       "       'ŻAR', 'Uniwersytet Dolnośląski DSW', 'Fabryczna', 'Otyńska',\n",
       "       'Krzeptowska', 'Jarnołtowska (Samotworska)', 'JARNOŁTÓW',\n",
       "       'Kośnego (Jarnołtowska)', 'Szkoła Żerniki', 'Biegasa',\n",
       "       'Dembowskiego (Kosiby)', 'Skierniewicka', 'Jarzębinowa',\n",
       "       'Zielińskiego', 'Libelta', 'Monte Cassino', 'Okrzei',\n",
       "       'Partyzantów', 'BARTOSZOWICE', 'Bacciarellego', 'Piwnika-Ponurego',\n",
       "       'ROD Źródło Zdrowia', 'ROD Pod Dębem', 'Białych Goździków',\n",
       "       'KŁOKOCZYCE', 'Psie Pole (Gorlicka)', 'Wielkopolska', 'Złotniki',\n",
       "       'Małopolska (Ośrodek dla niewidomych)',\n",
       "       'PSIE POLE (Stacja kolejowa)', 'Dobroszycka',\n",
       "       'BIERUTOWSKA (Ośrodek zdrowia)', 'Azaliowa', 'Pawłowice',\n",
       "       'Starodębowa', 'Pawłowicka', 'Przebiśniegowa',\n",
       "       'PAWŁOWICE (Widawska)', 'Malwowa', 'METALOWCÓW (Ośrodek sportu)',\n",
       "       'Aleja Wędrowców', 'Ślusarska', 'BLACHARSKA', 'Hippiczna',\n",
       "       'Moniuszki', 'Lutosławskiego', 'Asfaltowa (szkoła)', 'Klasztorna',\n",
       "       'Witelona', 'Biskupice Podg. LG Electronics',\n",
       "       'Biskupice Podg. LG Energy Solution Wr. I',\n",
       "       'Biskupice Podg. LG Chem', 'Biskupice Podg. LG Innotek',\n",
       "       'Biskupice Podg. DSC Poland/Dong Yang',\n",
       "       'Bielany Wrocławskie - Makro', 'Bielany Wrocławskie - Kościół',\n",
       "       'Bielany Wrocławskie - Boczna', 'Bielany Wrocławskie - Kwiatowa',\n",
       "       'Bielany Wrocławskie - skrzyżowanie', 'Bielany Wrocławskie - PKP',\n",
       "       'Ślęza - skrzyżowanie', 'Ślęza - Dębowa', 'Ślęza - autostrada',\n",
       "       'Sucha', 'Ślęza - Szyszkowa', 'PL. STASZICA',\n",
       "       'Żórawina - kościół Św. Trójcy', 'Żórawina - Orange',\n",
       "       'Żórawina - osiedle', 'Szukalice', 'Rzeplin - Al. Lipowa\\xa0',\n",
       "       'Suchy Dwór - skrzy. Mędłów',\n",
       "       'Suchy Dwór - skrzy. (Wrocławska/Główna)',\n",
       "       'Biestrzyków - Wrocławska', 'Żórawina - skrzy.', 'Łozina - skrzy.',\n",
       "       'Łozina - Cmentarz', 'Budziwojowice', 'Łosice - plac zabaw',\n",
       "       'Łosice', 'Dąbrowica', 'Dobroszów - skrzy. Węgierska',\n",
       "       'Dobroszów Oleśnicki', 'Januszkowice - Wrocławska',\n",
       "       'Szczodre - stawy', 'Szczodre - Szkoła',\n",
       "       'Domaszczyn - Wrocławska sklep', 'Domaszczyn - Kościół',\n",
       "       'Szczodre - pętla', 'Szczodre - Trzebnicka',\n",
       "       'Długołęka - Parkowa skrzy. Konopnicka',\n",
       "       'Długołęka - Parkowa/skrzy.', 'Długołęka - Kasztanowa',\n",
       "       'Długołęka - Wiejska', 'Mirków - Jagiellońska',\n",
       "       'Mirków - Sportowa', 'BIERUTOWSKA (Wiadukt)', 'Bierutowska 75',\n",
       "       'Bierutowska', 'Bierutowska 65',\n",
       "       'Szczodre - Trzebnicka (na wys. nr 3a)', 'Łozina - Kościół',\n",
       "       'Długołęka - SELGROS pętla', 'Januszkowice - Wierzbowa',\n",
       "       'Januszkowice - skrzy. Kępa', 'Jaksonowice (na wys. nr 27)',\n",
       "       'Pietrzykowice - Sportowa/pętla',\n",
       "       'Pietrzykowice - Sportowa/Główna',\n",
       "       'Pietrzykowice - Wrocławska/Stawowa', 'Jaszkotle - kościół',\n",
       "       'Cesarzowice skrz.', 'Mokronos Dolny - Parkowa/Stawowa',\n",
       "       'Jaszkotle - Palmowa', 'Gądów', 'Gądów - Świerkowa',\n",
       "       'Nowa Wieś Wr. - pętla',\n",
       "       'Nowa Wieś Wr. - Relaksowa (na wys. nr 13)',\n",
       "       'Pietrzykowice - zakład', 'Smolec - Główna/Dworcowa',\n",
       "       'Smolec - Chłopska/Główna', 'Lekarska', 'Rondo Obrońców Grodna',\n",
       "       'Konopackiej', 'Widawa', 'Psary - Wolności', 'Szymanów - skrzyż.',\n",
       "       'Szymanów (Widawska)', 'Szymanów', 'Szymanów (Letnia)',\n",
       "       'SZYMANÓW-pętla', 'Psary - Szkoła', 'Psary - Parkowa',\n",
       "       'KRZYŻANOWICE', 'Samotworska', 'Gałowska', 'Samotwór - Dębowa',\n",
       "       'Samotwór - Leśna', 'Skałka', 'Skałka - skrzy. W362', 'Kębłowice',\n",
       "       'Bielawa', 'Piecowice', 'Kiełczów - Akacjowa', 'Kiełczów - Boczna',\n",
       "       'Kiełczów - pętla (Plac Jana Gdaka)', 'Kiełczów - WODROL',\n",
       "       'Kiełczów - osiedle', 'Wilczyce - Sosnowa', 'Wilczyce - Dębowa',\n",
       "       'Wilczyce - Dworska', 'Wilczyce - Borowa',\n",
       "       'Wilczyce - Wrocławska (na wys. nr 1F)', 'Wilczyce', 'Mroźna',\n",
       "       'Kurlandzka', 'Zgorzelisko', 'Palacha', 'Wilczyce - szkoła',\n",
       "       'Kiełczów - cmentarz', 'Kiełczów - pętla/Wrocławska',\n",
       "       'Kiełczów - Zgodna', 'Raków - skrzy.', 'Raków - osiedle',\n",
       "       'Wysoka - Lipowa', 'Wysoka - Lipowa/Jeżynowa',\n",
       "       'Karwiany - skrzy. (Wrocławska/Majowa)', 'Komorowice',\n",
       "       'Rzeplin - pętla', 'Wysoka - Lipowa/Parkowa',\n",
       "       'Żórawina - Wrocławska', 'Żórawina - skrzy. Niepodległości',\n",
       "       'Domaszczyn - Wrocławska Skrzyżowanie', 'Domaszczyn - Stawowa',\n",
       "       'Pruszowice', 'Długołęka - Kościół', 'Długołęka - Nowy Urząd',\n",
       "       'Kamień - Bursztynowa', 'Kamień - skrzy.', 'Kamień - Diamentowa',\n",
       "       'Długołęka - Broniewskiego (na wys. nr 11)', 'Krajobrazowa',\n",
       "       'Las Ratyński', 'Ferma - stadnina koni', 'Gałów przy posesji nr 2',\n",
       "       'GAŁÓW (pętla)', 'Gałów Przedszkole', 'Okólna',\n",
       "       'Na Grobli (Hydropolis)', 'Śliwice', 'Pietrzykowice',\n",
       "       'Brzezia Łąka - cmentarz', 'Brzezia Łąka - Wrocławska',\n",
       "       'Brzezia Łąka - skrzy. Orzechowa', 'Brzezia Łąka - skrzy. Główna',\n",
       "       'Kątna', 'Oleśniczka', 'Brzezia Łąka - skrzy. Sportowa',\n",
       "       'Borowa - szkoła', 'Borowa - stacja kolejowa', 'Raków I',\n",
       "       'Raków II', 'Raków III', 'Raków IV', 'Oleśniczka - skrzy.',\n",
       "       'BRZEZINA (pętla)', 'Brzezina - Kościół',\n",
       "       'Brzezinka Średzka - ul. Główna',\n",
       "       'Brzezinka Średzka - ul. Kolejowa', 'Pisarzowice - Kolejowa',\n",
       "       'Pisarzowice - Szkolna', 'Pisarzowice - Odrzańska',\n",
       "       'Pisarzowice - Graniczna', 'Wilkszyn (pętla)', 'Wilkszyn - Polna',\n",
       "       'Wilkszyn - Miłoszyn', 'Łososiowicka', 'Wilkszyńska',\n",
       "       'Brzezinka Średzka - PKP', 'Brzezinka Średzka - ul. Parkowa',\n",
       "       'Byków - Ogrodowa', 'Byków - Jaśminowa', 'Borowa - skrzy.',\n",
       "       'Stępin', 'Stępin - Kościół', 'Kamień - skrzy. Rubinowa',\n",
       "       'Kamień - skrzy. Diamentowa', 'Kamień - skrzy. Kryształowa',\n",
       "       'Gagarina', 'Smolec - Chłopska/Wrzosowa',\n",
       "       'Smolec - Chłopska/Śliwkowa', 'Smolec - Chłopska/Cisowa',\n",
       "       'Smolec - Lipowa/pętla', 'Smolec - Dębowa (sklep)',\n",
       "       'Krzeptów - skrzy.', 'Krzeptów - Boisko',\n",
       "       'Krzeptów - Dolina Krzeptowa', 'Smolec - Wiśniowa',\n",
       "       'Krzeptów - pętla', 'Smolec - Główna (na wys. nr 83)',\n",
       "       'Smolec - Główna (na wys. nr 52)', 'Kiełczów - Sosnowa',\n",
       "       'Kiełczów - Biedronka', 'Kiełczów - Wrocławska',\n",
       "       'Kiełczów - Mleczna', 'Kiełczów - Ładna', 'Kiełczów - Rzeczna',\n",
       "       'Kiełczówek - Sielska Zagroda', 'Kiełczówek', 'Kiełczówek - pętla',\n",
       "       'Kiełczówek - skrzy. Imbirowa', 'Brzezia Łąka - Główna',\n",
       "       'Brzezia Łąka - Główna pętla', 'Wilczyce - Wilczycka (Clarena)',\n",
       "       'Wilczyce - Wilczycka (Stary Młyn)', 'Kwiatkowskiego',\n",
       "       'Zabrodzie - pętla', 'Pruszowice - las', 'Odolanowska',\n",
       "       'Odrodzenia Polski', 'Jaksonowice - skrzy.', 'Skała - wieś',\n",
       "       'Węgrów (na wys. nr 27)', 'Węgrów (na wys. nr 7)',\n",
       "       'Krakowiany - skrzy.', 'Zaprężyn', 'Bierzyce - wieś', 'Bierzyce',\n",
       "       'Łozina - Milicka/szkoła', 'Łozina - Milicka/poczta',\n",
       "       'Łozina - Wrocławska (na wys. nr 18)', 'Bąków',\n",
       "       'Bukowina - skrzy.', 'Domaszczyn - Trzebnicka',\n",
       "       'Domaszczyn - skrzy.', 'Bukowina', 'Godzieszowa - transformator',\n",
       "       'Godzieszowa (na wys. nr 3)', 'Siedlec - stacja',\n",
       "       'Siedlec - skrzy. Osiedlowa', 'Tokary - osiedle',\n",
       "       'Tokary - centrum', 'Łozina - Nowego Osiedla II',\n",
       "       'Łozina - Nowego Osiedla I', 'Pasikurowice - n/ż',\n",
       "       'Pasikurowice - Energetyczna', 'Pasikurowice - skrzy. Malinowa',\n",
       "       'Pasikurowice - cmentarz', 'Ramiszów Stacja', 'Ramiszów',\n",
       "       'Pasikurowice - Wrocławska (na wys. nr 14)',\n",
       "       'Siedlec - Wrocławska/szkoła', 'Godzieszowa (na wys. nr 8)',\n",
       "       'Mirków - Kiełczowska (na wys. nr 14)', 'Mirków - skrzy. Polna',\n",
       "       'Siedlec - Wrocławska/sklep', 'Brzezina - Biedronka',\n",
       "       'Brzezina - Zacisze', 'Brzezina - Osiedle',\n",
       "       'Brzezina - ul. Chrobrego', 'Wróblowice Innowacyjna',\n",
       "       'Lutynia Rondo', 'Lutynia Osiedle ul. Wschodnia',\n",
       "       'Lutynia Centrum', 'Krępice', 'Lutynia - Straż', 'Lutynia I',\n",
       "       'Lutynia - Kolonia', 'Radakowice - Świetlica', 'Łowęcice - Staw',\n",
       "       'Mokronos Dolny - Stawowa/Szczęśliwa',\n",
       "       'Mokronos Górny - Wrocławska/Gwarna', 'Smolec - Wrocławska',\n",
       "       'Skałka - skrzy. Małkowice', 'Małkowice - Główna', 'Wróblowice',\n",
       "       'Błonie', 'Źródła', 'Kadłub wieś', 'Kadłub NŻ',\n",
       "       'Miękinia Cegielnia', 'Miękinia - stacja PKP', 'Miękinia - pętla',\n",
       "       'Krępice - Wrocławska', 'Żurawiniec', 'Mrozów - Świetlica',\n",
       "       'Mrozów - Wyzwolenia', 'Miękinia - Urząd Gminy', 'Klęka',\n",
       "       'Zabór Wielki', 'Zabór Mały', 'Lubiatów', 'Głoska - ul. Średzka',\n",
       "       'Gąsiorów', 'Księginice ul. Sportowa', 'Księginice P&R',\n",
       "       'Żórawina - Niepodległości (Mostek)'], dtype=object)"
      ]
     },
     "execution_count": 10,
     "metadata": {},
     "output_type": "execute_result"
    }
   ],
   "source": [
    "all_station_names = pd.unique(df[['start_stop', 'end_stop']].values.ravel('K'))\n",
    "all_station_names"
   ]
  },
  {
   "cell_type": "code",
   "execution_count": 11,
   "id": "425efefe4b557af0",
   "metadata": {
    "ExecuteTime": {
     "end_time": "2024-03-21T19:36:21.723235Z",
     "start_time": "2024-03-21T19:36:21.704744Z"
    },
    "collapsed": false
   },
   "outputs": [
    {
     "data": {
      "text/plain": [
       "939"
      ]
     },
     "execution_count": 11,
     "metadata": {},
     "output_type": "execute_result"
    }
   ],
   "source": [
    "len(all_station_names)"
   ]
  },
  {
   "cell_type": "code",
   "execution_count": 12,
   "id": "9d52cb8bbb36a5a9",
   "metadata": {
    "ExecuteTime": {
     "end_time": "2024-03-21T19:36:22.032902Z",
     "start_time": "2024-03-21T19:36:21.726403Z"
    },
    "collapsed": false
   },
   "outputs": [
    {
     "name": "stdout",
     "output_type": "stream",
     "text": [
      "Number of unique names in 'start_stop': 938\n",
      "Number of unique names in 'end_stop': 937\n"
     ]
    }
   ],
   "source": [
    "unique_start_stops = df['start_stop'].nunique()\n",
    "unique_end_stops = df['end_stop'].nunique()\n",
    "\n",
    "\n",
    "print(f\"Number of unique names in 'start_stop': {unique_start_stops}\")\n",
    "print(f\"Number of unique names in 'end_stop': {unique_end_stops}\")"
   ]
  },
  {
   "cell_type": "code",
   "execution_count": 13,
   "id": "f76db272c5cde994",
   "metadata": {
    "ExecuteTime": {
     "end_time": "2024-03-21T19:36:22.284839Z",
     "start_time": "2024-03-21T19:36:22.035913Z"
    },
    "collapsed": false
   },
   "outputs": [
    {
     "name": "stdout",
     "output_type": "stream",
     "text": [
      "Elements in start_stop but not in end_stop: {'Sucha', 'Żórawina - kościół Św. Trójcy'}\n"
     ]
    }
   ],
   "source": [
    "start_stop_unique = set(df['start_stop'].unique())\n",
    "end_stop_unique = set(df['end_stop'].unique())\n",
    "\n",
    "difference_elements = start_stop_unique - end_stop_unique\n",
    "\n",
    "print(\"Elements in start_stop but not in end_stop:\", difference_elements)\n"
   ]
  },
  {
   "cell_type": "code",
   "execution_count": 14,
   "id": "b0ed213ff793ad0e",
   "metadata": {
    "ExecuteTime": {
     "end_time": "2024-03-21T19:36:22.387149Z",
     "start_time": "2024-03-21T19:36:22.291185Z"
    },
    "collapsed": false
   },
   "outputs": [],
   "source": [
    "# verify\n",
    "sucha_as_end_stop_rows = df[df['end_stop'] == 'Sucha']"
   ]
  },
  {
   "cell_type": "markdown",
   "id": "2cf3ca5db58c1c05",
   "metadata": {
    "collapsed": false
   },
   "source": [
    "## FIND UNIQUE STOPS BASED ON LOCATION\n"
   ]
  },
  {
   "cell_type": "markdown",
   "id": "120032b6c5f2d999",
   "metadata": {
    "collapsed": false
   },
   "source": [
    "So I was thinking to represent two stations(in different directions) as separate nodes, but turns that there can be more than 2(as on Dworcowa that there can be some substation where only specific buses stop). So I will just treat all these different sub stations as single one. So I will have single which will have all these connections( all connections from 4 of them)\n",
    "\n"
   ]
  },
  {
   "cell_type": "code",
   "execution_count": 15,
   "id": "5b0f2a6b148e631",
   "metadata": {
    "ExecuteTime": {
     "end_time": "2024-03-21T19:36:22.699550Z",
     "start_time": "2024-03-21T19:36:22.393518Z"
    },
    "collapsed": false
   },
   "outputs": [],
   "source": [
    "start_stops = df[['start_stop', 'start_stop_lat', 'start_stop_lon']].copy()\n",
    "start_stops = start_stops.rename(columns={'start_stop': 'station_name', 'start_stop_lat': 'station_lat', 'start_stop_lon': 'station_lon'})\n",
    "\n",
    "end_stops = df[['end_stop', 'end_stop_lat', 'end_stop_lon']].copy()\n",
    "end_stops = end_stops.rename(columns={'end_stop': 'station_name', 'end_stop_lat': 'station_lat', 'end_stop_lon': 'station_lon'})\n",
    "\n",
    "all_stops = pd.concat([start_stops, end_stops], ignore_index=True)\n",
    "unique_stops = all_stops.drop_duplicates(subset=['station_lat', 'station_lon'])\n"
   ]
  },
  {
   "cell_type": "code",
   "execution_count": 16,
   "id": "4f9860edfff092e0",
   "metadata": {
    "ExecuteTime": {
     "end_time": "2024-03-21T19:36:22.716278Z",
     "start_time": "2024-03-21T19:36:22.700624Z"
    },
    "collapsed": false
   },
   "outputs": [
    {
     "data": {
      "text/html": [
       "<div>\n",
       "<style scoped>\n",
       "    .dataframe tbody tr th:only-of-type {\n",
       "        vertical-align: middle;\n",
       "    }\n",
       "\n",
       "    .dataframe tbody tr th {\n",
       "        vertical-align: top;\n",
       "    }\n",
       "\n",
       "    .dataframe thead th {\n",
       "        text-align: right;\n",
       "    }\n",
       "</style>\n",
       "<table border=\"1\" class=\"dataframe\">\n",
       "  <thead>\n",
       "    <tr style=\"text-align: right;\">\n",
       "      <th></th>\n",
       "      <th>station_name</th>\n",
       "      <th>station_lat</th>\n",
       "      <th>station_lon</th>\n",
       "    </tr>\n",
       "  </thead>\n",
       "  <tbody>\n",
       "    <tr>\n",
       "      <th>63</th>\n",
       "      <td>Dworzec Główny (Dworcowa)</td>\n",
       "      <td>51.101149</td>\n",
       "      <td>17.040017</td>\n",
       "    </tr>\n",
       "    <tr>\n",
       "      <th>455681</th>\n",
       "      <td>Dworzec Główny (Dworcowa)</td>\n",
       "      <td>51.100278</td>\n",
       "      <td>17.039201</td>\n",
       "    </tr>\n",
       "    <tr>\n",
       "      <th>533787</th>\n",
       "      <td>Dworzec Główny (Dworcowa)</td>\n",
       "      <td>51.101064</td>\n",
       "      <td>17.040380</td>\n",
       "    </tr>\n",
       "    <tr>\n",
       "      <th>856943</th>\n",
       "      <td>Dworzec Główny (Dworcowa)</td>\n",
       "      <td>51.100601</td>\n",
       "      <td>17.039271</td>\n",
       "    </tr>\n",
       "    <tr>\n",
       "      <th>951999</th>\n",
       "      <td>Smolec - Główna/Dworcowa</td>\n",
       "      <td>51.072252</td>\n",
       "      <td>16.880387</td>\n",
       "    </tr>\n",
       "  </tbody>\n",
       "</table>\n",
       "</div>"
      ],
      "text/plain": [
       "                     station_name  station_lat  station_lon\n",
       "63      Dworzec Główny (Dworcowa)    51.101149    17.040017\n",
       "455681  Dworzec Główny (Dworcowa)    51.100278    17.039201\n",
       "533787  Dworzec Główny (Dworcowa)    51.101064    17.040380\n",
       "856943  Dworzec Główny (Dworcowa)    51.100601    17.039271\n",
       "951999   Smolec - Główna/Dworcowa    51.072252    16.880387"
      ]
     },
     "execution_count": 16,
     "metadata": {},
     "output_type": "execute_result"
    }
   ],
   "source": [
    "dworcowa_stops = unique_stops[unique_stops['station_name'].str.contains('Dworcowa')]\n",
    "dworcowa_stops"
   ]
  },
  {
   "cell_type": "code",
   "execution_count": 17,
   "id": "4b5f262ca5a86d08",
   "metadata": {
    "ExecuteTime": {
     "end_time": "2024-03-21T19:36:22.735502Z",
     "start_time": "2024-03-21T19:36:22.718291Z"
    },
    "collapsed": false
   },
   "outputs": [
    {
     "data": {
      "text/html": [
       "<div>\n",
       "<style scoped>\n",
       "    .dataframe tbody tr th:only-of-type {\n",
       "        vertical-align: middle;\n",
       "    }\n",
       "\n",
       "    .dataframe tbody tr th {\n",
       "        vertical-align: top;\n",
       "    }\n",
       "\n",
       "    .dataframe thead th {\n",
       "        text-align: right;\n",
       "    }\n",
       "</style>\n",
       "<table border=\"1\" class=\"dataframe\">\n",
       "  <thead>\n",
       "    <tr style=\"text-align: right;\">\n",
       "      <th></th>\n",
       "      <th>station_name</th>\n",
       "      <th>station_lat</th>\n",
       "      <th>station_lon</th>\n",
       "    </tr>\n",
       "  </thead>\n",
       "  <tbody>\n",
       "    <tr>\n",
       "      <th>14028</th>\n",
       "      <td>most Grunwaldzki</td>\n",
       "      <td>51.110136</td>\n",
       "      <td>17.055093</td>\n",
       "    </tr>\n",
       "    <tr>\n",
       "      <th>14160</th>\n",
       "      <td>most Grunwaldzki</td>\n",
       "      <td>51.110133</td>\n",
       "      <td>17.055573</td>\n",
       "    </tr>\n",
       "    <tr>\n",
       "      <th>97771</th>\n",
       "      <td>most Grunwaldzki</td>\n",
       "      <td>51.110212</td>\n",
       "      <td>17.055385</td>\n",
       "    </tr>\n",
       "    <tr>\n",
       "      <th>97811</th>\n",
       "      <td>most Grunwaldzki</td>\n",
       "      <td>51.110138</td>\n",
       "      <td>17.055493</td>\n",
       "    </tr>\n",
       "  </tbody>\n",
       "</table>\n",
       "</div>"
      ],
      "text/plain": [
       "           station_name  station_lat  station_lon\n",
       "14028  most Grunwaldzki    51.110136    17.055093\n",
       "14160  most Grunwaldzki    51.110133    17.055573\n",
       "97771  most Grunwaldzki    51.110212    17.055385\n",
       "97811  most Grunwaldzki    51.110138    17.055493"
      ]
     },
     "execution_count": 17,
     "metadata": {},
     "output_type": "execute_result"
    }
   ],
   "source": [
    "most_grunwaldzki_stops = unique_stops[unique_stops['station_name'].str.contains('most Grunwaldzki')]\n",
    "most_grunwaldzki_stops"
   ]
  },
  {
   "cell_type": "markdown",
   "id": "7d728349ae834924",
   "metadata": {
    "collapsed": false
   },
   "source": [
    "# THIS IS THE DATA WHICH WILL BE USED TO CREATE NODES IN MY DIRECTED GRAPH(THEY REPRESENT STATIONS)"
   ]
  },
  {
   "cell_type": "markdown",
   "id": "461578b5884e3263",
   "metadata": {
    "collapsed": false
   },
   "source": [
    "### Since there are multiple with the same name ( and in fact they are in different locations, but still close) to represent it i will take average lon and lat for stations with the same name"
   ]
  },
  {
   "cell_type": "code",
   "execution_count": 18,
   "id": "a4e80d6dd9f84eb8",
   "metadata": {
    "ExecuteTime": {
     "end_time": "2024-03-21T19:36:22.754551Z",
     "start_time": "2024-03-21T19:36:22.736589Z"
    },
    "collapsed": false
   },
   "outputs": [
    {
     "name": "stdout",
     "output_type": "stream",
     "text": [
      "                         station_name  station_lat  station_lon\n",
      "0                              8 Maja    51.113536    17.091181\n",
      "1                              AUCHAN    51.052065    16.974054\n",
      "2                       Adamczewskich    51.120899    16.869548\n",
      "3                        Adamieckiego    51.073771    16.963324\n",
      "4                   Aleja Architektów    51.138955    16.928764\n",
      "..                                ...          ...          ...\n",
      "934             Żórawina - Wrocławska    50.986326    17.038462\n",
      "935     Żórawina - kościół Św. Trójcy    50.980426    17.039577\n",
      "936                Żórawina - osiedle    50.987617    17.012400\n",
      "937                 Żórawina - skrzy.    50.981035    17.035511\n",
      "938  Żórawina - skrzy. Niepodległości    50.981291    17.035642\n",
      "\n",
      "[939 rows x 3 columns]\n"
     ]
    }
   ],
   "source": [
    "# Group by 'station_name' and calculate the average 'stop_lat' and 'stop_lon'\n",
    "avg_stops = unique_stops.groupby('station_name').agg({'station_lat': 'mean', 'station_lon': 'mean'}).reset_index()\n",
    "\n",
    "# Display the final DataFrame with average values\n",
    "print(avg_stops)"
   ]
  },
  {
   "cell_type": "markdown",
   "id": "f45a0658a64945bb",
   "metadata": {
    "collapsed": false
   },
   "source": [
    "## HERE THE PROBLEM IS THAT DATA IS LIKE 24:01:00 AND TIME GOES BEYOND 24 HOURS. SO HERE I AM CHANGING THE FORMAT OF DATA TO 24 HOUR TIME"
   ]
  },
  {
   "cell_type": "markdown",
   "id": "db88f0ac46b49b8b",
   "metadata": {
    "collapsed": false
   },
   "source": [
    "### PREPARE THE DATA FOR THE EDGES(CONNECTIONS) BETWEEN STATIONS"
   ]
  },
  {
   "cell_type": "code",
   "execution_count": 19,
   "id": "a83df9706283090c",
   "metadata": {
    "ExecuteTime": {
     "end_time": "2024-03-21T19:36:31.030120Z",
     "start_time": "2024-03-21T19:36:22.756621Z"
    },
    "collapsed": false
   },
   "outputs": [],
   "source": [
    "columns_to_extract = ['line','start_stop', 'end_stop', 'departure_time', 'arrival_time']\n",
    "connections = df[columns_to_extract].copy()\n",
    "\n",
    "# Convert 'departure_time' and 'arrival_time' to timedelta objects\n",
    "connections['departure_seconds'] = pd.to_timedelta(connections['departure_time']).dt.total_seconds()\n",
    "connections['arrival_seconds'] = pd.to_timedelta(connections['arrival_time']).dt.total_seconds()\n",
    "\n",
    "# Handle values exceeding 24 hours using modulo operator\n",
    "connections['departure_seconds'] = connections['departure_seconds'] % (24 * 3600)\n",
    "connections['arrival_seconds'] = connections['arrival_seconds'] % (24 * 3600)\n",
    "\n",
    "# Convert back to time objects\n",
    "connections['departure_time'] = pd.to_datetime(connections['departure_seconds'], unit='s').dt.time\n",
    "connections['arrival_time'] = pd.to_datetime(connections['arrival_seconds'], unit='s').dt.time\n",
    "\n",
    "# Drop intermediate columns\n",
    "connections.drop(['departure_seconds', 'arrival_seconds'], axis=1, inplace=True)\n",
    "\n",
    "\n",
    "\n",
    "\n"
   ]
  },
  {
   "cell_type": "markdown",
   "id": "20f39e278e63adc5",
   "metadata": {
    "collapsed": false
   },
   "source": [
    "### NOW I WILL CALCULATE TIME DIFFERENCE BETWEEN CONNECTIONS IN TIME. SINCE THERE CAN BE CASE WHEN departure_time is 23:59:00 and arrival_time is 00:01:00 if i subtract arrival_time from departure_time I will get negative value, so I need to handle such cases, because I want to get time difference as 2. \n",
    "\n",
    "!!! SINCE THE WAITING SHOULD BE INCLUDED INTO CALCULATIONS THERE IS NO POINT TO CALCULATE TIME DIFFERENCE COLUMN UPFRONT\n",
    "\n"
   ]
  },
  {
   "cell_type": "code",
   "execution_count": 20,
   "id": "10262f0a1422d7b3",
   "metadata": {
    "ExecuteTime": {
     "end_time": "2024-03-21T19:36:31.044783Z",
     "start_time": "2024-03-21T19:36:31.031207Z"
    },
    "collapsed": false
   },
   "outputs": [
    {
     "data": {
      "text/html": [
       "<div>\n",
       "<style scoped>\n",
       "    .dataframe tbody tr th:only-of-type {\n",
       "        vertical-align: middle;\n",
       "    }\n",
       "\n",
       "    .dataframe tbody tr th {\n",
       "        vertical-align: top;\n",
       "    }\n",
       "\n",
       "    .dataframe thead th {\n",
       "        text-align: right;\n",
       "    }\n",
       "</style>\n",
       "<table border=\"1\" class=\"dataframe\">\n",
       "  <thead>\n",
       "    <tr style=\"text-align: right;\">\n",
       "      <th></th>\n",
       "      <th>line</th>\n",
       "      <th>start_stop</th>\n",
       "      <th>end_stop</th>\n",
       "      <th>departure_time</th>\n",
       "      <th>arrival_time</th>\n",
       "    </tr>\n",
       "  </thead>\n",
       "  <tbody>\n",
       "    <tr>\n",
       "      <th>0</th>\n",
       "      <td>A</td>\n",
       "      <td>Zajezdnia Obornicka</td>\n",
       "      <td>Paprotna</td>\n",
       "      <td>20:52:00</td>\n",
       "      <td>20:53:00</td>\n",
       "    </tr>\n",
       "    <tr>\n",
       "      <th>1</th>\n",
       "      <td>A</td>\n",
       "      <td>Paprotna</td>\n",
       "      <td>Obornicka (Wołowska)</td>\n",
       "      <td>20:53:00</td>\n",
       "      <td>20:54:00</td>\n",
       "    </tr>\n",
       "    <tr>\n",
       "      <th>2</th>\n",
       "      <td>A</td>\n",
       "      <td>Obornicka (Wołowska)</td>\n",
       "      <td>Bezpieczna</td>\n",
       "      <td>20:54:00</td>\n",
       "      <td>20:55:00</td>\n",
       "    </tr>\n",
       "    <tr>\n",
       "      <th>3</th>\n",
       "      <td>A</td>\n",
       "      <td>Bezpieczna</td>\n",
       "      <td>Bałtycka</td>\n",
       "      <td>20:55:00</td>\n",
       "      <td>20:57:00</td>\n",
       "    </tr>\n",
       "    <tr>\n",
       "      <th>4</th>\n",
       "      <td>A</td>\n",
       "      <td>Bałtycka</td>\n",
       "      <td>Broniewskiego</td>\n",
       "      <td>20:57:00</td>\n",
       "      <td>20:59:00</td>\n",
       "    </tr>\n",
       "  </tbody>\n",
       "</table>\n",
       "</div>"
      ],
      "text/plain": [
       "  line            start_stop              end_stop departure_time arrival_time\n",
       "0    A   Zajezdnia Obornicka              Paprotna       20:52:00     20:53:00\n",
       "1    A              Paprotna  Obornicka (Wołowska)       20:53:00     20:54:00\n",
       "2    A  Obornicka (Wołowska)            Bezpieczna       20:54:00     20:55:00\n",
       "3    A            Bezpieczna              Bałtycka       20:55:00     20:57:00\n",
       "4    A              Bałtycka         Broniewskiego       20:57:00     20:59:00"
      ]
     },
     "execution_count": 20,
     "metadata": {},
     "output_type": "execute_result"
    }
   ],
   "source": [
    "connections.head()"
   ]
  },
  {
   "cell_type": "markdown",
   "id": "23c324944bcdba7a",
   "metadata": {
    "collapsed": false
   },
   "source": [
    "### Verify whether conversion to datetime.time object was successful"
   ]
  },
  {
   "cell_type": "code",
   "execution_count": 21,
   "id": "bd46988d9ae0bdf2",
   "metadata": {
    "ExecuteTime": {
     "end_time": "2024-03-21T19:36:31.141104Z",
     "start_time": "2024-03-21T19:36:31.046850Z"
    },
    "collapsed": false
   },
   "outputs": [
    {
     "data": {
      "text/html": [
       "<div>\n",
       "<style scoped>\n",
       "    .dataframe tbody tr th:only-of-type {\n",
       "        vertical-align: middle;\n",
       "    }\n",
       "\n",
       "    .dataframe tbody tr th {\n",
       "        vertical-align: top;\n",
       "    }\n",
       "\n",
       "    .dataframe thead th {\n",
       "        text-align: right;\n",
       "    }\n",
       "</style>\n",
       "<table border=\"1\" class=\"dataframe\">\n",
       "  <thead>\n",
       "    <tr style=\"text-align: right;\">\n",
       "      <th></th>\n",
       "      <th>line</th>\n",
       "      <th>start_stop</th>\n",
       "      <th>end_stop</th>\n",
       "      <th>departure_time</th>\n",
       "      <th>arrival_time</th>\n",
       "    </tr>\n",
       "  </thead>\n",
       "  <tbody>\n",
       "    <tr>\n",
       "      <th>30968</th>\n",
       "      <td>K</td>\n",
       "      <td>Kamieńskiego</td>\n",
       "      <td>Broniewskiego</td>\n",
       "      <td>23:59:00</td>\n",
       "      <td>00:01:00</td>\n",
       "    </tr>\n",
       "    <tr>\n",
       "      <th>32994</th>\n",
       "      <td>K</td>\n",
       "      <td>Kamieńskiego</td>\n",
       "      <td>Broniewskiego</td>\n",
       "      <td>23:59:00</td>\n",
       "      <td>00:01:00</td>\n",
       "    </tr>\n",
       "    <tr>\n",
       "      <th>35129</th>\n",
       "      <td>K</td>\n",
       "      <td>Kamieńskiego</td>\n",
       "      <td>Broniewskiego</td>\n",
       "      <td>23:59:00</td>\n",
       "      <td>00:01:00</td>\n",
       "    </tr>\n",
       "    <tr>\n",
       "      <th>38108</th>\n",
       "      <td>K</td>\n",
       "      <td>Kamieńskiego</td>\n",
       "      <td>Broniewskiego</td>\n",
       "      <td>23:59:00</td>\n",
       "      <td>00:01:00</td>\n",
       "    </tr>\n",
       "    <tr>\n",
       "      <th>41103</th>\n",
       "      <td>N</td>\n",
       "      <td>Kromera (Czajkowskiego)</td>\n",
       "      <td>KROMERA</td>\n",
       "      <td>23:59:00</td>\n",
       "      <td>00:00:00</td>\n",
       "    </tr>\n",
       "    <tr>\n",
       "      <th>...</th>\n",
       "      <td>...</td>\n",
       "      <td>...</td>\n",
       "      <td>...</td>\n",
       "      <td>...</td>\n",
       "      <td>...</td>\n",
       "    </tr>\n",
       "    <tr>\n",
       "      <th>950293</th>\n",
       "      <td>904</td>\n",
       "      <td>Zielna</td>\n",
       "      <td>C.H. Korona</td>\n",
       "      <td>23:59:00</td>\n",
       "      <td>00:01:00</td>\n",
       "    </tr>\n",
       "    <tr>\n",
       "      <th>951455</th>\n",
       "      <td>904</td>\n",
       "      <td>Psie Pole</td>\n",
       "      <td>Zielna</td>\n",
       "      <td>23:59:00</td>\n",
       "      <td>23:59:00</td>\n",
       "    </tr>\n",
       "    <tr>\n",
       "      <th>951456</th>\n",
       "      <td>904</td>\n",
       "      <td>Zielna</td>\n",
       "      <td>C.H. Korona</td>\n",
       "      <td>23:59:00</td>\n",
       "      <td>00:01:00</td>\n",
       "    </tr>\n",
       "    <tr>\n",
       "      <th>955346</th>\n",
       "      <td>908</td>\n",
       "      <td>Żmigrodzka (Obwodnica)</td>\n",
       "      <td>Lekarska</td>\n",
       "      <td>23:59:00</td>\n",
       "      <td>00:00:00</td>\n",
       "    </tr>\n",
       "    <tr>\n",
       "      <th>957000</th>\n",
       "      <td>908</td>\n",
       "      <td>Żmigrodzka (Obwodnica)</td>\n",
       "      <td>Lekarska</td>\n",
       "      <td>23:59:00</td>\n",
       "      <td>00:00:00</td>\n",
       "    </tr>\n",
       "  </tbody>\n",
       "</table>\n",
       "<p>239 rows × 5 columns</p>\n",
       "</div>"
      ],
      "text/plain": [
       "       line               start_stop       end_stop departure_time  \\\n",
       "30968     K             Kamieńskiego  Broniewskiego       23:59:00   \n",
       "32994     K             Kamieńskiego  Broniewskiego       23:59:00   \n",
       "35129     K             Kamieńskiego  Broniewskiego       23:59:00   \n",
       "38108     K             Kamieńskiego  Broniewskiego       23:59:00   \n",
       "41103     N  Kromera (Czajkowskiego)        KROMERA       23:59:00   \n",
       "...     ...                      ...            ...            ...   \n",
       "950293  904                   Zielna    C.H. Korona       23:59:00   \n",
       "951455  904                Psie Pole         Zielna       23:59:00   \n",
       "951456  904                   Zielna    C.H. Korona       23:59:00   \n",
       "955346  908   Żmigrodzka (Obwodnica)       Lekarska       23:59:00   \n",
       "957000  908   Żmigrodzka (Obwodnica)       Lekarska       23:59:00   \n",
       "\n",
       "       arrival_time  \n",
       "30968      00:01:00  \n",
       "32994      00:01:00  \n",
       "35129      00:01:00  \n",
       "38108      00:01:00  \n",
       "41103      00:00:00  \n",
       "...             ...  \n",
       "950293     00:01:00  \n",
       "951455     23:59:00  \n",
       "951456     00:01:00  \n",
       "955346     00:00:00  \n",
       "957000     00:00:00  \n",
       "\n",
       "[239 rows x 5 columns]"
      ]
     },
     "execution_count": 21,
     "metadata": {},
     "output_type": "execute_result"
    }
   ],
   "source": [
    "import datetime\n",
    "\n",
    "desired_time = datetime.time(23, 59, 0)\n",
    "\n",
    "desired_records = connections[connections['departure_time'] == desired_time]\n",
    "\n",
    "desired_records"
   ]
  },
  {
   "cell_type": "code",
   "execution_count": 22,
   "id": "1aa80b0b8ff8c44b",
   "metadata": {
    "ExecuteTime": {
     "end_time": "2024-03-21T19:36:31.697162Z",
     "start_time": "2024-03-21T19:36:31.142115Z"
    },
    "collapsed": false
   },
   "outputs": [
    {
     "data": {
      "text/plain": [
       "24"
      ]
     },
     "execution_count": 22,
     "metadata": {},
     "output_type": "execute_result"
    }
   ],
   "source": [
    "# so there are 24 hours right now, which is correct\n",
    "connections['departure_time'].apply(lambda x: x.hour).nunique()\n"
   ]
  },
  {
   "cell_type": "code",
   "execution_count": 23,
   "id": "30f5edec3a4d483e",
   "metadata": {
    "ExecuteTime": {
     "end_time": "2024-03-21T19:36:31.706890Z",
     "start_time": "2024-03-21T19:36:31.699420Z"
    },
    "collapsed": false
   },
   "outputs": [
    {
     "data": {
      "text/plain": [
       "996520"
      ]
     },
     "execution_count": 23,
     "metadata": {},
     "output_type": "execute_result"
    }
   ],
   "source": [
    "len(connections)"
   ]
  },
  {
   "cell_type": "markdown",
   "id": "41eb87a55b812565",
   "metadata": {
    "collapsed": false
   },
   "source": [
    "# SO NOW DATA IS READY"
   ]
  },
  {
   "cell_type": "markdown",
   "id": "7c488ee4ebc5c3fe",
   "metadata": {
    "collapsed": false
   },
   "source": [
    "## PREPARE HELPER FUNCTIONS WHICH WILL BE USED FOR CALCULATIONS"
   ]
  },
  {
   "cell_type": "code",
   "execution_count": 24,
   "id": "87f77c7a63de91f5",
   "metadata": {
    "ExecuteTime": {
     "end_time": "2024-03-21T19:36:31.714648Z",
     "start_time": "2024-03-21T19:36:31.709536Z"
    },
    "collapsed": false
   },
   "outputs": [],
   "source": [
    "import datetime\n",
    "\n",
    "def calculate_time_difference(departure_time, arrival_time):\n",
    "    # Convert departure_time and arrival_time to seconds\n",
    "    departure_seconds = departure_time.hour * 3600 + departure_time.minute * 60 + departure_time.second\n",
    "    arrival_seconds = arrival_time.hour * 3600 + arrival_time.minute * 60 + arrival_time.second\n",
    "    \n",
    "    # Calculate the time difference in seconds\n",
    "    time_difference_seconds = arrival_seconds - departure_seconds\n",
    "    \n",
    "    # Handle cases where the difference is negative\n",
    "    if time_difference_seconds < 0:\n",
    "        time_difference_seconds += 24 * 60 * 60  # 24 hours in seconds\n",
    "    \n",
    "    return time_difference_seconds / 60  # Convert to minutes\n"
   ]
  },
  {
   "cell_type": "code",
   "execution_count": 25,
   "id": "d470e7ae7af3b4a3",
   "metadata": {
    "ExecuteTime": {
     "end_time": "2024-03-21T19:36:31.727952Z",
     "start_time": "2024-03-21T19:36:31.716714Z"
    },
    "collapsed": false
   },
   "outputs": [
    {
     "name": "stdout",
     "output_type": "stream",
     "text": [
      "Time difference: 105.0 minutes\n",
      "Time difference: 30.0 minutes\n",
      "Time difference: 30.0 minutes\n",
      "Time difference: 1439.0 minutes\n",
      "Time difference: 1435.0 minutes\n"
     ]
    }
   ],
   "source": [
    "# Example test calls\n",
    "departure_time1 = datetime.time(8, 30, 0)\n",
    "arrival_time1 = datetime.time(10, 15, 0)\n",
    "print(\"Time difference:\", calculate_time_difference(departure_time1, arrival_time1), \"minutes\")\n",
    "\n",
    "departure_time2 = datetime.time(23, 45, 0)\n",
    "arrival_time2 = datetime.time(0, 15, 0)  # next day\n",
    "print(\"Time difference:\", calculate_time_difference(departure_time2, arrival_time2), \"minutes\")\n",
    "\n",
    "departure_time3 = datetime.time(18, 0, 0)\n",
    "arrival_time3 = datetime.time(18, 30, 0)\n",
    "print(\"Time difference:\", calculate_time_difference(departure_time3, arrival_time3), \"minutes\")\n",
    "\n",
    "departure_time3 = datetime.time(18, 0, 0)\n",
    "arrival_time3 = datetime.time(17, 59, 0)\n",
    "print(\"Time difference:\", calculate_time_difference(departure_time3, arrival_time3), \"minutes\")\n",
    "\n",
    "departure_time3 = datetime.time(8, 20, 0)\n",
    "arrival_time3 = datetime.time(8, 15, 0)\n",
    "print(\"Time difference:\", calculate_time_difference(departure_time3, arrival_time3), \"minutes\")"
   ]
  },
  {
   "cell_type": "markdown",
   "id": "abf16e0c8ee4bda9",
   "metadata": {
    "collapsed": false
   },
   "source": [
    "### PREPARE HEURITICS FUNCTIONS"
   ]
  },
  {
   "cell_type": "code",
   "execution_count": 26,
   "id": "985e143908682e57",
   "metadata": {
    "ExecuteTime": {
     "end_time": "2024-03-21T19:36:31.737872Z",
     "start_time": "2024-03-21T19:36:31.730398Z"
    },
    "collapsed": false
   },
   "outputs": [],
   "source": [
    "import math\n",
    "def euclidean_distance(node1, node2):\n",
    "    lat1, lon1 = node1['lat'], node1['lon']\n",
    "    lat2, lon2 = node2['lat'], node2['lon']\n",
    "    \n",
    "    # Calculate the Euclidean distance\n",
    "    distance = math.sqrt((lat2 - lat1)**2 + (lon2 - lon1)**2)\n",
    "    return distance\n",
    "\n",
    "def manhattan_distance(node1, node2):\n",
    "    lat1, lon1 = node1['lat'], node1['lon']\n",
    "    lat2, lon2 = node2['lat'], node2['lon']\n",
    "    \n",
    "    # Calculate the Manhattan distance\n",
    "    distance = abs(lat2 - lat1) + abs(lon2 - lon1)\n",
    "    return distance"
   ]
  },
  {
   "cell_type": "code",
   "execution_count": 27,
   "id": "fc35b55db69f2f0",
   "metadata": {
    "ExecuteTime": {
     "end_time": "2024-03-21T19:36:31.745540Z",
     "start_time": "2024-03-21T19:36:31.740014Z"
    },
    "collapsed": false
   },
   "outputs": [],
   "source": [
    "from datetime import datetime, time\n",
    "\n",
    "def str_to_time(time_str):\n",
    "    # Parse the time string and extract the hour, minute, and second components\n",
    "    hour, minute, second = map(int, time_str.split(':'))\n",
    "    \n",
    "    # Return a datetime.time object\n",
    "    return time(hour, minute, second)"
   ]
  },
  {
   "cell_type": "markdown",
   "id": "794639ee29286c04",
   "metadata": {
    "collapsed": false
   },
   "source": [
    "# CREATE GRAPH"
   ]
  },
  {
   "cell_type": "code",
   "execution_count": 28,
   "id": "66516b3970e88995",
   "metadata": {
    "ExecuteTime": {
     "end_time": "2024-03-21T19:36:31.753907Z",
     "start_time": "2024-03-21T19:36:31.746614Z"
    },
    "collapsed": false
   },
   "outputs": [],
   "source": [
    "import pickle\n",
    "\n",
    "def save_graph(graph, filename):\n",
    "    with open(filename, 'wb') as f:\n",
    "        pickle.dump(graph, f)\n",
    "\n",
    "def load_graph(filename):\n",
    "    with open(filename, 'rb') as f:\n",
    "        graph = pickle.load(f)\n",
    "    return graph"
   ]
  },
  {
   "cell_type": "code",
   "execution_count": 29,
   "id": "59ef643be7a1d004",
   "metadata": {
    "ExecuteTime": {
     "end_time": "2024-03-21T19:36:31.762897Z",
     "start_time": "2024-03-21T19:36:31.756043Z"
    },
    "collapsed": false
   },
   "outputs": [],
   "source": [
    "def add_nodes_from_dataframe(graph, dataframe):\n",
    "    for index, row in dataframe.iterrows():\n",
    "        station_name = row['station_name']\n",
    "        station_lat = row['station_lat']\n",
    "        station_lon = row['station_lon']\n",
    "        graph.add_node(station_name, lat=station_lat, lon=station_lon)"
   ]
  },
  {
   "cell_type": "code",
   "execution_count": 30,
   "id": "6081f99a25b78212",
   "metadata": {
    "ExecuteTime": {
     "end_time": "2024-03-21T19:36:31.773864Z",
     "start_time": "2024-03-21T19:36:31.765042Z"
    },
    "collapsed": false
   },
   "outputs": [],
   "source": [
    "def update_transportation_system_edges(graph, connections):\n",
    "    # Remove existing edges from the graph\n",
    "    graph.remove_edges_from(graph.edges())\n",
    "    \n",
    "    # Add new edges from the connections DataFrame\n",
    "    for index, row in connections.iterrows():\n",
    "        line = row['line']\n",
    "        start_stop = row['start_stop']\n",
    "        end_stop = row['end_stop']\n",
    "        \n",
    "        # Generate a unique identifier for the edge if needed\n",
    "        edge_id = index  # Or any other method to generate a unique identifier\n",
    "        \n",
    "        # Add an edge to the graph connecting start_stop to end_stop with the specified attributes and weight\n",
    "        graph.add_edge(start_stop, end_stop, departure_time=row['departure_time'], \n",
    "                       arrival_time=row['arrival_time'], line=line, edge_id=edge_id)\n"
   ]
  },
  {
   "cell_type": "markdown",
   "id": "60555ca13ff37751",
   "metadata": {
    "collapsed": false
   },
   "source": [
    "# Load the graph from the file to not recreate graph each time(since it will not change)"
   ]
  },
  {
   "cell_type": "code",
   "execution_count": 31,
   "id": "3a91ffb43b38a4dd",
   "metadata": {
    "ExecuteTime": {
     "end_time": "2024-03-21T19:36:33.749034Z",
     "start_time": "2024-03-21T19:36:31.774929Z"
    },
    "collapsed": false
   },
   "outputs": [],
   "source": [
    "import os\n",
    "filename = \"transportation_system.pkl\"\n",
    "if not os.path.isfile(filename):\n",
    "    transportation_system = nx.MultiDiGraph()\n",
    "    add_nodes_from_dataframe(transportation_system,avg_stops)\n",
    "    update_transportation_system_edges(transportation_system, connections)\n",
    "    save_graph(transportation_system, filename)\n",
    "else:\n",
    "    transportation_system = load_graph(filename)\n"
   ]
  },
  {
   "cell_type": "markdown",
   "id": "2f6cefddc73d52fa",
   "metadata": {
    "collapsed": false
   },
   "source": [
    "# VERIFY IF THE DATA IS LOADED CORRECTLY"
   ]
  },
  {
   "cell_type": "code",
   "execution_count": 32,
   "id": "ee40f3f789cddd01",
   "metadata": {
    "ExecuteTime": {
     "end_time": "2024-03-21T19:36:33.758489Z",
     "start_time": "2024-03-21T19:36:33.751213Z"
    },
    "collapsed": false
   },
   "outputs": [
    {
     "name": "stdout",
     "output_type": "stream",
     "text": [
      "Nodes in the transportation system graph:\n",
      "[('8 Maja', {'lat': 51.11353644166667, 'lon': 17.09118084}), ('AUCHAN', {'lat': 51.0520648, 'lon': 16.97405354}), ('Adamczewskich', {'lat': 51.120898675, 'lon': 16.869548215000002}), ('Adamieckiego', {'lat': 51.07377125, 'lon': 16.963323875}), ('Aleja Architektów', {'lat': 51.138954562500004, 'lon': 16.9287636275})]\n"
     ]
    }
   ],
   "source": [
    "print(\"Nodes in the transportation system graph:\")\n",
    "print(list(transportation_system.nodes(data=True))[:5])"
   ]
  },
  {
   "cell_type": "code",
   "execution_count": 33,
   "id": "c5dc0d884afb3ddb",
   "metadata": {
    "ExecuteTime": {
     "end_time": "2024-03-21T19:36:33.768595Z",
     "start_time": "2024-03-21T19:36:33.760617Z"
    },
    "collapsed": false
   },
   "outputs": [
    {
     "name": "stdout",
     "output_type": "stream",
     "text": [
      "The number of nodes in the graph is: 939\n"
     ]
    }
   ],
   "source": [
    "num_nodes = transportation_system.number_of_nodes()\n",
    "print(f\"The number of nodes in the graph is: {num_nodes}\")\n"
   ]
  },
  {
   "cell_type": "code",
   "execution_count": 34,
   "id": "35920d9acdf7b735",
   "metadata": {
    "ExecuteTime": {
     "end_time": "2024-03-21T19:36:33.818626Z",
     "start_time": "2024-03-21T19:36:33.770930Z"
    },
    "collapsed": false
   },
   "outputs": [
    {
     "name": "stdout",
     "output_type": "stream",
     "text": [
      "The number of edges in the graph is: 996520\n"
     ]
    }
   ],
   "source": [
    "num_edges = transportation_system.number_of_edges()\n",
    "print(f\"The number of edges in the graph is: {num_edges}\")\n"
   ]
  },
  {
   "cell_type": "code",
   "execution_count": 35,
   "id": "399bd89dc89ba2e",
   "metadata": {
    "ExecuteTime": {
     "end_time": "2024-03-21T19:36:33.826627Z",
     "start_time": "2024-03-21T19:36:33.820796Z"
    },
    "collapsed": false
   },
   "outputs": [
    {
     "name": "stdout",
     "output_type": "stream",
     "text": [
      "Subset of edges in the transportation system graph:\n",
      "('8 Maja', 'Stadion Olimpijski', {'departure_time': datetime.time(10, 20), 'arrival_time': datetime.time(10, 21), 'line': '9', 'edge_id': 167372})\n",
      "('8 Maja', 'Stadion Olimpijski', {'departure_time': datetime.time(14, 20), 'arrival_time': datetime.time(14, 21), 'line': '9', 'edge_id': 167421})\n",
      "('8 Maja', 'Stadion Olimpijski', {'departure_time': datetime.time(18, 20), 'arrival_time': datetime.time(18, 21), 'line': '9', 'edge_id': 167470})\n",
      "('8 Maja', 'Stadion Olimpijski', {'departure_time': datetime.time(10, 40), 'arrival_time': datetime.time(10, 41), 'line': '9', 'edge_id': 167519})\n",
      "('8 Maja', 'Stadion Olimpijski', {'departure_time': datetime.time(14, 40), 'arrival_time': datetime.time(14, 41), 'line': '9', 'edge_id': 167568})\n"
     ]
    }
   ],
   "source": [
    "import itertools\n",
    "\n",
    "print(\"Subset of edges in the transportation system graph:\")\n",
    "edges_to_display = itertools.islice(transportation_system.edges(data=True), 5)  # Selecting the first five edges\n",
    "\n",
    "for edge in edges_to_display:\n",
    "    print(edge)"
   ]
  },
  {
   "cell_type": "markdown",
   "id": "1033e032aed52b2b",
   "metadata": {
    "collapsed": false
   },
   "source": [
    "## CREATE HASH MAP SO IN THE END I CAN RETRIEVE CONNECTIONS BASED ON EDGE_ID (using hash map, so I have got O(1) access time)"
   ]
  },
  {
   "cell_type": "code",
   "execution_count": 36,
   "id": "9600bb060ad42bfe",
   "metadata": {
    "ExecuteTime": {
     "end_time": "2024-03-21T19:36:36.317154Z",
     "start_time": "2024-03-21T19:36:33.828246Z"
    },
    "collapsed": false
   },
   "outputs": [],
   "source": [
    "edge_hashmap = {}\n",
    "\n",
    "# Iterate over the edges and populate the hashmap\n",
    "for edge in transportation_system.edges(data=True):\n",
    "    u, v, data = edge\n",
    "    edge_id = data.get('edge_id')\n",
    "    if edge_id:\n",
    "        edge_hashmap[edge_id] = edge"
   ]
  },
  {
   "cell_type": "code",
   "execution_count": 37,
   "id": "5c2bb47f3571c939",
   "metadata": {
    "ExecuteTime": {
     "end_time": "2024-03-21T19:36:36.357111Z",
     "start_time": "2024-03-21T19:36:36.321683Z"
    },
    "collapsed": false
   },
   "outputs": [
    {
     "name": "stdout",
     "output_type": "stream",
     "text": [
      "('DWORZEC GŁÓWNY', 'Dworzec Główny (Dworcowa)', {'departure_time': datetime.time(8, 17), 'arrival_time': datetime.time(8, 20), 'line': '145', 'edge_id': 841052})\n"
     ]
    }
   ],
   "source": [
    "#TEST ACCESS\n",
    "edge_id_to_find = 841052\n",
    "edge = edge_hashmap.get(edge_id_to_find)\n",
    "print(edge)"
   ]
  },
  {
   "cell_type": "markdown",
   "id": "4a15933c4c422e9f",
   "metadata": {
    "collapsed": false
   },
   "source": [
    "### THIS IS FUNCTION WHICH IS USED TO DISPLAY FINAL RESULT(MODIFY IF U WANT TO CHANGE HOW THE OUTPOOT LOOKS LIKE)"
   ]
  },
  {
   "cell_type": "code",
   "execution_count": 38,
   "id": "e2cc602a1828d181",
   "metadata": {
    "ExecuteTime": {
     "end_time": "2024-03-21T19:36:36.370888Z",
     "start_time": "2024-03-21T19:36:36.362642Z"
    },
    "collapsed": false
   },
   "outputs": [],
   "source": [
    "def display_edges_by_id(edge_list, edge_hashmap, start_time):\n",
    "    for edge_id_to_find in edge_list:\n",
    "        edge = edge_hashmap.get(edge_id_to_find)\n",
    "        if edge:\n",
    "            print(f\"{edge[0]} -> {edge[1]}, {edge[2]['departure_time']} - {edge[2]['arrival_time']}, Line: {edge[2]['line']}\")\n",
    "            end_time = edge[2]['arrival_time']\n",
    "        else:\n",
    "            print(\"Edge with edge_id\", edge_id_to_find, \"not found.\")\n",
    "     \n",
    "    if end_time:\n",
    "        print(f\"Time of trip: {start_time} - {end_time}({int(calculate_time_difference(str_to_time(start_time),end_time))} minutes)\")\n",
    "    return end_time\n"
   ]
  },
  {
   "cell_type": "markdown",
   "id": "c7792a23d2cd3768",
   "metadata": {
    "collapsed": false
   },
   "source": []
  },
  {
   "cell_type": "markdown",
   "id": "77d006e02601f1a9",
   "metadata": {
    "collapsed": false
   },
   "source": [
    "## THIS IS THE ALGORITHM BASED ON TIME\n"
   ]
  },
  {
   "cell_type": "markdown",
   "id": "cab383ca1a4b10be",
   "metadata": {
    "collapsed": false
   },
   "source": [
    "## IMPORTANT FUNCTION WHICH IS USED TO FIND EDGE WITH MINIMAL TIME_DIFFERENCE"
   ]
  },
  {
   "cell_type": "code",
   "execution_count": 39,
   "id": "221dd2d9ba03501e",
   "metadata": {
    "ExecuteTime": {
     "end_time": "2024-03-21T19:36:36.380765Z",
     "start_time": "2024-03-21T19:36:36.372895Z"
    },
    "collapsed": false
   },
   "outputs": [],
   "source": [
    "def find_minimal_time_difference_edge(w, current_time):\n",
    "    minimal_difference = float('inf')  # Initialize with infinity\n",
    "    minimal_difference_key = None\n",
    "    for key, value in w.items():\n",
    "        \n",
    "        arrival_time = value['arrival_time']\n",
    "        departure_time = value['departure_time']\n",
    "        waiting_time = calculate_time_difference(current_time, departure_time) # firstly i need to calculate the difference between current_time and departure_time\n",
    "        travel_time = calculate_time_difference(departure_time,arrival_time)\n",
    "    \n",
    "        difference = waiting_time + travel_time    \n",
    "        # Update minimal_difference if the current difference is smaller\n",
    "        if difference < minimal_difference:\n",
    "            minimal_difference = difference\n",
    "            minimal_difference_key = key\n",
    "    \n",
    "    return minimal_difference_key, minimal_difference"
   ]
  },
  {
   "cell_type": "markdown",
   "id": "937933d1f97d91b9",
   "metadata": {
    "collapsed": false
   },
   "source": [
    "# THIS IS ALGORITHM WHICH IS USED TO FIND SHORTEST PATH BASED ON TIME(SHORTEST TIME)"
   ]
  },
  {
   "cell_type": "code",
   "execution_count": 40,
   "id": "8b19021338df98e6",
   "metadata": {
    "ExecuteTime": {
     "end_time": "2024-03-21T19:36:36.928904Z",
     "start_time": "2024-03-21T19:36:36.384783Z"
    },
    "collapsed": false
   },
   "outputs": [
    {
     "name": "stdout",
     "output_type": "stream",
     "text": [
      "Dworzec Główny (Dworcowa) -> Kościuszki, 08:11:00 - 08:12:00, Line: 114\n",
      "Kościuszki -> Komuny Paryskiej, 08:13:00 - 08:14:00, Line: 4\n",
      "Komuny Paryskiej -> pl. Wróblewskiego, 08:14:00 - 08:16:00, Line: 4\n",
      "pl. Wróblewskiego -> Urząd Wojewódzki (Impart), 08:16:00 - 08:19:00, Line: 4\n",
      "Urząd Wojewódzki (Impart) -> most Grunwaldzki, 08:19:00 - 08:20:00, Line: 146\n",
      "Time of trip: 08:10:00 - 08:20:00(10 minutes)\n"
     ]
    },
    {
     "data": {
      "text/plain": [
       "datetime.time(8, 20)"
      ]
     },
     "execution_count": 40,
     "metadata": {},
     "output_type": "execute_result"
    }
   ],
   "source": [
    "def astar_path(G, source, target,start_time,heuristic=None):\n",
    "    start_time = str_to_time(start_time)\n",
    "    if source not in G or target not in G:\n",
    "        msg = f\"Either source {source} or target {target} is not in G\"\n",
    "        raise nx.NodeNotFound(msg)\n",
    "    if heuristic is None:\n",
    "        # The default heuristic is h=0 - same as Dijkstra's algorithm\n",
    "        def heuristic(u, v):\n",
    "            return 0\n",
    "    push = heappush\n",
    "    pop = heappop\n",
    "\n",
    "    G_succ = G._adj  # For speed-up (and works for both directed and undirected graphs)\n",
    "\n",
    "    c = count()\n",
    "    queue = [(0, next(c), source, 0,None,start_time)] # priority,consecutive_id,current_node,distance,parent,parent_connection,current_time \n",
    "    enqueued = {}\n",
    "    explored = {}\n",
    "    while queue:\n",
    "        # Pop the smallest item from queue.\n",
    "        _, __, curnode, dist,parent_connection, current_time = pop(queue) # current_time specifies at which time we are at particular node\n",
    "\n",
    "        if curnode == target:\n",
    "            path = [parent_connection]\n",
    "            node = edge_hashmap.get(parent_connection)[0]\n",
    "            while explored[node] is not None:\n",
    "                path.append(explored[node])\n",
    "                node = edge_hashmap.get(explored[node])[0]\n",
    "            path.reverse()\n",
    "            return path\n",
    "\n",
    "        if curnode in explored:\n",
    "            # Do not override the parent of starting node\n",
    "            if explored[curnode] is None:\n",
    "                continue\n",
    "            # Skip bad paths that were enqueued before finding a better one\n",
    "            qcost, h = enqueued[curnode]\n",
    "            if qcost < dist:\n",
    "                continue\n",
    "        explored[curnode] = parent_connection\n",
    "        for neighbor, w in G_succ[curnode].items():\n",
    "        \n",
    "            minimal_edge,cost = find_minimal_time_difference_edge(w,current_time)\n",
    "            if minimal_edge is None:\n",
    "                continue\n",
    "            ncost = dist + cost\n",
    "            if neighbor in enqueued:\n",
    "                qcost, h = enqueued[neighbor]\n",
    "                # if qcost <= ncost, a less costly path from the\n",
    "                # neighbor to the source was already determined.\n",
    "                # Therefore, we won't attempt to push this neighbor\n",
    "                # to the queue\n",
    "                if qcost <= ncost:\n",
    "                    continue\n",
    "            else:\n",
    "                h = heuristic(G.nodes[neighbor], G.nodes[target])\n",
    "            enqueued[neighbor] = ncost, h\n",
    "            \n",
    "            push(queue, (ncost + h, next(c), neighbor, ncost,w[minimal_edge]['edge_id'],w[minimal_edge]['arrival_time']))\n",
    "            \n",
    "    raise nx.NetworkXNoPath(f\"Node {target} not reachable from {source}\")\n",
    "\n",
    "start_time = \"08:10:00\"\n",
    "result = astar_path(transportation_system,\"Dworzec Główny (Dworcowa)\",\"most Grunwaldzki\",start_time,manhattan_distance)\n",
    "display_edges_by_id(result,edge_hashmap,start_time)"
   ]
  },
  {
   "cell_type": "markdown",
   "id": "1052c6a486419e3f",
   "metadata": {
    "collapsed": false
   },
   "source": [
    "### TIME SHOULD BE PROVIDED IN SUCH FORMAT:   HOURS:MINUTES:SECONDS"
   ]
  },
  {
   "cell_type": "code",
   "execution_count": 41,
   "id": "700ab2e30fe71ef5",
   "metadata": {
    "ExecuteTime": {
     "end_time": "2024-03-21T19:36:37.281115Z",
     "start_time": "2024-03-21T19:36:36.941399Z"
    },
    "collapsed": false
   },
   "outputs": [
    {
     "name": "stdout",
     "output_type": "stream",
     "text": [
      "Dworzec Główny (Dworcowa) -> Kościuszki, 08:11:00 - 08:12:00, Line: 114\n",
      "Kościuszki -> Komuny Paryskiej, 08:13:00 - 08:14:00, Line: 4\n",
      "Komuny Paryskiej -> pl. Wróblewskiego, 08:14:00 - 08:16:00, Line: 4\n",
      "pl. Wróblewskiego -> Urząd Wojewódzki (Impart), 08:16:00 - 08:19:00, Line: 4\n",
      "Urząd Wojewódzki (Impart) -> most Grunwaldzki, 08:19:00 - 08:20:00, Line: 146\n",
      "Time of trip: 08:10:00 - 08:20:00(10 minutes)\n"
     ]
    },
    {
     "data": {
      "text/plain": [
       "datetime.time(8, 20)"
      ]
     },
     "execution_count": 41,
     "metadata": {},
     "output_type": "execute_result"
    }
   ],
   "source": [
    "start_time = \"08:10:00\"\n",
    "result = astar_path(transportation_system,\"Dworzec Główny (Dworcowa)\",\"most Grunwaldzki\",start_time,manhattan_distance)\n",
    "display_edges_by_id(result,edge_hashmap,start_time)"
   ]
  },
  {
   "cell_type": "code",
   "execution_count": 42,
   "id": "c1434da43533b05e",
   "metadata": {
    "ExecuteTime": {
     "end_time": "2024-03-21T19:36:37.652836Z",
     "start_time": "2024-03-21T19:36:37.284902Z"
    },
    "collapsed": false
   },
   "outputs": [
    {
     "name": "stdout",
     "output_type": "stream",
     "text": [
      "most Grunwaldzki -> PL. GRUNWALDZKI, 23:51:00 - 23:53:00, Line: 241\n",
      "PL. GRUNWALDZKI -> Kliniki - Politechnika Wrocławska, 00:00:00 - 00:02:00, Line: 253\n",
      "Kliniki - Politechnika Wrocławska -> Hala Stulecia, 00:02:00 - 00:03:00, Line: 253\n",
      "Hala Stulecia -> Tramwajowa, 00:03:00 - 00:04:00, Line: 253\n",
      "Time of trip: 23:45:00 - 00:04:00(19 minutes)\n"
     ]
    },
    {
     "data": {
      "text/plain": [
       "datetime.time(0, 4)"
      ]
     },
     "execution_count": 42,
     "metadata": {},
     "output_type": "execute_result"
    }
   ],
   "source": [
    "start_time = \"23:45:00\"\n",
    "result = astar_path(transportation_system,\"most Grunwaldzki\",\"Tramwajowa\",start_time,manhattan_distance)\n",
    "display_edges_by_id(result,edge_hashmap,start_time)"
   ]
  },
  {
   "cell_type": "code",
   "execution_count": 43,
   "id": "295cd6e8654af1c1",
   "metadata": {
    "ExecuteTime": {
     "end_time": "2024-03-21T19:36:37.905864Z",
     "start_time": "2024-03-21T19:36:37.659273Z"
    },
    "collapsed": false
   },
   "outputs": [
    {
     "name": "stdout",
     "output_type": "stream",
     "text": [
      "Dworzec Główny (Dworcowa) -> Kościuszki, 04:34:00 - 04:35:00, Line: 114\n",
      "Kościuszki -> Komuny Paryskiej, 04:37:00 - 04:38:00, Line: 4\n",
      "Komuny Paryskiej -> pl. Wróblewskiego, 04:38:00 - 04:39:00, Line: 4\n",
      "pl. Wróblewskiego -> Urząd Wojewódzki (Impart), 04:39:00 - 04:41:00, Line: 4\n",
      "Urząd Wojewódzki (Impart) -> most Grunwaldzki, 04:41:00 - 04:43:00, Line: 4\n",
      "Time of trip: 23:45:00 - 04:43:00(298 minutes)\n"
     ]
    },
    {
     "data": {
      "text/plain": [
       "datetime.time(4, 43)"
      ]
     },
     "execution_count": 43,
     "metadata": {},
     "output_type": "execute_result"
    }
   ],
   "source": [
    "start_time = \"23:45:00\"\n",
    "result = astar_path(transportation_system,\"Dworzec Główny (Dworcowa)\",\"most Grunwaldzki\",start_time,euclidean_distance)\n",
    "display_edges_by_id(result,edge_hashmap,start_time)"
   ]
  },
  {
   "cell_type": "code",
   "execution_count": 44,
   "id": "84e665c5f9c0b36b",
   "metadata": {
    "ExecuteTime": {
     "end_time": "2024-03-21T19:36:38.457439Z",
     "start_time": "2024-03-21T19:36:37.907801Z"
    },
    "collapsed": false
   },
   "outputs": [
    {
     "name": "stdout",
     "output_type": "stream",
     "text": [
      "Tramwajowa -> ZOO, 00:01:00 - 00:03:00, Line: 10\n",
      "ZOO -> Hala Stulecia, 00:03:00 - 00:04:00, Line: 10\n",
      "Hala Stulecia -> Kliniki - Politechnika Wrocławska, 00:04:00 - 00:06:00, Line: 10\n",
      "Kliniki - Politechnika Wrocławska -> PL. GRUNWALDZKI, 00:06:00 - 00:08:00, Line: 10\n",
      "PL. GRUNWALDZKI -> Kochanowskiego, 00:12:00 - 00:14:00, Line: 116 \n",
      "Kochanowskiego -> Śniadeckich, 00:14:00 - 00:15:00, Line: 116 \n",
      "Śniadeckich -> Zacisze, 00:15:00 - 00:16:00, Line: 116 \n",
      "Zacisze -> Kwidzyńska, 00:16:00 - 00:18:00, Line: 116 \n",
      "Kwidzyńska -> KROMERA, 00:18:00 - 00:20:00, Line: 116 \n",
      "KROMERA -> Kromera (Czajkowskiego), 00:20:00 - 00:21:00, Line: 251\n",
      "Kromera (Czajkowskiego) -> Grudziądzka, 00:21:00 - 00:22:00, Line: 251\n",
      "Grudziądzka -> Brücknera, 00:22:00 - 00:23:00, Line: 251\n",
      "Brücknera -> C.H. Korona, 00:23:00 - 00:24:00, Line: 251\n",
      "C.H. Korona -> Zielna, 00:24:00 - 00:26:00, Line: 251\n",
      "Zielna -> Psie Pole, 00:26:00 - 00:27:00, Line: 251\n",
      "Time of trip: 00:01:00 - 00:27:00(26 minutes)\n"
     ]
    },
    {
     "data": {
      "text/plain": [
       "datetime.time(0, 27)"
      ]
     },
     "execution_count": 44,
     "metadata": {},
     "output_type": "execute_result"
    }
   ],
   "source": [
    "start_time = \"00:01:00\"\n",
    "result = astar_path(transportation_system,\"Tramwajowa\",\"Psie Pole\",start_time,euclidean_distance)\n",
    "display_edges_by_id(result,edge_hashmap,start_time)"
   ]
  },
  {
   "cell_type": "code",
   "execution_count": 45,
   "id": "a70ec70a5fe84f8c",
   "metadata": {
    "ExecuteTime": {
     "end_time": "2024-03-21T19:36:39.022836Z",
     "start_time": "2024-03-21T19:36:38.459016Z"
    },
    "collapsed": false
   },
   "outputs": [
    {
     "name": "stdout",
     "output_type": "stream",
     "text": [
      "Tramwajowa -> ZOO, 23:54:00 - 23:56:00, Line: 4\n",
      "ZOO -> Hala Stulecia, 23:56:00 - 23:57:00, Line: 4\n",
      "Hala Stulecia -> Kliniki - Politechnika Wrocławska, 23:57:00 - 23:59:00, Line: 4\n",
      "Kliniki - Politechnika Wrocławska -> PL. GRUNWALDZKI, 23:59:00 - 00:01:00, Line: 4\n",
      "PL. GRUNWALDZKI -> Piastowska, 00:01:00 - 00:03:00, Line: 4\n",
      "Piastowska -> Prusa, 00:03:00 - 00:05:00, Line: 4\n",
      "Prusa -> Wyszyńskiego, 00:05:00 - 00:06:00, Line: 4\n",
      "Wyszyńskiego -> Damrota, 00:07:00 - 00:08:00, Line: 115\n",
      "Damrota -> KROMERA, 00:08:00 - 00:10:00, Line: 115\n",
      "KROMERA -> Kromera (Czajkowskiego), 00:20:00 - 00:21:00, Line: 251\n",
      "Kromera (Czajkowskiego) -> Grudziądzka, 00:21:00 - 00:22:00, Line: 251\n",
      "Grudziądzka -> Brücknera, 00:22:00 - 00:23:00, Line: 251\n",
      "Brücknera -> C.H. Korona, 00:23:00 - 00:24:00, Line: 251\n",
      "C.H. Korona -> Zielna, 00:24:00 - 00:26:00, Line: 251\n",
      "Zielna -> Psie Pole, 00:26:00 - 00:27:00, Line: 251\n",
      "Time of trip: 23:50:00 - 00:27:00(37 minutes)\n"
     ]
    },
    {
     "data": {
      "text/plain": [
       "datetime.time(0, 27)"
      ]
     },
     "execution_count": 45,
     "metadata": {},
     "output_type": "execute_result"
    }
   ],
   "source": [
    "start_time = \"23:50:00\"\n",
    "result = astar_path(transportation_system,\"Tramwajowa\",\"Psie Pole\",start_time)\n",
    "display_edges_by_id(result,edge_hashmap,start_time)"
   ]
  },
  {
   "cell_type": "code",
   "execution_count": 46,
   "id": "d661a3a79f5e192a",
   "metadata": {
    "ExecuteTime": {
     "end_time": "2024-03-21T19:36:39.716476Z",
     "start_time": "2024-03-21T19:36:39.024909Z"
    },
    "collapsed": false
   },
   "outputs": [
    {
     "name": "stdout",
     "output_type": "stream",
     "text": [
      "Tramwajowa -> Hala Stulecia, 13:01:00 - 13:03:00, Line: 146\n",
      "Hala Stulecia -> Kliniki - Politechnika Wrocławska, 13:03:00 - 13:05:00, Line: 146\n",
      "Kliniki - Politechnika Wrocławska -> PL. GRUNWALDZKI, 13:05:00 - 13:07:00, Line: 146\n",
      "PL. GRUNWALDZKI -> Kochanowskiego, 13:07:00 - 13:10:00, Line: D\n",
      "Kochanowskiego -> Śniadeckich, 13:10:00 - 13:11:00, Line: D\n",
      "Śniadeckich -> Zacisze, 13:11:00 - 13:12:00, Line: D\n",
      "Zacisze -> Kwidzyńska, 13:12:00 - 13:14:00, Line: D\n",
      "Kwidzyńska -> Brücknera, 13:14:00 - 13:16:00, Line: D\n",
      "Brücknera -> Psie Pole, 13:16:00 - 13:20:00, Line: D\n",
      "Time of trip: 13:01:00 - 13:20:00(19 minutes)\n"
     ]
    },
    {
     "data": {
      "text/plain": [
       "datetime.time(13, 20)"
      ]
     },
     "execution_count": 46,
     "metadata": {},
     "output_type": "execute_result"
    }
   ],
   "source": [
    "start_time = \"13:01:00\"\n",
    "result = astar_path(transportation_system,\"Tramwajowa\",\"Psie Pole\",start_time)\n",
    "display_edges_by_id(result,edge_hashmap,start_time)"
   ]
  },
  {
   "cell_type": "markdown",
   "id": "e240e25eecbc469d",
   "metadata": {
    "collapsed": false
   },
   "source": [
    "# NOW BASED ON DISTANCE"
   ]
  },
  {
   "cell_type": "markdown",
   "id": "ffc7ccbca76591a9",
   "metadata": {
    "collapsed": false
   },
   "source": [
    "### EDGE : {'arrival_time': datetime.time(22, 52), 'departure_time': datetime.time(22, 50), 'edge_id': 63, 'line': 'A'}"
   ]
  },
  {
   "cell_type": "markdown",
   "id": "12cb73373dbb23c3",
   "metadata": {
    "collapsed": false
   },
   "source": [
    "### In case with distance situation is different compared to case with time, because in case with time for each connection(from point a to b for example) we need to take only single min connection, but in the case with lines, we can not do that(cause in case of connections even the worst looking line can become the best one, so I need to keep all possible options inside the queue"
   ]
  },
  {
   "cell_type": "markdown",
   "id": "6ea588b2215ac2d3",
   "metadata": {
    "collapsed": false
   },
   "source": [
    "## so idea is to separate w dictionary into smaller sub dictionaries. So I will separate it by line. In that way I will be able to reuse : find_minimal_time_difference_edge for each line. For now it might be slower, but it will give me more code readability and Reusability"
   ]
  },
  {
   "cell_type": "code",
   "execution_count": 47,
   "id": "25c66bc04b905ea7",
   "metadata": {
    "ExecuteTime": {
     "end_time": "2024-03-21T19:36:39.725197Z",
     "start_time": "2024-03-21T19:36:39.719206Z"
    },
    "collapsed": false
   },
   "outputs": [],
   "source": [
    "def separate_by_line(data):\n",
    "    result = {}\n",
    "    for key, value in data.items():\n",
    "        line = value['line']\n",
    "        if line not in result:\n",
    "            result[line] = {}\n",
    "        result[line][key] = value\n",
    "    return result"
   ]
  },
  {
   "cell_type": "code",
   "execution_count": 48,
   "id": "6c3cd8abd5b0eb2",
   "metadata": {
    "ExecuteTime": {
     "end_time": "2024-03-21T19:36:39.747902Z",
     "start_time": "2024-03-21T19:36:39.727762Z"
    },
    "collapsed": false
   },
   "outputs": [],
   "source": [
    "def calculate_transfer_cost(w, current_time, current_line):\n",
    "    result_dict = {}\n",
    "    separated_by_line = separate_by_line(w)\n",
    "    for line_name, line_dict in separated_by_line.items():\n",
    "        min_edge,time_difference = find_minimal_time_difference_edge(line_dict,current_time)\n",
    "        # if line is different add additional cost ( 1440 because it is one day in fact)\n",
    "        cost = time_difference if current_line == line_name else time_difference + 1440\n",
    "        result_dict[line_name] = {'min_edge' : w[min_edge]['edge_id'] , \"cost\" : cost}\n",
    "    return result_dict\n"
   ]
  },
  {
   "cell_type": "markdown",
   "id": "beea66e734304257",
   "metadata": {
    "collapsed": false
   },
   "source": [
    "### EACH NODE WILL BE UNIQUELY IDENTIFIED NOT ONLY BY STOP NAME BUT ALSO LINE (stop_name,line_name)"
   ]
  },
  {
   "cell_type": "code",
   "execution_count": 49,
   "id": "96597029bd0a158b",
   "metadata": {
    "ExecuteTime": {
     "end_time": "2024-03-21T19:36:39.766626Z",
     "start_time": "2024-03-21T19:36:39.750149Z"
    },
    "collapsed": false
   },
   "outputs": [],
   "source": [
    "def astar_path_transfer(G, source, target, start_time, heuristic=None,start_line = None):\n",
    "    # start time is provided as a string so i need to transform it into datetime.time object\n",
    "    start_time = str_to_time(start_time)\n",
    "    if source not in G or target not in G:\n",
    "        msg = f\"Either source {source} or target {target} is not in G\"\n",
    "        raise nx.NodeNotFound(msg)\n",
    "\n",
    "    if heuristic is None:\n",
    "        # The default heuristic is h=0 - same as Dijkstra's algorithm\n",
    "        def heuristic(u, v):\n",
    "            return 0\n",
    "    push = heappush\n",
    "    pop = heappop\n",
    "    G_succ = G._adj  # For speed-up (and works for both directed and undirected graphs)\n",
    "    c = count()\n",
    "    queue = [(0, next(c), source, 0, None, start_time,None)] # priority,consecutive_id,current_node,distance,parent_connection,current_time,prev_line\n",
    "    \n",
    "    enqueued = {}\n",
    "    explored = {}\n",
    "\n",
    "    while queue:\n",
    "        # Pop the smallest item from queue.\n",
    "        _, __, curnode, dist, parent_connection, current_time,prev_line = pop(queue) # current_time specifies at which time we are at particular node\n",
    "        # prev line is needed to specify if there was a transfer\n",
    "\n",
    "        # adjust start_line for the start node so I can reuse it in tabu search \n",
    "        current_line = edge_hashmap.get(parent_connection)[2]['line'] if parent_connection is not None else start_line\n",
    "        \n",
    "        \n",
    "        if curnode == target:\n",
    "            path = [parent_connection]\n",
    "            stop_name = edge_hashmap.get(parent_connection)[0]\n",
    "            line = prev_line\n",
    "             \n",
    "            while stop_name != source:\n",
    "                prev_connection = explored[(stop_name,line)][0]\n",
    "                path.append(prev_connection)\n",
    "                line = explored[stop_name,line][1]\n",
    "                stop_name = edge_hashmap.get(prev_connection)[0]\n",
    "                \n",
    "                \n",
    "            path.reverse()\n",
    "            return path\n",
    "        \n",
    "        if (curnode,current_line) in explored.keys():\n",
    "            # Do not override the parent of starting node\n",
    "            # Skip bad paths that were enqueued before finding a better one\n",
    "            qcost, h = enqueued[(curnode,current_line)]\n",
    "            if qcost < dist:\n",
    "                continue\n",
    "        # since we will go through all neighbours of this node we mark it as explored\n",
    "        \n",
    "        explored[(curnode,current_line)] = parent_connection,prev_line\n",
    "        \n",
    "        for neighbor, w in G_succ[curnode].items():\n",
    "            # used to find connection with the smallest cost for each line from current node from curnode to neighbour ( it is dictionary, since there are multiple lines using which I can get from curnode to neighbour\n",
    "            transfer_cost = calculate_transfer_cost(w,current_time,current_line)\n",
    "            if not transfer_cost:\n",
    "                continue\n",
    "            # now for each min_edge_line I need to create new entry in queue\n",
    "            # result_dict[line_name] = {'min_edge' : min_edge , \"cost\" : cost}\n",
    "            for line_name,min_connection_info in transfer_cost.items():\n",
    "                cost = min_connection_info[\"cost\"]\n",
    "                min_edge = min_connection_info[\"min_edge\"]\n",
    "                arrival_time_of_min_edge = edge_hashmap.get(min_edge)[2]['arrival_time']\n",
    "                ncost = dist + cost\n",
    "                if (neighbor,line_name) in enqueued:\n",
    "                    qcost, h = enqueued[(neighbor,line_name)]\n",
    "                    if qcost <= ncost:\n",
    "                        continue\n",
    "                else:\n",
    "                    h = heuristic(G.nodes[neighbor],  G.nodes[target])\n",
    "                enqueued[(neighbor,line_name)] = ncost, h \n",
    "                push(queue, (ncost + h, next(c), neighbor, ncost, min_edge,arrival_time_of_min_edge,current_line))\n",
    "                # priority,consecutive_id,current_node,distance,parent_connection,current_time,prev_line ( so i can identify if there was transfer)\n",
    "    raise nx.NetworkXNoPath(f\"Node {target} not reachable from {source}\")"
   ]
  },
  {
   "cell_type": "code",
   "execution_count": 50,
   "id": "85c1d31f1d02aa52",
   "metadata": {
    "ExecuteTime": {
     "end_time": "2024-03-21T19:36:46.608585Z",
     "start_time": "2024-03-21T19:36:39.768468Z"
    },
    "collapsed": false
   },
   "outputs": [
    {
     "name": "stdout",
     "output_type": "stream",
     "text": [
      "Tramwajowa -> Hala Stulecia, 08:26:00 - 08:29:00, Line: 345\n",
      "Hala Stulecia -> Mickiewicza, 08:29:00 - 08:30:00, Line: 345\n",
      "Mickiewicza -> Witelona, 08:30:00 - 08:31:00, Line: 345\n",
      "Witelona -> Kochanowskiego, 08:31:00 - 08:32:00, Line: 345\n",
      "Kochanowskiego -> Śniadeckich, 08:32:00 - 08:35:00, Line: 345\n",
      "Śniadeckich -> Zacisze, 08:36:00 - 08:37:00, Line: 111\n",
      "Zacisze -> Kwidzyńska, 08:37:00 - 08:39:00, Line: 111\n",
      "Kwidzyńska -> Brücknera, 08:39:00 - 08:41:00, Line: 111\n",
      "Brücknera -> C.H. Korona, 08:41:00 - 08:43:00, Line: 111\n",
      "C.H. Korona -> Zielna, 08:43:00 - 08:45:00, Line: 111\n",
      "Zielna -> Psie Pole, 08:45:00 - 08:46:00, Line: 111\n",
      "Time of trip: 08:19:00 - 08:46:00(27 minutes)\n"
     ]
    },
    {
     "data": {
      "text/plain": [
       "datetime.time(8, 46)"
      ]
     },
     "execution_count": 50,
     "metadata": {},
     "output_type": "execute_result"
    }
   ],
   "source": [
    "start_time = \"08:19:00\"\n",
    "result = astar_path_transfer(transportation_system,\"Tramwajowa\",\"Psie Pole\",start_time,manhattan_distance)\n",
    "display_edges_by_id(result,edge_hashmap,start_time)"
   ]
  },
  {
   "cell_type": "code",
   "execution_count": 51,
   "id": "798261f728b239c4",
   "metadata": {
    "ExecuteTime": {
     "end_time": "2024-03-21T19:36:51.098255Z",
     "start_time": "2024-03-21T19:36:46.610214Z"
    },
    "collapsed": false
   },
   "outputs": [
    {
     "name": "stdout",
     "output_type": "stream",
     "text": [
      "Psie Pole -> Zielna, 08:22:00 - 08:23:00, Line: 911\n",
      "Zielna -> C.H. Korona, 08:23:00 - 08:25:00, Line: 911\n",
      "C.H. Korona -> Brücknera, 08:26:00 - 08:28:00, Line: 911\n",
      "Brücknera -> Kwidzyńska, 08:28:00 - 08:30:00, Line: 911\n",
      "Kwidzyńska -> Zacisze, 08:30:00 - 08:31:00, Line: 911\n",
      "Zacisze -> Śniadeckich, 08:31:00 - 08:32:00, Line: 911\n",
      "Śniadeckich -> Kochanowskiego, 08:32:00 - 08:35:00, Line: 911\n",
      "Kochanowskiego -> PL. GRUNWALDZKI, 08:35:00 - 08:37:00, Line: 911\n",
      "PL. GRUNWALDZKI -> Kliniki - Politechnika Wrocławska, 08:37:00 - 08:39:00, Line: 146\n",
      "Kliniki - Politechnika Wrocławska -> Hala Stulecia, 08:39:00 - 08:41:00, Line: 146\n",
      "Hala Stulecia -> Tramwajowa, 08:41:00 - 08:43:00, Line: 146\n",
      "Time of trip: 08:19:00 - 08:43:00(24 minutes)\n"
     ]
    },
    {
     "data": {
      "text/plain": [
       "datetime.time(8, 43)"
      ]
     },
     "execution_count": 51,
     "metadata": {},
     "output_type": "execute_result"
    }
   ],
   "source": [
    "start_time = \"08:19:00\"\n",
    "result = astar_path_transfer(transportation_system,\"Psie Pole\",\"Tramwajowa\",start_time,manhattan_distance)\n",
    "display_edges_by_id(result,edge_hashmap,start_time)"
   ]
  },
  {
   "cell_type": "code",
   "execution_count": 52,
   "id": "49ab2367947be6d8",
   "metadata": {
    "ExecuteTime": {
     "end_time": "2024-03-21T19:36:52.522677Z",
     "start_time": "2024-03-21T19:36:51.100472Z"
    },
    "collapsed": false
   },
   "outputs": [
    {
     "name": "stdout",
     "output_type": "stream",
     "text": [
      "DWORZEC GŁÓWNY -> Pułaskiego, 08:21:00 - 08:23:00, Line: 4\n",
      "Pułaskiego -> Kościuszki, 08:23:00 - 08:25:00, Line: 4\n",
      "Kościuszki -> Komuny Paryskiej, 08:25:00 - 08:26:00, Line: 4\n",
      "Komuny Paryskiej -> pl. Wróblewskiego, 08:26:00 - 08:28:00, Line: 4\n",
      "pl. Wróblewskiego -> Urząd Wojewódzki (Impart), 08:28:00 - 08:31:00, Line: 4\n",
      "Urząd Wojewódzki (Impart) -> most Grunwaldzki, 08:31:00 - 08:33:00, Line: 4\n",
      "Time of trip: 08:19:00 - 08:33:00(14 minutes)\n"
     ]
    },
    {
     "data": {
      "text/plain": [
       "datetime.time(8, 33)"
      ]
     },
     "execution_count": 52,
     "metadata": {},
     "output_type": "execute_result"
    }
   ],
   "source": [
    "start_time = \"08:19:00\"\n",
    "result = astar_path_transfer(transportation_system,\"DWORZEC GŁÓWNY\",\"most Grunwaldzki\",start_time,manhattan_distance)\n",
    "display_edges_by_id(result,edge_hashmap,start_time)"
   ]
  },
  {
   "cell_type": "code",
   "execution_count": 53,
   "id": "b6a2866935d2cb6a",
   "metadata": {
    "ExecuteTime": {
     "end_time": "2024-03-21T19:36:55.119850Z",
     "start_time": "2024-03-21T19:36:52.526875Z"
    },
    "collapsed": false
   },
   "outputs": [
    {
     "name": "stdout",
     "output_type": "stream",
     "text": [
      "DWORZEC GŁÓWNY -> GALERIA DOMINIKAŃSKA, 08:19:00 - 08:22:00, Line: N\n",
      "GALERIA DOMINIKAŃSKA -> Urząd Wojewódzki (Muzeum Narodowe), 08:22:00 - 08:25:00, Line: N\n",
      "Urząd Wojewódzki (Muzeum Narodowe) -> Katedra, 08:25:00 - 08:26:00, Line: N\n",
      "Katedra -> Ogród Botaniczny, 08:26:00 - 08:28:00, Line: N\n",
      "Ogród Botaniczny -> Wyszyńskiego, 08:28:00 - 08:30:00, Line: N\n",
      "Wyszyńskiego -> Damrota, 08:30:00 - 08:31:00, Line: N\n",
      "Damrota -> KROMERA, 08:31:00 - 08:34:00, Line: N\n",
      "KROMERA -> Kromera (Czajkowskiego), 08:34:00 - 08:35:00, Line: N\n",
      "Kromera (Czajkowskiego) -> Grudziądzka, 08:35:00 - 08:36:00, Line: N\n",
      "Grudziądzka -> Brücknera, 08:36:00 - 08:37:00, Line: N\n",
      "Brücknera -> Psie Pole, 08:37:00 - 08:41:00, Line: N\n",
      "Time of trip: 08:19:00 - 08:41:00(22 minutes)\n"
     ]
    },
    {
     "data": {
      "text/plain": [
       "datetime.time(8, 41)"
      ]
     },
     "execution_count": 53,
     "metadata": {},
     "output_type": "execute_result"
    }
   ],
   "source": [
    "start_time = \"08:19:00\"\n",
    "result = astar_path_transfer(transportation_system,\"DWORZEC GŁÓWNY\",\"Psie Pole\",start_time,euclidean_distance)\n",
    "display_edges_by_id(result,edge_hashmap,start_time)"
   ]
  },
  {
   "cell_type": "code",
   "execution_count": 54,
   "id": "2e3bf49a5d71d9cd",
   "metadata": {
    "ExecuteTime": {
     "end_time": "2024-03-21T19:36:57.914266Z",
     "start_time": "2024-03-21T19:36:55.124785Z"
    },
    "collapsed": false
   },
   "outputs": [
    {
     "name": "stdout",
     "output_type": "stream",
     "text": [
      "DWORZEC GŁÓWNY -> Wzgórze Partyzantów, 00:04:00 - 00:06:00, Line: 251\n",
      "Wzgórze Partyzantów -> GALERIA DOMINIKAŃSKA, 00:06:00 - 00:08:00, Line: 251\n",
      "GALERIA DOMINIKAŃSKA -> Hala Targowa, 00:08:00 - 00:09:00, Line: 251\n",
      "Hala Targowa -> Dubois, 00:09:00 - 00:11:00, Line: 251\n",
      "Dubois -> pl. Bema, 00:11:00 - 00:13:00, Line: 251\n",
      "pl. Bema -> Na Szańcach, 00:13:00 - 00:13:00, Line: 251\n",
      "Na Szańcach -> Jedności Narodowej, 00:13:00 - 00:14:00, Line: 251\n",
      "Jedności Narodowej -> Nowowiejska, 00:14:00 - 00:16:00, Line: 251\n",
      "Nowowiejska -> Daszyńskiego, 00:16:00 - 00:17:00, Line: 251\n",
      "Daszyńskiego -> Mosty Warszawskie, 00:17:00 - 00:18:00, Line: 251\n",
      "Mosty Warszawskie -> KROMERA, 00:18:00 - 00:20:00, Line: 251\n",
      "KROMERA -> Kromera (Czajkowskiego), 00:20:00 - 00:21:00, Line: 251\n",
      "Kromera (Czajkowskiego) -> Grudziądzka, 00:21:00 - 00:22:00, Line: 251\n",
      "Grudziądzka -> Brücknera, 00:22:00 - 00:23:00, Line: 251\n",
      "Brücknera -> C.H. Korona, 00:23:00 - 00:24:00, Line: 251\n",
      "C.H. Korona -> Zielna, 00:24:00 - 00:26:00, Line: 251\n",
      "Zielna -> Psie Pole, 00:26:00 - 00:27:00, Line: 251\n",
      "Time of trip: 23:45:00 - 00:27:00(42 minutes)\n"
     ]
    },
    {
     "data": {
      "text/plain": [
       "datetime.time(0, 27)"
      ]
     },
     "execution_count": 54,
     "metadata": {},
     "output_type": "execute_result"
    }
   ],
   "source": [
    "start_time = \"23:45:00\"\n",
    "result = astar_path_transfer(transportation_system,\"DWORZEC GŁÓWNY\",\"Psie Pole\",start_time,euclidean_distance)\n",
    "display_edges_by_id(result,edge_hashmap,start_time)"
   ]
  },
  {
   "cell_type": "code",
   "execution_count": 55,
   "id": "65e01cd43b8c7ae5",
   "metadata": {
    "ExecuteTime": {
     "end_time": "2024-03-21T19:36:59.041370Z",
     "start_time": "2024-03-21T19:36:57.914266Z"
    },
    "collapsed": false
   },
   "outputs": [
    {
     "name": "stdout",
     "output_type": "stream",
     "text": [
      "DWORZEC GŁÓWNY -> Pułaskiego, 08:21:00 - 08:23:00, Line: 4\n",
      "Pułaskiego -> Kościuszki, 08:23:00 - 08:25:00, Line: 4\n",
      "Kościuszki -> Komuny Paryskiej, 08:25:00 - 08:26:00, Line: 4\n",
      "Komuny Paryskiej -> pl. Wróblewskiego, 08:26:00 - 08:28:00, Line: 4\n",
      "pl. Wróblewskiego -> Urząd Wojewódzki (Impart), 08:28:00 - 08:31:00, Line: 4\n",
      "Urząd Wojewódzki (Impart) -> most Grunwaldzki, 08:31:00 - 08:33:00, Line: 4\n",
      "Time of trip: 08:19:00 - 08:33:00(14 minutes)\n"
     ]
    },
    {
     "data": {
      "text/plain": [
       "datetime.time(8, 33)"
      ]
     },
     "execution_count": 55,
     "metadata": {},
     "output_type": "execute_result"
    }
   ],
   "source": [
    "start_time = \"08:19:00\"\n",
    "result = astar_path_transfer(transportation_system,\"DWORZEC GŁÓWNY\",\"most Grunwaldzki\",start_time,manhattan_distance)\n",
    "display_edges_by_id(result,edge_hashmap,start_time)"
   ]
  },
  {
   "cell_type": "code",
   "execution_count": 56,
   "id": "791545f483a88cbd",
   "metadata": {
    "ExecuteTime": {
     "end_time": "2024-03-21T19:36:59.423774Z",
     "start_time": "2024-03-21T19:36:59.041370Z"
    },
    "collapsed": false
   },
   "outputs": [
    {
     "name": "stdout",
     "output_type": "stream",
     "text": [
      "Tramwajowa -> ZOO, 08:21:00 - 08:23:00, Line: 4\n",
      "ZOO -> Hala Stulecia, 08:23:00 - 08:24:00, Line: 4\n",
      "Hala Stulecia -> Kliniki - Politechnika Wrocławska, 08:24:00 - 08:26:00, Line: 4\n",
      "Kliniki - Politechnika Wrocławska -> PL. GRUNWALDZKI, 08:26:00 - 08:28:00, Line: 4\n",
      "PL. GRUNWALDZKI -> most Grunwaldzki, 08:28:00 - 08:29:00, Line: 4\n",
      "Time of trip: 08:19:00 - 08:29:00(10 minutes)\n"
     ]
    },
    {
     "data": {
      "text/plain": [
       "datetime.time(8, 29)"
      ]
     },
     "execution_count": 56,
     "metadata": {},
     "output_type": "execute_result"
    }
   ],
   "source": [
    "start_time = \"08:19:00\"\n",
    "result = astar_path_transfer(transportation_system,\"Tramwajowa\",\"most Grunwaldzki\",start_time,manhattan_distance)\n",
    "display_edges_by_id(result,edge_hashmap,start_time)"
   ]
  },
  {
   "cell_type": "code",
   "execution_count": 57,
   "id": "4770a20f0bf8c250",
   "metadata": {
    "ExecuteTime": {
     "end_time": "2024-03-21T19:37:04.652917Z",
     "start_time": "2024-03-21T19:36:59.425283Z"
    },
    "collapsed": false
   },
   "outputs": [
    {
     "name": "stdout",
     "output_type": "stream",
     "text": [
      "GALERIA DOMINIKAŃSKA -> Urząd Wojewódzki (Impart), 08:33:00 - 08:36:00, Line: D\n",
      "Urząd Wojewódzki (Impart) -> most Grunwaldzki, 08:36:00 - 08:37:00, Line: D\n",
      "most Grunwaldzki -> PL. GRUNWALDZKI, 08:37:00 - 08:39:00, Line: D\n",
      "PL. GRUNWALDZKI -> Kochanowskiego, 08:39:00 - 08:42:00, Line: D\n",
      "Kochanowskiego -> Śniadeckich, 08:42:00 - 08:44:00, Line: D\n",
      "Śniadeckich -> Zacisze, 08:44:00 - 08:45:00, Line: D\n",
      "Time of trip: 08:19:00 - 08:45:00(26 minutes)\n"
     ]
    },
    {
     "data": {
      "text/plain": [
       "datetime.time(8, 45)"
      ]
     },
     "execution_count": 57,
     "metadata": {},
     "output_type": "execute_result"
    }
   ],
   "source": [
    "start_time = \"08:19:00\"\n",
    "result = astar_path_transfer(transportation_system,\"GALERIA DOMINIKAŃSKA\",\"Zacisze\",start_time,manhattan_distance)\n",
    "display_edges_by_id(result,edge_hashmap,start_time)"
   ]
  },
  {
   "cell_type": "markdown",
   "id": "b60aa14312060d3a",
   "metadata": {
    "collapsed": false
   },
   "source": [
    "# CREATE COMBINED METHOD SO IT WILL BE EASIER TO ENTER DATA\n",
    "Application should accept input in form of 4 variables:\n",
    "(a) the starting stop A\n",
    "(b) the ending stop B\n",
    "(c) optimization criterion: value t denotes travel time minimization, value\n",
    "p means minimization of the number of transfers\n",
    "(d) start time\n",
    "The solution should print out to the standard output in successive lines\n",
    "detailed path information including starting stop, ending stop, used line’s\n",
    "name, starting time, ending time, and on the standard error output the\n",
    "value of minimized criterion and time required for calculation of the shortest path."
   ]
  },
  {
   "cell_type": "code",
   "execution_count": 58,
   "id": "2f6eeefb541759e9",
   "metadata": {
    "ExecuteTime": {
     "end_time": "2024-03-21T19:37:04.662468Z",
     "start_time": "2024-03-21T19:37:04.655459Z"
    },
    "collapsed": false
   },
   "outputs": [],
   "source": [
    "def a_star(start_stop,end_stop,optimization_criterion,start_time,heuristic = None,current_line = None):\n",
    "    result = []\n",
    "    if optimization_criterion == \"t\":\n",
    "        result = astar_path(G = transportation_system,source = start_stop, target = end_stop,start_time = start_time,heuristic = heuristic)\n",
    "    elif optimization_criterion == \"p\":\n",
    "        result = astar_path_transfer(G = transportation_system,source = start_stop, target = end_stop,start_time = start_time,heuristic = heuristic,start_line=current_line) \n",
    "    else:\n",
    "        print(\"Invalid optimization argument\")\n",
    "    #display_edges_by_id(result,edge_hashmap,start_time)\n",
    "    return (result)\n",
    "    "
   ]
  },
  {
   "cell_type": "code",
   "execution_count": 59,
   "id": "6e24567d839b2541",
   "metadata": {
    "ExecuteTime": {
     "end_time": "2024-03-21T19:37:04.726423Z",
     "start_time": "2024-03-21T19:37:04.663477Z"
    },
    "collapsed": false
   },
   "outputs": [
    {
     "data": {
      "text/plain": [
       "[55713, 55714, 55715, 55716, 107245]"
      ]
     },
     "execution_count": 59,
     "metadata": {},
     "output_type": "execute_result"
    }
   ],
   "source": [
    "a_star(\"Tramwajowa\",\"most Grunwaldzki\",\"t\",\"08:19:00\",manhattan_distance)"
   ]
  },
  {
   "cell_type": "code",
   "execution_count": 60,
   "id": "6eb6972e5911cb17",
   "metadata": {
    "ExecuteTime": {
     "end_time": "2024-03-21T19:37:05.808648Z",
     "start_time": "2024-03-21T19:37:04.727929Z"
    },
    "collapsed": false
   },
   "outputs": [
    {
     "data": {
      "text/plain": [
       "[912883,\n",
       " 912884,\n",
       " 912885,\n",
       " 912886,\n",
       " 912887,\n",
       " 912888,\n",
       " 912889,\n",
       " 895309,\n",
       " 895310,\n",
       " 895311,\n",
       " 895312,\n",
       " 895313]"
      ]
     },
     "execution_count": 60,
     "metadata": {},
     "output_type": "execute_result"
    }
   ],
   "source": [
    "a_star(\"Borowska (Szpital)\",\"PL. GRUNWALDZKI\",\"p\",\"00:11:00\",manhattan_distance)"
   ]
  },
  {
   "cell_type": "code",
   "execution_count": 61,
   "id": "232e4afa59a0e4a6",
   "metadata": {
    "ExecuteTime": {
     "end_time": "2024-03-21T19:37:05.906827Z",
     "start_time": "2024-03-21T19:37:05.810833Z"
    },
    "collapsed": false
   },
   "outputs": [
    {
     "data": {
      "text/plain": [
       "[55713, 55714, 55715, 55716, 107245]"
      ]
     },
     "execution_count": 61,
     "metadata": {},
     "output_type": "execute_result"
    }
   ],
   "source": [
    "a_star(\"Tramwajowa\",\"most Grunwaldzki\",\"t\",\"08:19:00\")"
   ]
  },
  {
   "cell_type": "code",
   "execution_count": 62,
   "id": "f41411421ea3c15b",
   "metadata": {
    "ExecuteTime": {
     "end_time": "2024-03-21T19:37:05.918151Z",
     "start_time": "2024-03-21T19:37:05.908947Z"
    },
    "collapsed": false
   },
   "outputs": [
    {
     "name": "stdout",
     "output_type": "stream",
     "text": [
      "Invalid optimization argument\n"
     ]
    },
    {
     "data": {
      "text/plain": [
       "[]"
      ]
     },
     "execution_count": 62,
     "metadata": {},
     "output_type": "execute_result"
    }
   ],
   "source": [
    "a_star(\"Tramwajowa\",\"most Grunwaldzki\",\"f\",\"08:19:00\",manhattan_distance)"
   ]
  },
  {
   "cell_type": "markdown",
   "id": "225f1299211dc862",
   "metadata": {
    "collapsed": false
   },
   "source": [
    "# PART WITH A_STAR AND DIJKSTRA IS FINALLY DONE"
   ]
  },
  {
   "cell_type": "markdown",
   "id": "8d9d50a408ec5182",
   "metadata": {
    "collapsed": false
   },
   "source": [
    "# GRID SEARCH TASK\n",
    "Using the provided file connection_graph.csv implement the shortest\n",
    "path from a given stop A that visits all the stops given in a list L=\n",
    "A2, . . . , An, and returns back to A. As a cost function use (depending\n",
    "on the user’s decision) travel time from A to B or the number of transfers\n",
    "needed.\n",
    "The application should accept input consisting of 4 variables:\n",
    "(a) starting stop A\n",
    "(b) list of stops to visit separated by a semicolon L\n",
    "(c) optimization criterion: value t denotes travel time minimization, value\n",
    "p means minimization of the number of transfers\n",
    "(d) starting time\n",
    "The solution should print out to the standard output, in consecutive lines,\n",
    "the detailed path information including starting stop, ending stop, used\n",
    "line’s name, starting time, ending time, and on the standard error output\n",
    "the value of the minimized criterion and time required for calculation of\n",
    "the shortest path.\n",
    "Scoring:\n",
    "(a) an algorithm searching for the shortest path between the nodes based\n",
    "on Tabu Search without bounding the size of T (10 points)\n",
    "(b) modification of the algorithm (a) with a variable T size, based on the\n",
    "length of L, in order to minimize the cost function (5 points)\n",
    "(c) modification of the algorithm (a) by adding Aspiration criterion, in\n",
    "order to minimize the cost function (5 points)\n",
    "(d) modification of the algorithm (a) by adding a neighbor sampling strategy to minimize the cost function and reduce the computation time.\n",
    "(10 points)\n"
   ]
  },
  {
   "cell_type": "code",
   "execution_count": 63,
   "id": "3171c98dff1eac54",
   "metadata": {
    "ExecuteTime": {
     "end_time": "2024-03-21T19:37:05.928492Z",
     "start_time": "2024-03-21T19:37:05.921342Z"
    },
    "collapsed": false
   },
   "outputs": [],
   "source": [
    "def extract_station_names(input_string):\n",
    "    # Split the input string based on semicolon delimiter\n",
    "    station_list = input_string.split(';')\n",
    "    # Return the list of station names\n",
    "    return [station.strip() for station in station_list]"
   ]
  },
  {
   "cell_type": "code",
   "execution_count": 64,
   "id": "15e07ebc0fc4ef4c",
   "metadata": {
    "ExecuteTime": {
     "end_time": "2024-03-21T19:37:05.940439Z",
     "start_time": "2024-03-21T19:37:05.933849Z"
    },
    "collapsed": false
   },
   "outputs": [],
   "source": [
    "def display_answer_tabu_search(connections,start_time):\n",
    "    current_time = start_time\n",
    "    for connection in connections:\n",
    "        current_time = display_edges_by_id(connection,edge_hashmap,current_time).strftime(\"%H:%M:%S\")\n",
    "        print(current_time)\n",
    "        "
   ]
  },
  {
   "cell_type": "code",
   "execution_count": 66,
   "id": "fe655c8261869f28",
   "metadata": {
    "ExecuteTime": {
     "end_time": "2024-03-21T19:39:21.030343Z",
     "start_time": "2024-03-21T19:39:02.569333Z"
    },
    "collapsed": false
   },
   "outputs": [
    {
     "name": "stdout",
     "output_type": "stream",
     "text": [
      "Best Solution: ['PL. GRUNWALDZKI', 'Wzgórze Partyzantów', 'Borowska (Szpital)']\n",
      "Best Cost: 71.0\n",
      "Tramwajowa -> Hala Stulecia, 08:00:00 - 08:02:00, Line: 145\n",
      "Hala Stulecia -> Kliniki - Politechnika Wrocławska, 08:02:00 - 08:04:00, Line: 145\n",
      "Kliniki - Politechnika Wrocławska -> PL. GRUNWALDZKI, 08:04:00 - 08:06:00, Line: 145\n",
      "Time of trip: 08:00:00 - 08:06:00(6 minutes)\n",
      "08:06:00\n",
      "PL. GRUNWALDZKI -> most Grunwaldzki, 08:06:00 - 08:07:00, Line: 145\n",
      "most Grunwaldzki -> Poczta Główna, 08:07:00 - 08:09:00, Line: 145\n",
      "Poczta Główna -> skwer Krasińskiego, 08:09:00 - 08:11:00, Line: 145\n",
      "skwer Krasińskiego -> Wzgórze Partyzantów, 08:14:00 - 08:15:00, Line: 149\n",
      "Time of trip: 08:06:00 - 08:15:00(9 minutes)\n",
      "08:15:00\n",
      "Wzgórze Partyzantów -> DWORZEC GŁÓWNY, 08:15:00 - 08:17:00, Line: 5\n",
      "DWORZEC GŁÓWNY -> DWORZEC AUTOBUSOWY, 08:20:00 - 08:22:00, Line: 9\n",
      "DWORZEC AUTOBUSOWY -> Dyrekcyjna, 08:22:00 - 08:24:00, Line: 145\n",
      "Dyrekcyjna -> Borowska (Aquapark), 08:24:00 - 08:26:00, Line: 145\n",
      "Borowska (Aquapark) -> Śliczna, 08:26:00 - 08:28:00, Line: 145\n",
      "Śliczna -> ROD Bajki, 08:28:00 - 08:29:00, Line: 145\n",
      "ROD Bajki -> Działkowa, 08:29:00 - 08:31:00, Line: 145\n",
      "Działkowa -> Borowska (Szpital), 08:33:00 - 08:34:00, Line: 113\n",
      "Time of trip: 08:15:00 - 08:34:00(19 minutes)\n",
      "08:34:00\n",
      "Borowska (Szpital) -> Działkowa, 08:41:00 - 08:43:00, Line: 113\n",
      "Działkowa -> GAJ, 08:46:00 - 08:48:00, Line: 145\n",
      "GAJ -> Świeradowska, 08:48:00 - 08:49:00, Line: 145\n",
      "Świeradowska -> Morwowa, 08:49:00 - 08:51:00, Line: 145\n",
      "Morwowa -> Złotostocka, 08:54:00 - 08:55:00, Line: 100\n",
      "Złotostocka -> TARNOGAJ, 08:55:00 - 08:56:00, Line: 100\n",
      "TARNOGAJ -> Gazowa, 08:56:00 - 08:57:00, Line: 100\n",
      "Gazowa -> Karwińska, 08:57:00 - 09:00:00, Line: 100\n",
      "Karwińska -> Park Wschodni, 09:01:00 - 09:02:00, Line: 5\n",
      "Park Wschodni -> Armii Krajowej, 09:02:00 - 09:03:00, Line: 5\n",
      "Armii Krajowej -> Międzyrzecka, 09:05:00 - 09:07:00, Line: 143\n",
      "Międzyrzecka -> Biegasa, 09:07:00 - 09:09:00, Line: 143\n",
      "Biegasa -> Chełmońskiego, 09:09:00 - 09:10:00, Line: 143\n",
      "Chełmońskiego -> Tramwajowa, 09:10:00 - 09:11:00, Line: 4\n",
      "Time of trip: 08:34:00 - 09:11:00(37 minutes)\n",
      "09:11:00\n"
     ]
    }
   ],
   "source": [
    "import copy\n",
    "\n",
    "class TabuSearch:\n",
    "    def __init__(self, station_names, start, time, tabu_list_size=10, max_iterations=1000,start_line = None,heuristic = None):\n",
    "        self.start = start\n",
    "        self.time = time\n",
    "        self.initial_solution = extract_station_names(station_names)\n",
    "        self.tabu_list_size = tabu_list_size\n",
    "        self.max_iterations = max_iterations\n",
    "        self.max_sol_set = math.factorial(len(station_names))\n",
    "        self.precalculated_solution = {}\n",
    "        self.use_aspiration = False # for now i do not use aspiration\n",
    "        self.start_line = start_line\n",
    "        self.heuristic = heuristic\n",
    "\n",
    "    def set_tabu_list_size(self):\n",
    "        self.tabu_list_size = self.max_sol_set // 2 \n",
    "\n",
    "    def aspiration(self, iteration):\n",
    "        return self.use_aspiration and iteration % self.tabu_list_size == 0\n",
    "    \n",
    "    def process_result(self,result,start_time,optimization_criterion,current_line):\n",
    "        last_connection = edge_hashmap.get(result[-1])\n",
    "        end_time = last_connection[2]['arrival_time']\n",
    "        end_line = last_connection[2]['line']\n",
    "        transfer_count = 0\n",
    "        if optimization_criterion == \"p\":\n",
    "            for edge_id_to_find in result:\n",
    "                edge = edge_hashmap.get(edge_id_to_find)\n",
    "                line = edge[2]['line']\n",
    "                if line != current_line:\n",
    "                    current_line = line\n",
    "                    transfer_count +=1\n",
    "            cost = transfer_count\n",
    "        elif optimization_criterion == \"t\":\n",
    "            time_difference = calculate_time_difference(str_to_time(start_time),end_time)      \n",
    "            cost = time_difference\n",
    "        else:\n",
    "            raise ValueError(\"Optimization criterion must be either 't' or 'p'\")\n",
    "        return cost,end_time,end_line\n",
    "               \n",
    "    # run consecutive a star\n",
    "    def evaluate_solution(self, solution, type,current_line):\n",
    "        #may mean total time difference or total bus-stop changes\n",
    "        total_cost = 0\n",
    "        line_name = current_line\n",
    "        solution_set =  []\n",
    "        current_time = self.time\n",
    "        \n",
    "        for i in range(len(solution) - 1):\n",
    "            current_node = solution[i]\n",
    "            next_node = solution[(i + 1) % len(solution)]\n",
    "            # to not recalculate each time, save connection weights in dictionary and then extract it \n",
    "            # time is needed since from a to b depends on time\n",
    "            \n",
    "            \n",
    "            result_a_star = a_star(current_node,next_node,type,current_time,self.heuristic,line_name) # self.time should be start time \n",
    "            cost,end_time,end_line = self.process_result(result_a_star,current_time,type,line_name)\n",
    "            solution_set.append(result_a_star)\n",
    "            total_cost += cost\n",
    "            end_time_str = end_time.strftime(\"%H:%M:%S\")\n",
    "            current_time = end_time_str\n",
    "            line_name = end_line\n",
    "        return total_cost,solution_set\n",
    "\n",
    "    # is in fact used to prepare all permutations of initial_solution\n",
    "    def get_neighbors(self, solution: list[str]):\n",
    "        neighbors= []\n",
    "        for i in range(len(solution)):\n",
    "            for j in range(i + 1, len(solution)):\n",
    "                neighbor = copy.deepcopy(solution)\n",
    "                neighbor[i], neighbor[j] = neighbor[j], neighbor[i]\n",
    "                neighbors.append(neighbor)\n",
    "        return neighbors\n",
    "\n",
    "    def tabu_search(self, type):\n",
    "        current_solution = self.initial_solution\n",
    "        best_solution = current_solution\n",
    "        best_iteration = 0\n",
    "        tabu_list = []\n",
    "        iterations = 0\n",
    "\n",
    "        while iterations < self.max_iterations:\n",
    "            neighbors = self.get_neighbors(current_solution)\n",
    "            best_neighbor = None\n",
    "            best_neighbor_cost = float('inf')\n",
    "\n",
    "            for neighbor in neighbors:\n",
    "                neighbor_cost, _ = self.evaluate_solution([self.start] + neighbor + [self.start], type,self.start_line)\n",
    "                if neighbor not in tabu_list and neighbor_cost < best_neighbor_cost:\n",
    "                    best_neighbor = neighbor\n",
    "                    best_neighbor_cost = neighbor_cost\n",
    "\n",
    "            if best_neighbor:\n",
    "                current_solution = best_neighbor\n",
    "                tabu_list.append(best_neighbor)\n",
    "                if len(tabu_list) > self.tabu_list_size:\n",
    "                    tabu_list.pop(0)\n",
    "                if self.aspiration(iterations):\n",
    "                    tabu_list = []\n",
    "\n",
    "\n",
    "                if best_neighbor_cost < self.evaluate_solution([self.start] + best_solution + [self.start], type,self.start_line)[0]:\n",
    "                    best_solution = best_neighbor\n",
    "    \n",
    "            iterations += 1\n",
    "        return best_solution, self.evaluate_solution([self.start] + best_solution + [self.start], type,self.start_line)\n",
    "\n",
    "\n",
    "# Initial solution\n",
    "station_names = \"PL. GRUNWALDZKI;Borowska (Szpital);Wzgórze Partyzantów\"\n",
    "\n",
    "# Create TabuSearch object and run tabu search\n",
    "tabu_search = TabuSearch(station_names, \"Tramwajowa\", \"08:00:00\", max_iterations = 3,heuristic = manhattan_distance)\n",
    "tabu_search.set_tabu_list_size()\n",
    "best_solution, best_cost = tabu_search.tabu_search(\"t\")\n",
    "\n",
    "print(\"Best Solution:\", best_solution)\n",
    "print(\"Best Cost:\", best_cost[0])\n",
    "display_answer_tabu_search(best_cost[1],\"08:00:00\")"
   ]
  }
 ],
 "metadata": {
  "kernelspec": {
   "display_name": "Python 3",
   "language": "python",
   "name": "python3"
  },
  "language_info": {
   "codemirror_mode": {
    "name": "ipython",
    "version": 2
   },
   "file_extension": ".py",
   "mimetype": "text/x-python",
   "name": "python",
   "nbconvert_exporter": "python",
   "pygments_lexer": "ipython2",
   "version": "2.7.6"
  }
 },
 "nbformat": 4,
 "nbformat_minor": 5
}
